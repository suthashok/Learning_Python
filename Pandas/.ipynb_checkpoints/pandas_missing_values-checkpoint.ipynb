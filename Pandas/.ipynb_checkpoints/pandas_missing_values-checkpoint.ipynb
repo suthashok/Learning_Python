{
 "cells": [
  {
   "cell_type": "code",
   "execution_count": 21,
   "metadata": {},
   "outputs": [],
   "source": [
    "import pandas as pd"
   ]
  },
  {
   "cell_type": "markdown",
   "metadata": {},
   "source": [
    "#### Load Data"
   ]
  },
  {
   "cell_type": "code",
   "execution_count": 10,
   "metadata": {
    "collapsed": true
   },
   "outputs": [
    {
     "name": "stdout",
     "output_type": "stream",
     "text": [
      "Help on function read_csv in module pandas.io.parsers:\n",
      "\n",
      "read_csv(filepath_or_buffer: Union[str, pathlib.Path, IO[~AnyStr]], sep=',', delimiter=None, header='infer', names=None, index_col=None, usecols=None, squeeze=False, prefix=None, mangle_dupe_cols=True, dtype=None, engine=None, converters=None, true_values=None, false_values=None, skipinitialspace=False, skiprows=None, skipfooter=0, nrows=None, na_values=None, keep_default_na=True, na_filter=True, verbose=False, skip_blank_lines=True, parse_dates=False, infer_datetime_format=False, keep_date_col=False, date_parser=None, dayfirst=False, cache_dates=True, iterator=False, chunksize=None, compression='infer', thousands=None, decimal: str = '.', lineterminator=None, quotechar='\"', quoting=0, doublequote=True, escapechar=None, comment=None, encoding=None, dialect=None, error_bad_lines=True, warn_bad_lines=True, delim_whitespace=False, low_memory=True, memory_map=False, float_precision=None)\n",
      "    Read a comma-separated values (csv) file into DataFrame.\n",
      "    \n",
      "    Also supports optionally iterating or breaking of the file\n",
      "    into chunks.\n",
      "    \n",
      "    Additional help can be found in the online docs for\n",
      "    `IO Tools <https://pandas.pydata.org/pandas-docs/stable/user_guide/io.html>`_.\n",
      "    \n",
      "    Parameters\n",
      "    ----------\n",
      "    filepath_or_buffer : str, path object or file-like object\n",
      "        Any valid string path is acceptable. The string could be a URL. Valid\n",
      "        URL schemes include http, ftp, s3, gs, and file. For file URLs, a host is\n",
      "        expected. A local file could be: file://localhost/path/to/table.csv.\n",
      "    \n",
      "        If you want to pass in a path object, pandas accepts any ``os.PathLike``.\n",
      "    \n",
      "        By file-like object, we refer to objects with a ``read()`` method, such as\n",
      "        a file handler (e.g. via builtin ``open`` function) or ``StringIO``.\n",
      "    sep : str, default ','\n",
      "        Delimiter to use. If sep is None, the C engine cannot automatically detect\n",
      "        the separator, but the Python parsing engine can, meaning the latter will\n",
      "        be used and automatically detect the separator by Python's builtin sniffer\n",
      "        tool, ``csv.Sniffer``. In addition, separators longer than 1 character and\n",
      "        different from ``'\\s+'`` will be interpreted as regular expressions and\n",
      "        will also force the use of the Python parsing engine. Note that regex\n",
      "        delimiters are prone to ignoring quoted data. Regex example: ``'\\r\\t'``.\n",
      "    delimiter : str, default ``None``\n",
      "        Alias for sep.\n",
      "    header : int, list of int, default 'infer'\n",
      "        Row number(s) to use as the column names, and the start of the\n",
      "        data.  Default behavior is to infer the column names: if no names\n",
      "        are passed the behavior is identical to ``header=0`` and column\n",
      "        names are inferred from the first line of the file, if column\n",
      "        names are passed explicitly then the behavior is identical to\n",
      "        ``header=None``. Explicitly pass ``header=0`` to be able to\n",
      "        replace existing names. The header can be a list of integers that\n",
      "        specify row locations for a multi-index on the columns\n",
      "        e.g. [0,1,3]. Intervening rows that are not specified will be\n",
      "        skipped (e.g. 2 in this example is skipped). Note that this\n",
      "        parameter ignores commented lines and empty lines if\n",
      "        ``skip_blank_lines=True``, so ``header=0`` denotes the first line of\n",
      "        data rather than the first line of the file.\n",
      "    names : array-like, optional\n",
      "        List of column names to use. If the file contains a header row,\n",
      "        then you should explicitly pass ``header=0`` to override the column names.\n",
      "        Duplicates in this list are not allowed.\n",
      "    index_col : int, str, sequence of int / str, or False, default ``None``\n",
      "      Column(s) to use as the row labels of the ``DataFrame``, either given as\n",
      "      string name or column index. If a sequence of int / str is given, a\n",
      "      MultiIndex is used.\n",
      "    \n",
      "      Note: ``index_col=False`` can be used to force pandas to *not* use the first\n",
      "      column as the index, e.g. when you have a malformed file with delimiters at\n",
      "      the end of each line.\n",
      "    usecols : list-like or callable, optional\n",
      "        Return a subset of the columns. If list-like, all elements must either\n",
      "        be positional (i.e. integer indices into the document columns) or strings\n",
      "        that correspond to column names provided either by the user in `names` or\n",
      "        inferred from the document header row(s). For example, a valid list-like\n",
      "        `usecols` parameter would be ``[0, 1, 2]`` or ``['foo', 'bar', 'baz']``.\n",
      "        Element order is ignored, so ``usecols=[0, 1]`` is the same as ``[1, 0]``.\n",
      "        To instantiate a DataFrame from ``data`` with element order preserved use\n",
      "        ``pd.read_csv(data, usecols=['foo', 'bar'])[['foo', 'bar']]`` for columns\n",
      "        in ``['foo', 'bar']`` order or\n",
      "        ``pd.read_csv(data, usecols=['foo', 'bar'])[['bar', 'foo']]``\n",
      "        for ``['bar', 'foo']`` order.\n",
      "    \n",
      "        If callable, the callable function will be evaluated against the column\n",
      "        names, returning names where the callable function evaluates to True. An\n",
      "        example of a valid callable argument would be ``lambda x: x.upper() in\n",
      "        ['AAA', 'BBB', 'DDD']``. Using this parameter results in much faster\n",
      "        parsing time and lower memory usage.\n",
      "    squeeze : bool, default False\n",
      "        If the parsed data only contains one column then return a Series.\n",
      "    prefix : str, optional\n",
      "        Prefix to add to column numbers when no header, e.g. 'X' for X0, X1, ...\n",
      "    mangle_dupe_cols : bool, default True\n",
      "        Duplicate columns will be specified as 'X', 'X.1', ...'X.N', rather than\n",
      "        'X'...'X'. Passing in False will cause data to be overwritten if there\n",
      "        are duplicate names in the columns.\n",
      "    dtype : Type name or dict of column -> type, optional\n",
      "        Data type for data or columns. E.g. {'a': np.float64, 'b': np.int32,\n",
      "        'c': 'Int64'}\n",
      "        Use `str` or `object` together with suitable `na_values` settings\n",
      "        to preserve and not interpret dtype.\n",
      "        If converters are specified, they will be applied INSTEAD\n",
      "        of dtype conversion.\n",
      "    engine : {'c', 'python'}, optional\n",
      "        Parser engine to use. The C engine is faster while the python engine is\n",
      "        currently more feature-complete.\n",
      "    converters : dict, optional\n",
      "        Dict of functions for converting values in certain columns. Keys can either\n",
      "        be integers or column labels.\n",
      "    true_values : list, optional\n",
      "        Values to consider as True.\n",
      "    false_values : list, optional\n",
      "        Values to consider as False.\n",
      "    skipinitialspace : bool, default False\n",
      "        Skip spaces after delimiter.\n",
      "    skiprows : list-like, int or callable, optional\n",
      "        Line numbers to skip (0-indexed) or number of lines to skip (int)\n",
      "        at the start of the file.\n",
      "    \n",
      "        If callable, the callable function will be evaluated against the row\n",
      "        indices, returning True if the row should be skipped and False otherwise.\n",
      "        An example of a valid callable argument would be ``lambda x: x in [0, 2]``.\n",
      "    skipfooter : int, default 0\n",
      "        Number of lines at bottom of file to skip (Unsupported with engine='c').\n",
      "    nrows : int, optional\n",
      "        Number of rows of file to read. Useful for reading pieces of large files.\n",
      "    na_values : scalar, str, list-like, or dict, optional\n",
      "        Additional strings to recognize as NA/NaN. If dict passed, specific\n",
      "        per-column NA values.  By default the following values are interpreted as\n",
      "        NaN: '', '#N/A', '#N/A N/A', '#NA', '-1.#IND', '-1.#QNAN', '-NaN', '-nan',\n",
      "        '1.#IND', '1.#QNAN', '<NA>', 'N/A', 'NA', 'NULL', 'NaN', 'n/a',\n",
      "        'nan', 'null'.\n",
      "    keep_default_na : bool, default True\n",
      "        Whether or not to include the default NaN values when parsing the data.\n",
      "        Depending on whether `na_values` is passed in, the behavior is as follows:\n",
      "    \n",
      "        * If `keep_default_na` is True, and `na_values` are specified, `na_values`\n",
      "          is appended to the default NaN values used for parsing.\n",
      "        * If `keep_default_na` is True, and `na_values` are not specified, only\n",
      "          the default NaN values are used for parsing.\n",
      "        * If `keep_default_na` is False, and `na_values` are specified, only\n",
      "          the NaN values specified `na_values` are used for parsing.\n",
      "        * If `keep_default_na` is False, and `na_values` are not specified, no\n",
      "          strings will be parsed as NaN.\n",
      "    \n",
      "        Note that if `na_filter` is passed in as False, the `keep_default_na` and\n",
      "        `na_values` parameters will be ignored.\n",
      "    na_filter : bool, default True\n",
      "        Detect missing value markers (empty strings and the value of na_values). In\n",
      "        data without any NAs, passing na_filter=False can improve the performance\n",
      "        of reading a large file.\n",
      "    verbose : bool, default False\n",
      "        Indicate number of NA values placed in non-numeric columns.\n",
      "    skip_blank_lines : bool, default True\n",
      "        If True, skip over blank lines rather than interpreting as NaN values.\n",
      "    parse_dates : bool or list of int or names or list of lists or dict, default False\n",
      "        The behavior is as follows:\n",
      "    \n",
      "        * boolean. If True -> try parsing the index.\n",
      "        * list of int or names. e.g. If [1, 2, 3] -> try parsing columns 1, 2, 3\n",
      "          each as a separate date column.\n",
      "        * list of lists. e.g.  If [[1, 3]] -> combine columns 1 and 3 and parse as\n",
      "          a single date column.\n",
      "        * dict, e.g. {'foo' : [1, 3]} -> parse columns 1, 3 as date and call\n",
      "          result 'foo'\n",
      "    \n",
      "        If a column or index cannot be represented as an array of datetimes,\n",
      "        say because of an unparseable value or a mixture of timezones, the column\n",
      "        or index will be returned unaltered as an object data type. For\n",
      "        non-standard datetime parsing, use ``pd.to_datetime`` after\n",
      "        ``pd.read_csv``. To parse an index or column with a mixture of timezones,\n",
      "        specify ``date_parser`` to be a partially-applied\n",
      "        :func:`pandas.to_datetime` with ``utc=True``. See\n",
      "        :ref:`io.csv.mixed_timezones` for more.\n",
      "    \n",
      "        Note: A fast-path exists for iso8601-formatted dates.\n",
      "    infer_datetime_format : bool, default False\n",
      "        If True and `parse_dates` is enabled, pandas will attempt to infer the\n",
      "        format of the datetime strings in the columns, and if it can be inferred,\n",
      "        switch to a faster method of parsing them. In some cases this can increase\n",
      "        the parsing speed by 5-10x.\n",
      "    keep_date_col : bool, default False\n",
      "        If True and `parse_dates` specifies combining multiple columns then\n",
      "        keep the original columns.\n",
      "    date_parser : function, optional\n",
      "        Function to use for converting a sequence of string columns to an array of\n",
      "        datetime instances. The default uses ``dateutil.parser.parser`` to do the\n",
      "        conversion. Pandas will try to call `date_parser` in three different ways,\n",
      "        advancing to the next if an exception occurs: 1) Pass one or more arrays\n",
      "        (as defined by `parse_dates`) as arguments; 2) concatenate (row-wise) the\n",
      "        string values from the columns defined by `parse_dates` into a single array\n",
      "        and pass that; and 3) call `date_parser` once for each row using one or\n",
      "        more strings (corresponding to the columns defined by `parse_dates`) as\n",
      "        arguments.\n",
      "    dayfirst : bool, default False\n",
      "        DD/MM format dates, international and European format.\n",
      "    cache_dates : bool, default True\n",
      "        If True, use a cache of unique, converted dates to apply the datetime\n",
      "        conversion. May produce significant speed-up when parsing duplicate\n",
      "        date strings, especially ones with timezone offsets.\n",
      "    \n",
      "        .. versionadded:: 0.25.0\n",
      "    iterator : bool, default False\n",
      "        Return TextFileReader object for iteration or getting chunks with\n",
      "        ``get_chunk()``.\n",
      "    chunksize : int, optional\n",
      "        Return TextFileReader object for iteration.\n",
      "        See the `IO Tools docs\n",
      "        <https://pandas.pydata.org/pandas-docs/stable/io.html#io-chunking>`_\n",
      "        for more information on ``iterator`` and ``chunksize``.\n",
      "    compression : {'infer', 'gzip', 'bz2', 'zip', 'xz', None}, default 'infer'\n",
      "        For on-the-fly decompression of on-disk data. If 'infer' and\n",
      "        `filepath_or_buffer` is path-like, then detect compression from the\n",
      "        following extensions: '.gz', '.bz2', '.zip', or '.xz' (otherwise no\n",
      "        decompression). If using 'zip', the ZIP file must contain only one data\n",
      "        file to be read in. Set to None for no decompression.\n",
      "    thousands : str, optional\n",
      "        Thousands separator.\n",
      "    decimal : str, default '.'\n",
      "        Character to recognize as decimal point (e.g. use ',' for European data).\n",
      "    lineterminator : str (length 1), optional\n",
      "        Character to break file into lines. Only valid with C parser.\n",
      "    quotechar : str (length 1), optional\n",
      "        The character used to denote the start and end of a quoted item. Quoted\n",
      "        items can include the delimiter and it will be ignored.\n",
      "    quoting : int or csv.QUOTE_* instance, default 0\n",
      "        Control field quoting behavior per ``csv.QUOTE_*`` constants. Use one of\n",
      "        QUOTE_MINIMAL (0), QUOTE_ALL (1), QUOTE_NONNUMERIC (2) or QUOTE_NONE (3).\n",
      "    doublequote : bool, default ``True``\n",
      "       When quotechar is specified and quoting is not ``QUOTE_NONE``, indicate\n",
      "       whether or not to interpret two consecutive quotechar elements INSIDE a\n",
      "       field as a single ``quotechar`` element.\n",
      "    escapechar : str (length 1), optional\n",
      "        One-character string used to escape other characters.\n",
      "    comment : str, optional\n",
      "        Indicates remainder of line should not be parsed. If found at the beginning\n",
      "        of a line, the line will be ignored altogether. This parameter must be a\n",
      "        single character. Like empty lines (as long as ``skip_blank_lines=True``),\n",
      "        fully commented lines are ignored by the parameter `header` but not by\n",
      "        `skiprows`. For example, if ``comment='#'``, parsing\n",
      "        ``#empty\\na,b,c\\n1,2,3`` with ``header=0`` will result in 'a,b,c' being\n",
      "        treated as the header.\n",
      "    encoding : str, optional\n",
      "        Encoding to use for UTF when reading/writing (ex. 'utf-8'). `List of Python\n",
      "        standard encodings\n",
      "        <https://docs.python.org/3/library/codecs.html#standard-encodings>`_ .\n",
      "    dialect : str or csv.Dialect, optional\n",
      "        If provided, this parameter will override values (default or not) for the\n",
      "        following parameters: `delimiter`, `doublequote`, `escapechar`,\n",
      "        `skipinitialspace`, `quotechar`, and `quoting`. If it is necessary to\n",
      "        override values, a ParserWarning will be issued. See csv.Dialect\n",
      "        documentation for more details.\n",
      "    error_bad_lines : bool, default True\n",
      "        Lines with too many fields (e.g. a csv line with too many commas) will by\n",
      "        default cause an exception to be raised, and no DataFrame will be returned.\n",
      "        If False, then these \"bad lines\" will dropped from the DataFrame that is\n",
      "        returned.\n",
      "    warn_bad_lines : bool, default True\n",
      "        If error_bad_lines is False, and warn_bad_lines is True, a warning for each\n",
      "        \"bad line\" will be output.\n",
      "    delim_whitespace : bool, default False\n",
      "        Specifies whether or not whitespace (e.g. ``' '`` or ``'    '``) will be\n",
      "        used as the sep. Equivalent to setting ``sep='\\s+'``. If this option\n",
      "        is set to True, nothing should be passed in for the ``delimiter``\n",
      "        parameter.\n",
      "    low_memory : bool, default True\n",
      "        Internally process the file in chunks, resulting in lower memory use\n",
      "        while parsing, but possibly mixed type inference.  To ensure no mixed\n",
      "        types either set False, or specify the type with the `dtype` parameter.\n",
      "        Note that the entire file is read into a single DataFrame regardless,\n",
      "        use the `chunksize` or `iterator` parameter to return the data in chunks.\n",
      "        (Only valid with C parser).\n",
      "    memory_map : bool, default False\n",
      "        If a filepath is provided for `filepath_or_buffer`, map the file object\n",
      "        directly onto memory and access the data directly from there. Using this\n",
      "        option can improve performance because there is no longer any I/O overhead.\n",
      "    float_precision : str, optional\n",
      "        Specifies which converter the C engine should use for floating-point\n",
      "        values. The options are `None` for the ordinary converter,\n",
      "        `high` for the high-precision converter, and `round_trip` for the\n",
      "        round-trip converter.\n",
      "    \n",
      "    Returns\n",
      "    -------\n",
      "    DataFrame or TextParser\n",
      "        A comma-separated values (csv) file is returned as two-dimensional\n",
      "        data structure with labeled axes.\n",
      "    \n",
      "    See Also\n",
      "    --------\n",
      "    DataFrame.to_csv : Write DataFrame to a comma-separated values (csv) file.\n",
      "    read_csv : Read a comma-separated values (csv) file into DataFrame.\n",
      "    read_fwf : Read a table of fixed-width formatted lines into DataFrame.\n",
      "    \n",
      "    Examples\n",
      "    --------\n",
      "    >>> pd.read_csv('data.csv')  # doctest: +SKIP\n",
      "\n"
     ]
    }
   ],
   "source": [
    "help(pd.read_csv)"
   ]
  },
  {
   "cell_type": "code",
   "execution_count": 53,
   "metadata": {},
   "outputs": [],
   "source": [
    "df=pd.read_csv('car_financing.csv')"
   ]
  },
  {
   "cell_type": "code",
   "execution_count": 24,
   "metadata": {},
   "outputs": [
    {
     "data": {
      "text/html": [
       "<div>\n",
       "<style scoped>\n",
       "    .dataframe tbody tr th:only-of-type {\n",
       "        vertical-align: middle;\n",
       "    }\n",
       "\n",
       "    .dataframe tbody tr th {\n",
       "        vertical-align: top;\n",
       "    }\n",
       "\n",
       "    .dataframe thead th {\n",
       "        text-align: right;\n",
       "    }\n",
       "</style>\n",
       "<table border=\"1\" class=\"dataframe\">\n",
       "  <thead>\n",
       "    <tr style=\"text-align: right;\">\n",
       "      <th></th>\n",
       "      <th>Month</th>\n",
       "      <th>Starting Balance</th>\n",
       "      <th>Repayment</th>\n",
       "      <th>Interest Paid</th>\n",
       "      <th>Principal Paid</th>\n",
       "      <th>New Balance</th>\n",
       "      <th>term</th>\n",
       "      <th>interest_rate</th>\n",
       "      <th>car_type</th>\n",
       "    </tr>\n",
       "  </thead>\n",
       "  <tbody>\n",
       "    <tr>\n",
       "      <th>0</th>\n",
       "      <td>1</td>\n",
       "      <td>34689.96</td>\n",
       "      <td>687.23</td>\n",
       "      <td>202.93</td>\n",
       "      <td>484.30</td>\n",
       "      <td>34205.66</td>\n",
       "      <td>60</td>\n",
       "      <td>0.0702</td>\n",
       "      <td>Toyota Sienna</td>\n",
       "    </tr>\n",
       "    <tr>\n",
       "      <th>1</th>\n",
       "      <td>2</td>\n",
       "      <td>34205.66</td>\n",
       "      <td>687.23</td>\n",
       "      <td>200.10</td>\n",
       "      <td>487.13</td>\n",
       "      <td>33718.53</td>\n",
       "      <td>60</td>\n",
       "      <td>0.0702</td>\n",
       "      <td>Toyota Sienna</td>\n",
       "    </tr>\n",
       "    <tr>\n",
       "      <th>2</th>\n",
       "      <td>3</td>\n",
       "      <td>33718.53</td>\n",
       "      <td>687.23</td>\n",
       "      <td>197.25</td>\n",
       "      <td>489.98</td>\n",
       "      <td>33228.55</td>\n",
       "      <td>60</td>\n",
       "      <td>0.0702</td>\n",
       "      <td>Toyota Sienna</td>\n",
       "    </tr>\n",
       "    <tr>\n",
       "      <th>3</th>\n",
       "      <td>4</td>\n",
       "      <td>33228.55</td>\n",
       "      <td>687.23</td>\n",
       "      <td>194.38</td>\n",
       "      <td>492.85</td>\n",
       "      <td>32735.70</td>\n",
       "      <td>60</td>\n",
       "      <td>0.0702</td>\n",
       "      <td>Toyota Sienna</td>\n",
       "    </tr>\n",
       "    <tr>\n",
       "      <th>4</th>\n",
       "      <td>5</td>\n",
       "      <td>32735.70</td>\n",
       "      <td>687.23</td>\n",
       "      <td>191.50</td>\n",
       "      <td>495.73</td>\n",
       "      <td>32239.97</td>\n",
       "      <td>60</td>\n",
       "      <td>0.0702</td>\n",
       "      <td>Toyota Sienna</td>\n",
       "    </tr>\n",
       "  </tbody>\n",
       "</table>\n",
       "</div>"
      ],
      "text/plain": [
       "   Month  Starting Balance  Repayment  Interest Paid  Principal Paid  \\\n",
       "0      1          34689.96     687.23         202.93          484.30   \n",
       "1      2          34205.66     687.23         200.10          487.13   \n",
       "2      3          33718.53     687.23         197.25          489.98   \n",
       "3      4          33228.55     687.23         194.38          492.85   \n",
       "4      5          32735.70     687.23         191.50          495.73   \n",
       "\n",
       "   New Balance  term  interest_rate       car_type  \n",
       "0     34205.66    60         0.0702  Toyota Sienna  \n",
       "1     33718.53    60         0.0702  Toyota Sienna  \n",
       "2     33228.55    60         0.0702  Toyota Sienna  \n",
       "3     32735.70    60         0.0702  Toyota Sienna  \n",
       "4     32239.97    60         0.0702  Toyota Sienna  "
      ]
     },
     "execution_count": 24,
     "metadata": {},
     "output_type": "execute_result"
    }
   ],
   "source": [
    "df.head()"
   ]
  },
  {
   "cell_type": "code",
   "execution_count": 25,
   "metadata": {},
   "outputs": [
    {
     "data": {
      "text/html": [
       "<div>\n",
       "<style scoped>\n",
       "    .dataframe tbody tr th:only-of-type {\n",
       "        vertical-align: middle;\n",
       "    }\n",
       "\n",
       "    .dataframe tbody tr th {\n",
       "        vertical-align: top;\n",
       "    }\n",
       "\n",
       "    .dataframe thead th {\n",
       "        text-align: right;\n",
       "    }\n",
       "</style>\n",
       "<table border=\"1\" class=\"dataframe\">\n",
       "  <thead>\n",
       "    <tr style=\"text-align: right;\">\n",
       "      <th></th>\n",
       "      <th>Month</th>\n",
       "      <th>Starting Balance</th>\n",
       "      <th>Repayment</th>\n",
       "      <th>Interest Paid</th>\n",
       "      <th>Principal Paid</th>\n",
       "      <th>New Balance</th>\n",
       "      <th>term</th>\n",
       "      <th>interest_rate</th>\n",
       "      <th>car_type</th>\n",
       "    </tr>\n",
       "  </thead>\n",
       "  <tbody>\n",
       "    <tr>\n",
       "      <th>403</th>\n",
       "      <td>56</td>\n",
       "      <td>3951.11</td>\n",
       "      <td>796.01</td>\n",
       "      <td>9.54</td>\n",
       "      <td>786.47</td>\n",
       "      <td>3164.64</td>\n",
       "      <td>60</td>\n",
       "      <td>0.029</td>\n",
       "      <td>VW Golf R</td>\n",
       "    </tr>\n",
       "    <tr>\n",
       "      <th>404</th>\n",
       "      <td>57</td>\n",
       "      <td>3164.64</td>\n",
       "      <td>796.01</td>\n",
       "      <td>7.64</td>\n",
       "      <td>788.37</td>\n",
       "      <td>2376.27</td>\n",
       "      <td>60</td>\n",
       "      <td>0.029</td>\n",
       "      <td>VW Golf R</td>\n",
       "    </tr>\n",
       "    <tr>\n",
       "      <th>405</th>\n",
       "      <td>58</td>\n",
       "      <td>2376.27</td>\n",
       "      <td>796.01</td>\n",
       "      <td>5.74</td>\n",
       "      <td>790.27</td>\n",
       "      <td>1586.00</td>\n",
       "      <td>60</td>\n",
       "      <td>0.029</td>\n",
       "      <td>VW Golf R</td>\n",
       "    </tr>\n",
       "    <tr>\n",
       "      <th>406</th>\n",
       "      <td>59</td>\n",
       "      <td>1586.00</td>\n",
       "      <td>796.01</td>\n",
       "      <td>3.83</td>\n",
       "      <td>792.18</td>\n",
       "      <td>793.82</td>\n",
       "      <td>60</td>\n",
       "      <td>0.029</td>\n",
       "      <td>VW Golf R</td>\n",
       "    </tr>\n",
       "    <tr>\n",
       "      <th>407</th>\n",
       "      <td>60</td>\n",
       "      <td>793.82</td>\n",
       "      <td>796.01</td>\n",
       "      <td>1.91</td>\n",
       "      <td>794.10</td>\n",
       "      <td>-0.28</td>\n",
       "      <td>60</td>\n",
       "      <td>0.029</td>\n",
       "      <td>VW Golf R</td>\n",
       "    </tr>\n",
       "  </tbody>\n",
       "</table>\n",
       "</div>"
      ],
      "text/plain": [
       "     Month  Starting Balance  Repayment  Interest Paid  Principal Paid  \\\n",
       "403     56           3951.11     796.01           9.54          786.47   \n",
       "404     57           3164.64     796.01           7.64          788.37   \n",
       "405     58           2376.27     796.01           5.74          790.27   \n",
       "406     59           1586.00     796.01           3.83          792.18   \n",
       "407     60            793.82     796.01           1.91          794.10   \n",
       "\n",
       "     New Balance  term  interest_rate   car_type  \n",
       "403      3164.64    60          0.029  VW Golf R  \n",
       "404      2376.27    60          0.029  VW Golf R  \n",
       "405      1586.00    60          0.029  VW Golf R  \n",
       "406       793.82    60          0.029  VW Golf R  \n",
       "407        -0.28    60          0.029  VW Golf R  "
      ]
     },
     "execution_count": 25,
     "metadata": {},
     "output_type": "execute_result"
    }
   ],
   "source": [
    "df.tail()"
   ]
  },
  {
   "cell_type": "markdown",
   "metadata": {},
   "source": [
    "#### Data Types"
   ]
  },
  {
   "cell_type": "code",
   "execution_count": 27,
   "metadata": {},
   "outputs": [
    {
     "data": {
      "text/plain": [
       "Month                 int64\n",
       "Starting Balance    float64\n",
       "Repayment           float64\n",
       "Interest Paid       float64\n",
       "Principal Paid      float64\n",
       "New Balance         float64\n",
       "term                  int64\n",
       "interest_rate       float64\n",
       "car_type             object\n",
       "dtype: object"
      ]
     },
     "execution_count": 27,
     "metadata": {},
     "output_type": "execute_result"
    }
   ],
   "source": [
    "df.dtypes"
   ]
  },
  {
   "cell_type": "code",
   "execution_count": 29,
   "metadata": {},
   "outputs": [
    {
     "data": {
      "text/plain": [
       "(408, 9)"
      ]
     },
     "execution_count": 29,
     "metadata": {},
     "output_type": "execute_result"
    }
   ],
   "source": [
    "df.shape #Rows x Columns"
   ]
  },
  {
   "cell_type": "code",
   "execution_count": 30,
   "metadata": {},
   "outputs": [
    {
     "name": "stdout",
     "output_type": "stream",
     "text": [
      "<class 'pandas.core.frame.DataFrame'>\n",
      "RangeIndex: 408 entries, 0 to 407\n",
      "Data columns (total 9 columns):\n",
      " #   Column            Non-Null Count  Dtype  \n",
      "---  ------            --------------  -----  \n",
      " 0   Month             408 non-null    int64  \n",
      " 1   Starting Balance  408 non-null    float64\n",
      " 2   Repayment         408 non-null    float64\n",
      " 3   Interest Paid     407 non-null    float64\n",
      " 4   Principal Paid    408 non-null    float64\n",
      " 5   New Balance       408 non-null    float64\n",
      " 6   term              408 non-null    int64  \n",
      " 7   interest_rate     408 non-null    float64\n",
      " 8   car_type          408 non-null    object \n",
      "dtypes: float64(6), int64(2), object(1)\n",
      "memory usage: 28.8+ KB\n"
     ]
    }
   ],
   "source": [
    "df.info()"
   ]
  },
  {
   "cell_type": "markdown",
   "metadata": {},
   "source": [
    "#### Slicing"
   ]
  },
  {
   "cell_type": "code",
   "execution_count": 32,
   "metadata": {},
   "outputs": [
    {
     "data": {
      "text/html": [
       "<div>\n",
       "<style scoped>\n",
       "    .dataframe tbody tr th:only-of-type {\n",
       "        vertical-align: middle;\n",
       "    }\n",
       "\n",
       "    .dataframe tbody tr th {\n",
       "        vertical-align: top;\n",
       "    }\n",
       "\n",
       "    .dataframe thead th {\n",
       "        text-align: right;\n",
       "    }\n",
       "</style>\n",
       "<table border=\"1\" class=\"dataframe\">\n",
       "  <thead>\n",
       "    <tr style=\"text-align: right;\">\n",
       "      <th></th>\n",
       "      <th>car_type</th>\n",
       "    </tr>\n",
       "  </thead>\n",
       "  <tbody>\n",
       "    <tr>\n",
       "      <th>0</th>\n",
       "      <td>Toyota Sienna</td>\n",
       "    </tr>\n",
       "    <tr>\n",
       "      <th>1</th>\n",
       "      <td>Toyota Sienna</td>\n",
       "    </tr>\n",
       "    <tr>\n",
       "      <th>2</th>\n",
       "      <td>Toyota Sienna</td>\n",
       "    </tr>\n",
       "    <tr>\n",
       "      <th>3</th>\n",
       "      <td>Toyota Sienna</td>\n",
       "    </tr>\n",
       "    <tr>\n",
       "      <th>4</th>\n",
       "      <td>Toyota Sienna</td>\n",
       "    </tr>\n",
       "  </tbody>\n",
       "</table>\n",
       "</div>"
      ],
      "text/plain": [
       "        car_type\n",
       "0  Toyota Sienna\n",
       "1  Toyota Sienna\n",
       "2  Toyota Sienna\n",
       "3  Toyota Sienna\n",
       "4  Toyota Sienna"
      ]
     },
     "execution_count": 32,
     "metadata": {},
     "output_type": "execute_result"
    }
   ],
   "source": [
    "df[['car_type']].head()"
   ]
  },
  {
   "cell_type": "code",
   "execution_count": 33,
   "metadata": {},
   "outputs": [
    {
     "data": {
      "text/html": [
       "<div>\n",
       "<style scoped>\n",
       "    .dataframe tbody tr th:only-of-type {\n",
       "        vertical-align: middle;\n",
       "    }\n",
       "\n",
       "    .dataframe tbody tr th {\n",
       "        vertical-align: top;\n",
       "    }\n",
       "\n",
       "    .dataframe thead th {\n",
       "        text-align: right;\n",
       "    }\n",
       "</style>\n",
       "<table border=\"1\" class=\"dataframe\">\n",
       "  <thead>\n",
       "    <tr style=\"text-align: right;\">\n",
       "      <th></th>\n",
       "      <th>car_type</th>\n",
       "      <th>Interest Paid</th>\n",
       "    </tr>\n",
       "  </thead>\n",
       "  <tbody>\n",
       "    <tr>\n",
       "      <th>0</th>\n",
       "      <td>Toyota Sienna</td>\n",
       "      <td>202.93</td>\n",
       "    </tr>\n",
       "    <tr>\n",
       "      <th>1</th>\n",
       "      <td>Toyota Sienna</td>\n",
       "      <td>200.10</td>\n",
       "    </tr>\n",
       "    <tr>\n",
       "      <th>2</th>\n",
       "      <td>Toyota Sienna</td>\n",
       "      <td>197.25</td>\n",
       "    </tr>\n",
       "    <tr>\n",
       "      <th>3</th>\n",
       "      <td>Toyota Sienna</td>\n",
       "      <td>194.38</td>\n",
       "    </tr>\n",
       "    <tr>\n",
       "      <th>4</th>\n",
       "      <td>Toyota Sienna</td>\n",
       "      <td>191.50</td>\n",
       "    </tr>\n",
       "  </tbody>\n",
       "</table>\n",
       "</div>"
      ],
      "text/plain": [
       "        car_type  Interest Paid\n",
       "0  Toyota Sienna         202.93\n",
       "1  Toyota Sienna         200.10\n",
       "2  Toyota Sienna         197.25\n",
       "3  Toyota Sienna         194.38\n",
       "4  Toyota Sienna         191.50"
      ]
     },
     "execution_count": 33,
     "metadata": {},
     "output_type": "execute_result"
    }
   ],
   "source": [
    "df[['car_type','Interest Paid']].head()"
   ]
  },
  {
   "cell_type": "code",
   "execution_count": 34,
   "metadata": {},
   "outputs": [
    {
     "data": {
      "text/plain": [
       "0    Toyota Sienna\n",
       "1    Toyota Sienna\n",
       "2    Toyota Sienna\n",
       "3    Toyota Sienna\n",
       "4    Toyota Sienna\n",
       "Name: car_type, dtype: object"
      ]
     },
     "execution_count": 34,
     "metadata": {},
     "output_type": "execute_result"
    }
   ],
   "source": [
    "df['car_type'].head()"
   ]
  },
  {
   "cell_type": "markdown",
   "metadata": {},
   "source": [
    "#### Selecting Series"
   ]
  },
  {
   "cell_type": "code",
   "execution_count": 37,
   "metadata": {},
   "outputs": [
    {
     "data": {
      "text/plain": [
       "0    Toyota Sienna\n",
       "1    Toyota Sienna\n",
       "2    Toyota Sienna\n",
       "3    Toyota Sienna\n",
       "4    Toyota Sienna\n",
       "5    Toyota Sienna\n",
       "6    Toyota Sienna\n",
       "7    Toyota Sienna\n",
       "8    Toyota Sienna\n",
       "9    Toyota Sienna\n",
       "Name: car_type, dtype: object"
      ]
     },
     "execution_count": 37,
     "metadata": {},
     "output_type": "execute_result"
    }
   ],
   "source": [
    "df['car_type'][0:10]"
   ]
  },
  {
   "cell_type": "code",
   "execution_count": 38,
   "metadata": {},
   "outputs": [
    {
     "data": {
      "text/plain": [
       "0    Toyota Sienna\n",
       "1    Toyota Sienna\n",
       "2    Toyota Sienna\n",
       "3    Toyota Sienna\n",
       "4    Toyota Sienna\n",
       "Name: car_type, dtype: object"
      ]
     },
     "execution_count": 38,
     "metadata": {},
     "output_type": "execute_result"
    }
   ],
   "source": [
    "df.car_type.head() #This wont work with column names having Space or column name is same as pandas methods"
   ]
  },
  {
   "cell_type": "code",
   "execution_count": 39,
   "metadata": {},
   "outputs": [
    {
     "data": {
      "text/plain": [
       "408"
      ]
     },
     "execution_count": 39,
     "metadata": {},
     "output_type": "execute_result"
    }
   ],
   "source": [
    "df.car_type.count()"
   ]
  },
  {
   "cell_type": "code",
   "execution_count": 40,
   "metadata": {},
   "outputs": [
    {
     "data": {
      "text/plain": [
       "VW Golf R         144\n",
       "Toyota Sienna     120\n",
       "Toyota Carolla    111\n",
       "Toyota Corolla     33\n",
       "Name: car_type, dtype: int64"
      ]
     },
     "execution_count": 40,
     "metadata": {},
     "output_type": "execute_result"
    }
   ],
   "source": [
    "df.car_type.value_counts()"
   ]
  },
  {
   "cell_type": "code",
   "execution_count": 54,
   "metadata": {},
   "outputs": [],
   "source": [
    "filter=df['car_type']=='Toyota Sienna'"
   ]
  },
  {
   "cell_type": "code",
   "execution_count": 55,
   "metadata": {},
   "outputs": [],
   "source": [
    "df=df[filter]"
   ]
  },
  {
   "cell_type": "code",
   "execution_count": 46,
   "metadata": {},
   "outputs": [
    {
     "data": {
      "text/plain": [
       "Toyota Sienna    120\n",
       "Name: car_type, dtype: int64"
      ]
     },
     "execution_count": 46,
     "metadata": {},
     "output_type": "execute_result"
    }
   ],
   "source": [
    "df.car_type.value_counts()"
   ]
  },
  {
   "cell_type": "code",
   "execution_count": 48,
   "metadata": {},
   "outputs": [
    {
     "data": {
      "text/plain": [
       "0.0702    60\n",
       "0.0359    60\n",
       "Name: interest_rate, dtype: int64"
      ]
     },
     "execution_count": 48,
     "metadata": {},
     "output_type": "execute_result"
    }
   ],
   "source": [
    "df.interest_rate.value_counts()"
   ]
  },
  {
   "cell_type": "code",
   "execution_count": 61,
   "metadata": {},
   "outputs": [],
   "source": [
    "filter_intrate=df['interest_rate']==0.0359"
   ]
  },
  {
   "cell_type": "code",
   "execution_count": 57,
   "metadata": {},
   "outputs": [],
   "source": [
    "df=df.loc[filtet_intrate,:]"
   ]
  },
  {
   "cell_type": "code",
   "execution_count": 58,
   "metadata": {},
   "outputs": [
    {
     "data": {
      "text/plain": [
       "0.0359    60\n",
       "Name: interest_rate, dtype: int64"
      ]
     },
     "execution_count": 58,
     "metadata": {},
     "output_type": "execute_result"
    }
   ],
   "source": [
    "df.interest_rate.value_counts(dropna=False)"
   ]
  },
  {
   "cell_type": "code",
   "execution_count": 62,
   "metadata": {},
   "outputs": [],
   "source": [
    "df=df.loc[filter&filter_intrate,:]"
   ]
  },
  {
   "cell_type": "markdown",
   "metadata": {},
   "source": [
    "####  Renaming Columns"
   ]
  },
  {
   "cell_type": "code",
   "execution_count": 65,
   "metadata": {},
   "outputs": [],
   "source": [
    "###Dictionary method"
   ]
  },
  {
   "cell_type": "code",
   "execution_count": 66,
   "metadata": {},
   "outputs": [
    {
     "data": {
      "text/plain": [
       "Index(['Month', 'Starting Balance', 'Repayment', 'Interest Paid',\n",
       "       'Principal Paid', 'New Balance', 'term', 'interest_rate', 'car_type'],\n",
       "      dtype='object')"
      ]
     },
     "execution_count": 66,
     "metadata": {},
     "output_type": "execute_result"
    }
   ],
   "source": [
    "df.columns"
   ]
  },
  {
   "cell_type": "code",
   "execution_count": 67,
   "metadata": {},
   "outputs": [],
   "source": [
    "df=df.rename(columns={'Starting Balance':'Starting_Balance',\n",
    "                     'Interest Paid':'Interest_Paid',\n",
    "                     'Principal Paid':'Principal_Paid',\n",
    "                     'New Balance':'New_Balance'})"
   ]
  },
  {
   "cell_type": "code",
   "execution_count": 70,
   "metadata": {},
   "outputs": [],
   "source": [
    "###List Method, But Error Prone"
   ]
  },
  {
   "cell_type": "code",
   "execution_count": 69,
   "metadata": {},
   "outputs": [],
   "source": [
    "df.columns=['Month', 'Starting_Balance', 'Repayment', 'Interest_Paid',\n",
    "       'Principal_Paid', 'New_Balance', 'term', 'interest_rate', 'car_type']"
   ]
  },
  {
   "cell_type": "markdown",
   "metadata": {},
   "source": [
    "#### Dropping Columns"
   ]
  },
  {
   "cell_type": "code",
   "execution_count": 71,
   "metadata": {},
   "outputs": [],
   "source": [
    "df=df.drop(columns=['term']) #dropping multiple Columns"
   ]
  },
  {
   "cell_type": "code",
   "execution_count": 72,
   "metadata": {},
   "outputs": [],
   "source": [
    "del df['Repayment'] #dropping single columns"
   ]
  },
  {
   "cell_type": "code",
   "execution_count": 73,
   "metadata": {},
   "outputs": [
    {
     "data": {
      "text/html": [
       "<div>\n",
       "<style scoped>\n",
       "    .dataframe tbody tr th:only-of-type {\n",
       "        vertical-align: middle;\n",
       "    }\n",
       "\n",
       "    .dataframe tbody tr th {\n",
       "        vertical-align: top;\n",
       "    }\n",
       "\n",
       "    .dataframe thead th {\n",
       "        text-align: right;\n",
       "    }\n",
       "</style>\n",
       "<table border=\"1\" class=\"dataframe\">\n",
       "  <thead>\n",
       "    <tr style=\"text-align: right;\">\n",
       "      <th></th>\n",
       "      <th>Month</th>\n",
       "      <th>Starting_Balance</th>\n",
       "      <th>Interest_Paid</th>\n",
       "      <th>Principal_Paid</th>\n",
       "      <th>New_Balance</th>\n",
       "      <th>interest_rate</th>\n",
       "      <th>car_type</th>\n",
       "    </tr>\n",
       "  </thead>\n",
       "  <tbody>\n",
       "    <tr>\n",
       "      <th>60</th>\n",
       "      <td>1</td>\n",
       "      <td>34689.96</td>\n",
       "      <td>103.78</td>\n",
       "      <td>528.69</td>\n",
       "      <td>34161.27</td>\n",
       "      <td>0.0359</td>\n",
       "      <td>Toyota Sienna</td>\n",
       "    </tr>\n",
       "    <tr>\n",
       "      <th>61</th>\n",
       "      <td>2</td>\n",
       "      <td>34161.27</td>\n",
       "      <td>102.19</td>\n",
       "      <td>530.28</td>\n",
       "      <td>33630.99</td>\n",
       "      <td>0.0359</td>\n",
       "      <td>Toyota Sienna</td>\n",
       "    </tr>\n",
       "    <tr>\n",
       "      <th>62</th>\n",
       "      <td>3</td>\n",
       "      <td>33630.99</td>\n",
       "      <td>100.61</td>\n",
       "      <td>531.86</td>\n",
       "      <td>33099.13</td>\n",
       "      <td>0.0359</td>\n",
       "      <td>Toyota Sienna</td>\n",
       "    </tr>\n",
       "    <tr>\n",
       "      <th>63</th>\n",
       "      <td>4</td>\n",
       "      <td>33099.13</td>\n",
       "      <td>99.02</td>\n",
       "      <td>533.45</td>\n",
       "      <td>32565.68</td>\n",
       "      <td>0.0359</td>\n",
       "      <td>Toyota Sienna</td>\n",
       "    </tr>\n",
       "    <tr>\n",
       "      <th>64</th>\n",
       "      <td>5</td>\n",
       "      <td>32565.68</td>\n",
       "      <td>97.42</td>\n",
       "      <td>535.05</td>\n",
       "      <td>32030.63</td>\n",
       "      <td>0.0359</td>\n",
       "      <td>Toyota Sienna</td>\n",
       "    </tr>\n",
       "  </tbody>\n",
       "</table>\n",
       "</div>"
      ],
      "text/plain": [
       "    Month  Starting_Balance  Interest_Paid  Principal_Paid  New_Balance  \\\n",
       "60      1          34689.96         103.78          528.69     34161.27   \n",
       "61      2          34161.27         102.19          530.28     33630.99   \n",
       "62      3          33630.99         100.61          531.86     33099.13   \n",
       "63      4          33099.13          99.02          533.45     32565.68   \n",
       "64      5          32565.68          97.42          535.05     32030.63   \n",
       "\n",
       "    interest_rate       car_type  \n",
       "60         0.0359  Toyota Sienna  \n",
       "61         0.0359  Toyota Sienna  \n",
       "62         0.0359  Toyota Sienna  \n",
       "63         0.0359  Toyota Sienna  \n",
       "64         0.0359  Toyota Sienna  "
      ]
     },
     "execution_count": 73,
     "metadata": {},
     "output_type": "execute_result"
    }
   ],
   "source": [
    "df.head()"
   ]
  },
  {
   "cell_type": "code",
   "execution_count": 74,
   "metadata": {},
   "outputs": [
    {
     "data": {
      "text/plain": [
       "3166.89"
      ]
     },
     "execution_count": 74,
     "metadata": {},
     "output_type": "execute_result"
    }
   ],
   "source": [
    "df['Interest_Paid'].sum()"
   ]
  },
  {
   "cell_type": "code",
   "execution_count": 75,
   "metadata": {},
   "outputs": [
    {
     "data": {
      "text/plain": [
       "Month                                                            1830\n",
       "Starting_Balance                                           1.0891e+06\n",
       "Interest_Paid                                                 3166.89\n",
       "Principal_Paid                                                34690.3\n",
       "New_Balance                                               1.05441e+06\n",
       "interest_rate                                                   2.154\n",
       "car_type            Toyota SiennaToyota SiennaToyota SiennaToyota ...\n",
       "dtype: object"
      ]
     },
     "execution_count": 75,
     "metadata": {},
     "output_type": "execute_result"
    }
   ],
   "source": [
    "df.sum() #Excludes NaN/Null by default"
   ]
  },
  {
   "cell_type": "markdown",
   "metadata": {},
   "source": [
    "#### Missing Data"
   ]
  },
  {
   "cell_type": "code",
   "execution_count": 76,
   "metadata": {},
   "outputs": [
    {
     "name": "stdout",
     "output_type": "stream",
     "text": [
      "<class 'pandas.core.frame.DataFrame'>\n",
      "Int64Index: 60 entries, 60 to 119\n",
      "Data columns (total 7 columns):\n",
      " #   Column            Non-Null Count  Dtype  \n",
      "---  ------            --------------  -----  \n",
      " 0   Month             60 non-null     int64  \n",
      " 1   Starting_Balance  60 non-null     float64\n",
      " 2   Interest_Paid     59 non-null     float64\n",
      " 3   Principal_Paid    60 non-null     float64\n",
      " 4   New_Balance       60 non-null     float64\n",
      " 5   interest_rate     60 non-null     float64\n",
      " 6   car_type          60 non-null     object \n",
      "dtypes: float64(5), int64(1), object(1)\n",
      "memory usage: 3.8+ KB\n"
     ]
    }
   ],
   "source": [
    "df.info()"
   ]
  },
  {
   "cell_type": "code",
   "execution_count": 77,
   "metadata": {
    "collapsed": true
   },
   "outputs": [
    {
     "data": {
      "text/plain": [
       "60     False\n",
       "61     False\n",
       "62     False\n",
       "63     False\n",
       "64     False\n",
       "65     False\n",
       "66     False\n",
       "67     False\n",
       "68      True\n",
       "69     False\n",
       "70     False\n",
       "71     False\n",
       "72     False\n",
       "73     False\n",
       "74     False\n",
       "75     False\n",
       "76     False\n",
       "77     False\n",
       "78     False\n",
       "79     False\n",
       "80     False\n",
       "81     False\n",
       "82     False\n",
       "83     False\n",
       "84     False\n",
       "85     False\n",
       "86     False\n",
       "87     False\n",
       "88     False\n",
       "89     False\n",
       "90     False\n",
       "91     False\n",
       "92     False\n",
       "93     False\n",
       "94     False\n",
       "95     False\n",
       "96     False\n",
       "97     False\n",
       "98     False\n",
       "99     False\n",
       "100    False\n",
       "101    False\n",
       "102    False\n",
       "103    False\n",
       "104    False\n",
       "105    False\n",
       "106    False\n",
       "107    False\n",
       "108    False\n",
       "109    False\n",
       "110    False\n",
       "111    False\n",
       "112    False\n",
       "113    False\n",
       "114    False\n",
       "115    False\n",
       "116    False\n",
       "117    False\n",
       "118    False\n",
       "119    False\n",
       "Name: Interest_Paid, dtype: bool"
      ]
     },
     "execution_count": 77,
     "metadata": {},
     "output_type": "execute_result"
    }
   ],
   "source": [
    "df['Interest_Paid'].isna()"
   ]
  },
  {
   "cell_type": "code",
   "execution_count": 78,
   "metadata": {},
   "outputs": [
    {
     "data": {
      "text/plain": [
       "1"
      ]
     },
     "execution_count": 78,
     "metadata": {},
     "output_type": "execute_result"
    }
   ],
   "source": [
    "df['Interest_Paid'].isna().sum()"
   ]
  },
  {
   "cell_type": "code",
   "execution_count": 79,
   "metadata": {},
   "outputs": [],
   "source": [
    "miss=df['Interest_Paid'].isna()"
   ]
  },
  {
   "cell_type": "code",
   "execution_count": 80,
   "metadata": {},
   "outputs": [
    {
     "data": {
      "text/html": [
       "<div>\n",
       "<style scoped>\n",
       "    .dataframe tbody tr th:only-of-type {\n",
       "        vertical-align: middle;\n",
       "    }\n",
       "\n",
       "    .dataframe tbody tr th {\n",
       "        vertical-align: top;\n",
       "    }\n",
       "\n",
       "    .dataframe thead th {\n",
       "        text-align: right;\n",
       "    }\n",
       "</style>\n",
       "<table border=\"1\" class=\"dataframe\">\n",
       "  <thead>\n",
       "    <tr style=\"text-align: right;\">\n",
       "      <th></th>\n",
       "      <th>Month</th>\n",
       "      <th>Starting_Balance</th>\n",
       "      <th>Interest_Paid</th>\n",
       "      <th>Principal_Paid</th>\n",
       "      <th>New_Balance</th>\n",
       "      <th>interest_rate</th>\n",
       "      <th>car_type</th>\n",
       "    </tr>\n",
       "  </thead>\n",
       "  <tbody>\n",
       "    <tr>\n",
       "      <th>68</th>\n",
       "      <td>9</td>\n",
       "      <td>30415.85</td>\n",
       "      <td>NaN</td>\n",
       "      <td>541.48</td>\n",
       "      <td>29874.37</td>\n",
       "      <td>0.0359</td>\n",
       "      <td>Toyota Sienna</td>\n",
       "    </tr>\n",
       "  </tbody>\n",
       "</table>\n",
       "</div>"
      ],
      "text/plain": [
       "    Month  Starting_Balance  Interest_Paid  Principal_Paid  New_Balance  \\\n",
       "68      9          30415.85            NaN          541.48     29874.37   \n",
       "\n",
       "    interest_rate       car_type  \n",
       "68         0.0359  Toyota Sienna  "
      ]
     },
     "execution_count": 80,
     "metadata": {},
     "output_type": "execute_result"
    }
   ],
   "source": [
    "df[miss]"
   ]
  },
  {
   "cell_type": "code",
   "execution_count": 82,
   "metadata": {},
   "outputs": [
    {
     "data": {
      "text/plain": [
       "1"
      ]
     },
     "execution_count": 82,
     "metadata": {},
     "output_type": "execute_result"
    }
   ],
   "source": [
    "True+False+False"
   ]
  },
  {
   "cell_type": "markdown",
   "metadata": {},
   "source": [
    "#### Filling Missing Values"
   ]
  },
  {
   "cell_type": "code",
   "execution_count": null,
   "metadata": {},
   "outputs": [],
   "source": [
    "#Remove missing Value"
   ]
  },
  {
   "cell_type": "code",
   "execution_count": 88,
   "metadata": {
    "collapsed": true
   },
   "outputs": [
    {
     "data": {
      "text/html": [
       "<div>\n",
       "<style scoped>\n",
       "    .dataframe tbody tr th:only-of-type {\n",
       "        vertical-align: middle;\n",
       "    }\n",
       "\n",
       "    .dataframe tbody tr th {\n",
       "        vertical-align: top;\n",
       "    }\n",
       "\n",
       "    .dataframe thead th {\n",
       "        text-align: right;\n",
       "    }\n",
       "</style>\n",
       "<table border=\"1\" class=\"dataframe\">\n",
       "  <thead>\n",
       "    <tr style=\"text-align: right;\">\n",
       "      <th></th>\n",
       "      <th>Month</th>\n",
       "      <th>Starting_Balance</th>\n",
       "      <th>Interest_Paid</th>\n",
       "      <th>Principal_Paid</th>\n",
       "      <th>New_Balance</th>\n",
       "      <th>interest_rate</th>\n",
       "      <th>car_type</th>\n",
       "    </tr>\n",
       "  </thead>\n",
       "  <tbody>\n",
       "    <tr>\n",
       "      <th>60</th>\n",
       "      <td>1</td>\n",
       "      <td>34689.96</td>\n",
       "      <td>103.78</td>\n",
       "      <td>528.69</td>\n",
       "      <td>34161.27</td>\n",
       "      <td>0.0359</td>\n",
       "      <td>Toyota Sienna</td>\n",
       "    </tr>\n",
       "    <tr>\n",
       "      <th>61</th>\n",
       "      <td>2</td>\n",
       "      <td>34161.27</td>\n",
       "      <td>102.19</td>\n",
       "      <td>530.28</td>\n",
       "      <td>33630.99</td>\n",
       "      <td>0.0359</td>\n",
       "      <td>Toyota Sienna</td>\n",
       "    </tr>\n",
       "    <tr>\n",
       "      <th>62</th>\n",
       "      <td>3</td>\n",
       "      <td>33630.99</td>\n",
       "      <td>100.61</td>\n",
       "      <td>531.86</td>\n",
       "      <td>33099.13</td>\n",
       "      <td>0.0359</td>\n",
       "      <td>Toyota Sienna</td>\n",
       "    </tr>\n",
       "    <tr>\n",
       "      <th>63</th>\n",
       "      <td>4</td>\n",
       "      <td>33099.13</td>\n",
       "      <td>99.02</td>\n",
       "      <td>533.45</td>\n",
       "      <td>32565.68</td>\n",
       "      <td>0.0359</td>\n",
       "      <td>Toyota Sienna</td>\n",
       "    </tr>\n",
       "    <tr>\n",
       "      <th>64</th>\n",
       "      <td>5</td>\n",
       "      <td>32565.68</td>\n",
       "      <td>97.42</td>\n",
       "      <td>535.05</td>\n",
       "      <td>32030.63</td>\n",
       "      <td>0.0359</td>\n",
       "      <td>Toyota Sienna</td>\n",
       "    </tr>\n",
       "    <tr>\n",
       "      <th>65</th>\n",
       "      <td>6</td>\n",
       "      <td>32030.63</td>\n",
       "      <td>95.82</td>\n",
       "      <td>536.65</td>\n",
       "      <td>31493.98</td>\n",
       "      <td>0.0359</td>\n",
       "      <td>Toyota Sienna</td>\n",
       "    </tr>\n",
       "    <tr>\n",
       "      <th>66</th>\n",
       "      <td>7</td>\n",
       "      <td>31493.98</td>\n",
       "      <td>94.21</td>\n",
       "      <td>538.26</td>\n",
       "      <td>30955.72</td>\n",
       "      <td>0.0359</td>\n",
       "      <td>Toyota Sienna</td>\n",
       "    </tr>\n",
       "    <tr>\n",
       "      <th>67</th>\n",
       "      <td>8</td>\n",
       "      <td>30955.72</td>\n",
       "      <td>92.60</td>\n",
       "      <td>539.87</td>\n",
       "      <td>30415.85</td>\n",
       "      <td>0.0359</td>\n",
       "      <td>Toyota Sienna</td>\n",
       "    </tr>\n",
       "    <tr>\n",
       "      <th>68</th>\n",
       "      <td>9</td>\n",
       "      <td>30415.85</td>\n",
       "      <td>NaN</td>\n",
       "      <td>541.48</td>\n",
       "      <td>29874.37</td>\n",
       "      <td>0.0359</td>\n",
       "      <td>Toyota Sienna</td>\n",
       "    </tr>\n",
       "    <tr>\n",
       "      <th>69</th>\n",
       "      <td>10</td>\n",
       "      <td>29874.37</td>\n",
       "      <td>89.37</td>\n",
       "      <td>543.10</td>\n",
       "      <td>29331.27</td>\n",
       "      <td>0.0359</td>\n",
       "      <td>Toyota Sienna</td>\n",
       "    </tr>\n",
       "    <tr>\n",
       "      <th>70</th>\n",
       "      <td>11</td>\n",
       "      <td>29331.27</td>\n",
       "      <td>87.74</td>\n",
       "      <td>544.73</td>\n",
       "      <td>28786.54</td>\n",
       "      <td>0.0359</td>\n",
       "      <td>Toyota Sienna</td>\n",
       "    </tr>\n",
       "    <tr>\n",
       "      <th>71</th>\n",
       "      <td>12</td>\n",
       "      <td>28786.54</td>\n",
       "      <td>86.11</td>\n",
       "      <td>546.36</td>\n",
       "      <td>28240.18</td>\n",
       "      <td>0.0359</td>\n",
       "      <td>Toyota Sienna</td>\n",
       "    </tr>\n",
       "    <tr>\n",
       "      <th>72</th>\n",
       "      <td>13</td>\n",
       "      <td>28240.18</td>\n",
       "      <td>84.48</td>\n",
       "      <td>547.99</td>\n",
       "      <td>27692.19</td>\n",
       "      <td>0.0359</td>\n",
       "      <td>Toyota Sienna</td>\n",
       "    </tr>\n",
       "    <tr>\n",
       "      <th>73</th>\n",
       "      <td>14</td>\n",
       "      <td>27692.19</td>\n",
       "      <td>82.84</td>\n",
       "      <td>549.63</td>\n",
       "      <td>27142.56</td>\n",
       "      <td>0.0359</td>\n",
       "      <td>Toyota Sienna</td>\n",
       "    </tr>\n",
       "    <tr>\n",
       "      <th>74</th>\n",
       "      <td>15</td>\n",
       "      <td>27142.56</td>\n",
       "      <td>81.20</td>\n",
       "      <td>551.27</td>\n",
       "      <td>26591.29</td>\n",
       "      <td>0.0359</td>\n",
       "      <td>Toyota Sienna</td>\n",
       "    </tr>\n",
       "    <tr>\n",
       "      <th>75</th>\n",
       "      <td>16</td>\n",
       "      <td>26591.29</td>\n",
       "      <td>79.55</td>\n",
       "      <td>552.92</td>\n",
       "      <td>26038.37</td>\n",
       "      <td>0.0359</td>\n",
       "      <td>Toyota Sienna</td>\n",
       "    </tr>\n",
       "    <tr>\n",
       "      <th>76</th>\n",
       "      <td>17</td>\n",
       "      <td>26038.37</td>\n",
       "      <td>77.89</td>\n",
       "      <td>554.58</td>\n",
       "      <td>25483.79</td>\n",
       "      <td>0.0359</td>\n",
       "      <td>Toyota Sienna</td>\n",
       "    </tr>\n",
       "    <tr>\n",
       "      <th>77</th>\n",
       "      <td>18</td>\n",
       "      <td>25483.79</td>\n",
       "      <td>76.23</td>\n",
       "      <td>556.24</td>\n",
       "      <td>24927.55</td>\n",
       "      <td>0.0359</td>\n",
       "      <td>Toyota Sienna</td>\n",
       "    </tr>\n",
       "    <tr>\n",
       "      <th>78</th>\n",
       "      <td>19</td>\n",
       "      <td>24927.55</td>\n",
       "      <td>74.57</td>\n",
       "      <td>557.90</td>\n",
       "      <td>24369.65</td>\n",
       "      <td>0.0359</td>\n",
       "      <td>Toyota Sienna</td>\n",
       "    </tr>\n",
       "    <tr>\n",
       "      <th>79</th>\n",
       "      <td>20</td>\n",
       "      <td>24369.65</td>\n",
       "      <td>72.90</td>\n",
       "      <td>559.57</td>\n",
       "      <td>23810.08</td>\n",
       "      <td>0.0359</td>\n",
       "      <td>Toyota Sienna</td>\n",
       "    </tr>\n",
       "    <tr>\n",
       "      <th>80</th>\n",
       "      <td>21</td>\n",
       "      <td>23810.08</td>\n",
       "      <td>71.23</td>\n",
       "      <td>561.24</td>\n",
       "      <td>23248.84</td>\n",
       "      <td>0.0359</td>\n",
       "      <td>Toyota Sienna</td>\n",
       "    </tr>\n",
       "    <tr>\n",
       "      <th>81</th>\n",
       "      <td>22</td>\n",
       "      <td>23248.84</td>\n",
       "      <td>69.55</td>\n",
       "      <td>562.92</td>\n",
       "      <td>22685.92</td>\n",
       "      <td>0.0359</td>\n",
       "      <td>Toyota Sienna</td>\n",
       "    </tr>\n",
       "    <tr>\n",
       "      <th>82</th>\n",
       "      <td>23</td>\n",
       "      <td>22685.92</td>\n",
       "      <td>67.86</td>\n",
       "      <td>564.61</td>\n",
       "      <td>22121.31</td>\n",
       "      <td>0.0359</td>\n",
       "      <td>Toyota Sienna</td>\n",
       "    </tr>\n",
       "    <tr>\n",
       "      <th>83</th>\n",
       "      <td>24</td>\n",
       "      <td>22121.31</td>\n",
       "      <td>66.17</td>\n",
       "      <td>566.30</td>\n",
       "      <td>21555.01</td>\n",
       "      <td>0.0359</td>\n",
       "      <td>Toyota Sienna</td>\n",
       "    </tr>\n",
       "    <tr>\n",
       "      <th>84</th>\n",
       "      <td>25</td>\n",
       "      <td>21555.01</td>\n",
       "      <td>64.48</td>\n",
       "      <td>567.99</td>\n",
       "      <td>20987.02</td>\n",
       "      <td>0.0359</td>\n",
       "      <td>Toyota Sienna</td>\n",
       "    </tr>\n",
       "    <tr>\n",
       "      <th>85</th>\n",
       "      <td>26</td>\n",
       "      <td>20987.02</td>\n",
       "      <td>62.78</td>\n",
       "      <td>569.69</td>\n",
       "      <td>20417.33</td>\n",
       "      <td>0.0359</td>\n",
       "      <td>Toyota Sienna</td>\n",
       "    </tr>\n",
       "    <tr>\n",
       "      <th>86</th>\n",
       "      <td>27</td>\n",
       "      <td>20417.33</td>\n",
       "      <td>61.08</td>\n",
       "      <td>571.39</td>\n",
       "      <td>19845.94</td>\n",
       "      <td>0.0359</td>\n",
       "      <td>Toyota Sienna</td>\n",
       "    </tr>\n",
       "    <tr>\n",
       "      <th>87</th>\n",
       "      <td>28</td>\n",
       "      <td>19845.94</td>\n",
       "      <td>59.37</td>\n",
       "      <td>573.10</td>\n",
       "      <td>19272.84</td>\n",
       "      <td>0.0359</td>\n",
       "      <td>Toyota Sienna</td>\n",
       "    </tr>\n",
       "    <tr>\n",
       "      <th>88</th>\n",
       "      <td>29</td>\n",
       "      <td>19272.84</td>\n",
       "      <td>57.65</td>\n",
       "      <td>574.82</td>\n",
       "      <td>18698.02</td>\n",
       "      <td>0.0359</td>\n",
       "      <td>Toyota Sienna</td>\n",
       "    </tr>\n",
       "    <tr>\n",
       "      <th>89</th>\n",
       "      <td>30</td>\n",
       "      <td>18698.02</td>\n",
       "      <td>55.93</td>\n",
       "      <td>576.54</td>\n",
       "      <td>18121.48</td>\n",
       "      <td>0.0359</td>\n",
       "      <td>Toyota Sienna</td>\n",
       "    </tr>\n",
       "    <tr>\n",
       "      <th>90</th>\n",
       "      <td>31</td>\n",
       "      <td>18121.48</td>\n",
       "      <td>54.21</td>\n",
       "      <td>578.26</td>\n",
       "      <td>17543.22</td>\n",
       "      <td>0.0359</td>\n",
       "      <td>Toyota Sienna</td>\n",
       "    </tr>\n",
       "    <tr>\n",
       "      <th>91</th>\n",
       "      <td>32</td>\n",
       "      <td>17543.22</td>\n",
       "      <td>52.48</td>\n",
       "      <td>579.99</td>\n",
       "      <td>16963.23</td>\n",
       "      <td>0.0359</td>\n",
       "      <td>Toyota Sienna</td>\n",
       "    </tr>\n",
       "    <tr>\n",
       "      <th>92</th>\n",
       "      <td>33</td>\n",
       "      <td>16963.23</td>\n",
       "      <td>50.74</td>\n",
       "      <td>581.73</td>\n",
       "      <td>16381.50</td>\n",
       "      <td>0.0359</td>\n",
       "      <td>Toyota Sienna</td>\n",
       "    </tr>\n",
       "    <tr>\n",
       "      <th>93</th>\n",
       "      <td>34</td>\n",
       "      <td>16381.50</td>\n",
       "      <td>49.00</td>\n",
       "      <td>583.47</td>\n",
       "      <td>15798.03</td>\n",
       "      <td>0.0359</td>\n",
       "      <td>Toyota Sienna</td>\n",
       "    </tr>\n",
       "    <tr>\n",
       "      <th>94</th>\n",
       "      <td>35</td>\n",
       "      <td>15798.03</td>\n",
       "      <td>47.26</td>\n",
       "      <td>585.21</td>\n",
       "      <td>15212.82</td>\n",
       "      <td>0.0359</td>\n",
       "      <td>Toyota Sienna</td>\n",
       "    </tr>\n",
       "    <tr>\n",
       "      <th>95</th>\n",
       "      <td>36</td>\n",
       "      <td>15212.82</td>\n",
       "      <td>45.51</td>\n",
       "      <td>586.96</td>\n",
       "      <td>14625.86</td>\n",
       "      <td>0.0359</td>\n",
       "      <td>Toyota Sienna</td>\n",
       "    </tr>\n",
       "    <tr>\n",
       "      <th>96</th>\n",
       "      <td>37</td>\n",
       "      <td>14625.86</td>\n",
       "      <td>43.75</td>\n",
       "      <td>588.72</td>\n",
       "      <td>14037.14</td>\n",
       "      <td>0.0359</td>\n",
       "      <td>Toyota Sienna</td>\n",
       "    </tr>\n",
       "    <tr>\n",
       "      <th>97</th>\n",
       "      <td>38</td>\n",
       "      <td>14037.14</td>\n",
       "      <td>41.99</td>\n",
       "      <td>590.48</td>\n",
       "      <td>13446.66</td>\n",
       "      <td>0.0359</td>\n",
       "      <td>Toyota Sienna</td>\n",
       "    </tr>\n",
       "    <tr>\n",
       "      <th>98</th>\n",
       "      <td>39</td>\n",
       "      <td>13446.66</td>\n",
       "      <td>40.22</td>\n",
       "      <td>592.25</td>\n",
       "      <td>12854.41</td>\n",
       "      <td>0.0359</td>\n",
       "      <td>Toyota Sienna</td>\n",
       "    </tr>\n",
       "    <tr>\n",
       "      <th>99</th>\n",
       "      <td>40</td>\n",
       "      <td>12854.41</td>\n",
       "      <td>38.45</td>\n",
       "      <td>594.02</td>\n",
       "      <td>12260.39</td>\n",
       "      <td>0.0359</td>\n",
       "      <td>Toyota Sienna</td>\n",
       "    </tr>\n",
       "    <tr>\n",
       "      <th>100</th>\n",
       "      <td>41</td>\n",
       "      <td>12260.39</td>\n",
       "      <td>36.67</td>\n",
       "      <td>595.80</td>\n",
       "      <td>11664.59</td>\n",
       "      <td>0.0359</td>\n",
       "      <td>Toyota Sienna</td>\n",
       "    </tr>\n",
       "    <tr>\n",
       "      <th>101</th>\n",
       "      <td>42</td>\n",
       "      <td>11664.59</td>\n",
       "      <td>34.89</td>\n",
       "      <td>597.58</td>\n",
       "      <td>11067.01</td>\n",
       "      <td>0.0359</td>\n",
       "      <td>Toyota Sienna</td>\n",
       "    </tr>\n",
       "    <tr>\n",
       "      <th>102</th>\n",
       "      <td>43</td>\n",
       "      <td>11067.01</td>\n",
       "      <td>33.10</td>\n",
       "      <td>599.37</td>\n",
       "      <td>10467.64</td>\n",
       "      <td>0.0359</td>\n",
       "      <td>Toyota Sienna</td>\n",
       "    </tr>\n",
       "    <tr>\n",
       "      <th>103</th>\n",
       "      <td>44</td>\n",
       "      <td>10467.64</td>\n",
       "      <td>31.31</td>\n",
       "      <td>601.16</td>\n",
       "      <td>9866.48</td>\n",
       "      <td>0.0359</td>\n",
       "      <td>Toyota Sienna</td>\n",
       "    </tr>\n",
       "    <tr>\n",
       "      <th>104</th>\n",
       "      <td>45</td>\n",
       "      <td>9866.48</td>\n",
       "      <td>29.51</td>\n",
       "      <td>602.96</td>\n",
       "      <td>9263.52</td>\n",
       "      <td>0.0359</td>\n",
       "      <td>Toyota Sienna</td>\n",
       "    </tr>\n",
       "    <tr>\n",
       "      <th>105</th>\n",
       "      <td>46</td>\n",
       "      <td>9263.52</td>\n",
       "      <td>27.71</td>\n",
       "      <td>604.76</td>\n",
       "      <td>8658.76</td>\n",
       "      <td>0.0359</td>\n",
       "      <td>Toyota Sienna</td>\n",
       "    </tr>\n",
       "    <tr>\n",
       "      <th>106</th>\n",
       "      <td>47</td>\n",
       "      <td>8658.76</td>\n",
       "      <td>25.90</td>\n",
       "      <td>606.57</td>\n",
       "      <td>8052.19</td>\n",
       "      <td>0.0359</td>\n",
       "      <td>Toyota Sienna</td>\n",
       "    </tr>\n",
       "    <tr>\n",
       "      <th>107</th>\n",
       "      <td>48</td>\n",
       "      <td>8052.19</td>\n",
       "      <td>24.08</td>\n",
       "      <td>608.39</td>\n",
       "      <td>7443.80</td>\n",
       "      <td>0.0359</td>\n",
       "      <td>Toyota Sienna</td>\n",
       "    </tr>\n",
       "    <tr>\n",
       "      <th>108</th>\n",
       "      <td>49</td>\n",
       "      <td>7443.80</td>\n",
       "      <td>22.26</td>\n",
       "      <td>610.21</td>\n",
       "      <td>6833.59</td>\n",
       "      <td>0.0359</td>\n",
       "      <td>Toyota Sienna</td>\n",
       "    </tr>\n",
       "    <tr>\n",
       "      <th>109</th>\n",
       "      <td>50</td>\n",
       "      <td>6833.59</td>\n",
       "      <td>20.44</td>\n",
       "      <td>612.03</td>\n",
       "      <td>6221.56</td>\n",
       "      <td>0.0359</td>\n",
       "      <td>Toyota Sienna</td>\n",
       "    </tr>\n",
       "    <tr>\n",
       "      <th>110</th>\n",
       "      <td>51</td>\n",
       "      <td>6221.56</td>\n",
       "      <td>18.61</td>\n",
       "      <td>613.86</td>\n",
       "      <td>5607.70</td>\n",
       "      <td>0.0359</td>\n",
       "      <td>Toyota Sienna</td>\n",
       "    </tr>\n",
       "    <tr>\n",
       "      <th>111</th>\n",
       "      <td>52</td>\n",
       "      <td>5607.70</td>\n",
       "      <td>16.77</td>\n",
       "      <td>615.70</td>\n",
       "      <td>4992.00</td>\n",
       "      <td>0.0359</td>\n",
       "      <td>Toyota Sienna</td>\n",
       "    </tr>\n",
       "    <tr>\n",
       "      <th>112</th>\n",
       "      <td>53</td>\n",
       "      <td>4992.00</td>\n",
       "      <td>14.93</td>\n",
       "      <td>617.54</td>\n",
       "      <td>4374.46</td>\n",
       "      <td>0.0359</td>\n",
       "      <td>Toyota Sienna</td>\n",
       "    </tr>\n",
       "    <tr>\n",
       "      <th>113</th>\n",
       "      <td>54</td>\n",
       "      <td>4374.46</td>\n",
       "      <td>13.08</td>\n",
       "      <td>619.39</td>\n",
       "      <td>3755.07</td>\n",
       "      <td>0.0359</td>\n",
       "      <td>Toyota Sienna</td>\n",
       "    </tr>\n",
       "    <tr>\n",
       "      <th>114</th>\n",
       "      <td>55</td>\n",
       "      <td>3755.07</td>\n",
       "      <td>11.23</td>\n",
       "      <td>621.24</td>\n",
       "      <td>3133.83</td>\n",
       "      <td>0.0359</td>\n",
       "      <td>Toyota Sienna</td>\n",
       "    </tr>\n",
       "    <tr>\n",
       "      <th>115</th>\n",
       "      <td>56</td>\n",
       "      <td>3133.83</td>\n",
       "      <td>9.37</td>\n",
       "      <td>623.10</td>\n",
       "      <td>2510.73</td>\n",
       "      <td>0.0359</td>\n",
       "      <td>Toyota Sienna</td>\n",
       "    </tr>\n",
       "    <tr>\n",
       "      <th>116</th>\n",
       "      <td>57</td>\n",
       "      <td>2510.73</td>\n",
       "      <td>7.51</td>\n",
       "      <td>624.96</td>\n",
       "      <td>1885.77</td>\n",
       "      <td>0.0359</td>\n",
       "      <td>Toyota Sienna</td>\n",
       "    </tr>\n",
       "    <tr>\n",
       "      <th>117</th>\n",
       "      <td>58</td>\n",
       "      <td>1885.77</td>\n",
       "      <td>5.64</td>\n",
       "      <td>626.83</td>\n",
       "      <td>1258.94</td>\n",
       "      <td>0.0359</td>\n",
       "      <td>Toyota Sienna</td>\n",
       "    </tr>\n",
       "    <tr>\n",
       "      <th>118</th>\n",
       "      <td>59</td>\n",
       "      <td>1258.94</td>\n",
       "      <td>3.76</td>\n",
       "      <td>628.71</td>\n",
       "      <td>630.23</td>\n",
       "      <td>0.0359</td>\n",
       "      <td>Toyota Sienna</td>\n",
       "    </tr>\n",
       "    <tr>\n",
       "      <th>119</th>\n",
       "      <td>60</td>\n",
       "      <td>630.23</td>\n",
       "      <td>1.88</td>\n",
       "      <td>630.59</td>\n",
       "      <td>-0.36</td>\n",
       "      <td>0.0359</td>\n",
       "      <td>Toyota Sienna</td>\n",
       "    </tr>\n",
       "  </tbody>\n",
       "</table>\n",
       "</div>"
      ],
      "text/plain": [
       "     Month  Starting_Balance  Interest_Paid  Principal_Paid  New_Balance  \\\n",
       "60       1          34689.96         103.78          528.69     34161.27   \n",
       "61       2          34161.27         102.19          530.28     33630.99   \n",
       "62       3          33630.99         100.61          531.86     33099.13   \n",
       "63       4          33099.13          99.02          533.45     32565.68   \n",
       "64       5          32565.68          97.42          535.05     32030.63   \n",
       "65       6          32030.63          95.82          536.65     31493.98   \n",
       "66       7          31493.98          94.21          538.26     30955.72   \n",
       "67       8          30955.72          92.60          539.87     30415.85   \n",
       "68       9          30415.85            NaN          541.48     29874.37   \n",
       "69      10          29874.37          89.37          543.10     29331.27   \n",
       "70      11          29331.27          87.74          544.73     28786.54   \n",
       "71      12          28786.54          86.11          546.36     28240.18   \n",
       "72      13          28240.18          84.48          547.99     27692.19   \n",
       "73      14          27692.19          82.84          549.63     27142.56   \n",
       "74      15          27142.56          81.20          551.27     26591.29   \n",
       "75      16          26591.29          79.55          552.92     26038.37   \n",
       "76      17          26038.37          77.89          554.58     25483.79   \n",
       "77      18          25483.79          76.23          556.24     24927.55   \n",
       "78      19          24927.55          74.57          557.90     24369.65   \n",
       "79      20          24369.65          72.90          559.57     23810.08   \n",
       "80      21          23810.08          71.23          561.24     23248.84   \n",
       "81      22          23248.84          69.55          562.92     22685.92   \n",
       "82      23          22685.92          67.86          564.61     22121.31   \n",
       "83      24          22121.31          66.17          566.30     21555.01   \n",
       "84      25          21555.01          64.48          567.99     20987.02   \n",
       "85      26          20987.02          62.78          569.69     20417.33   \n",
       "86      27          20417.33          61.08          571.39     19845.94   \n",
       "87      28          19845.94          59.37          573.10     19272.84   \n",
       "88      29          19272.84          57.65          574.82     18698.02   \n",
       "89      30          18698.02          55.93          576.54     18121.48   \n",
       "90      31          18121.48          54.21          578.26     17543.22   \n",
       "91      32          17543.22          52.48          579.99     16963.23   \n",
       "92      33          16963.23          50.74          581.73     16381.50   \n",
       "93      34          16381.50          49.00          583.47     15798.03   \n",
       "94      35          15798.03          47.26          585.21     15212.82   \n",
       "95      36          15212.82          45.51          586.96     14625.86   \n",
       "96      37          14625.86          43.75          588.72     14037.14   \n",
       "97      38          14037.14          41.99          590.48     13446.66   \n",
       "98      39          13446.66          40.22          592.25     12854.41   \n",
       "99      40          12854.41          38.45          594.02     12260.39   \n",
       "100     41          12260.39          36.67          595.80     11664.59   \n",
       "101     42          11664.59          34.89          597.58     11067.01   \n",
       "102     43          11067.01          33.10          599.37     10467.64   \n",
       "103     44          10467.64          31.31          601.16      9866.48   \n",
       "104     45           9866.48          29.51          602.96      9263.52   \n",
       "105     46           9263.52          27.71          604.76      8658.76   \n",
       "106     47           8658.76          25.90          606.57      8052.19   \n",
       "107     48           8052.19          24.08          608.39      7443.80   \n",
       "108     49           7443.80          22.26          610.21      6833.59   \n",
       "109     50           6833.59          20.44          612.03      6221.56   \n",
       "110     51           6221.56          18.61          613.86      5607.70   \n",
       "111     52           5607.70          16.77          615.70      4992.00   \n",
       "112     53           4992.00          14.93          617.54      4374.46   \n",
       "113     54           4374.46          13.08          619.39      3755.07   \n",
       "114     55           3755.07          11.23          621.24      3133.83   \n",
       "115     56           3133.83           9.37          623.10      2510.73   \n",
       "116     57           2510.73           7.51          624.96      1885.77   \n",
       "117     58           1885.77           5.64          626.83      1258.94   \n",
       "118     59           1258.94           3.76          628.71       630.23   \n",
       "119     60            630.23           1.88          630.59        -0.36   \n",
       "\n",
       "     interest_rate       car_type  \n",
       "60          0.0359  Toyota Sienna  \n",
       "61          0.0359  Toyota Sienna  \n",
       "62          0.0359  Toyota Sienna  \n",
       "63          0.0359  Toyota Sienna  \n",
       "64          0.0359  Toyota Sienna  \n",
       "65          0.0359  Toyota Sienna  \n",
       "66          0.0359  Toyota Sienna  \n",
       "67          0.0359  Toyota Sienna  \n",
       "68          0.0359  Toyota Sienna  \n",
       "69          0.0359  Toyota Sienna  \n",
       "70          0.0359  Toyota Sienna  \n",
       "71          0.0359  Toyota Sienna  \n",
       "72          0.0359  Toyota Sienna  \n",
       "73          0.0359  Toyota Sienna  \n",
       "74          0.0359  Toyota Sienna  \n",
       "75          0.0359  Toyota Sienna  \n",
       "76          0.0359  Toyota Sienna  \n",
       "77          0.0359  Toyota Sienna  \n",
       "78          0.0359  Toyota Sienna  \n",
       "79          0.0359  Toyota Sienna  \n",
       "80          0.0359  Toyota Sienna  \n",
       "81          0.0359  Toyota Sienna  \n",
       "82          0.0359  Toyota Sienna  \n",
       "83          0.0359  Toyota Sienna  \n",
       "84          0.0359  Toyota Sienna  \n",
       "85          0.0359  Toyota Sienna  \n",
       "86          0.0359  Toyota Sienna  \n",
       "87          0.0359  Toyota Sienna  \n",
       "88          0.0359  Toyota Sienna  \n",
       "89          0.0359  Toyota Sienna  \n",
       "90          0.0359  Toyota Sienna  \n",
       "91          0.0359  Toyota Sienna  \n",
       "92          0.0359  Toyota Sienna  \n",
       "93          0.0359  Toyota Sienna  \n",
       "94          0.0359  Toyota Sienna  \n",
       "95          0.0359  Toyota Sienna  \n",
       "96          0.0359  Toyota Sienna  \n",
       "97          0.0359  Toyota Sienna  \n",
       "98          0.0359  Toyota Sienna  \n",
       "99          0.0359  Toyota Sienna  \n",
       "100         0.0359  Toyota Sienna  \n",
       "101         0.0359  Toyota Sienna  \n",
       "102         0.0359  Toyota Sienna  \n",
       "103         0.0359  Toyota Sienna  \n",
       "104         0.0359  Toyota Sienna  \n",
       "105         0.0359  Toyota Sienna  \n",
       "106         0.0359  Toyota Sienna  \n",
       "107         0.0359  Toyota Sienna  \n",
       "108         0.0359  Toyota Sienna  \n",
       "109         0.0359  Toyota Sienna  \n",
       "110         0.0359  Toyota Sienna  \n",
       "111         0.0359  Toyota Sienna  \n",
       "112         0.0359  Toyota Sienna  \n",
       "113         0.0359  Toyota Sienna  \n",
       "114         0.0359  Toyota Sienna  \n",
       "115         0.0359  Toyota Sienna  \n",
       "116         0.0359  Toyota Sienna  \n",
       "117         0.0359  Toyota Sienna  \n",
       "118         0.0359  Toyota Sienna  \n",
       "119         0.0359  Toyota Sienna  "
      ]
     },
     "execution_count": 88,
     "metadata": {},
     "output_type": "execute_result"
    }
   ],
   "source": [
    "df"
   ]
  },
  {
   "cell_type": "code",
   "execution_count": 101,
   "metadata": {},
   "outputs": [
    {
     "data": {
      "text/plain": [
       "60    103.78\n",
       "61    102.19\n",
       "62    100.61\n",
       "63     99.02\n",
       "64     97.42\n",
       "65     95.82\n",
       "66     94.21\n",
       "67     92.60\n",
       "68      0.00\n",
       "69     89.37\n",
       "Name: Interest_Paid, dtype: float64"
      ]
     },
     "execution_count": 101,
     "metadata": {},
     "output_type": "execute_result"
    }
   ],
   "source": [
    "df['Interest_Paid'].fillna(0).head(10) #Replace with zero"
   ]
  },
  {
   "cell_type": "code",
   "execution_count": 102,
   "metadata": {},
   "outputs": [
    {
     "data": {
      "text/plain": [
       "60    103.78\n",
       "61    102.19\n",
       "62    100.61\n",
       "63     99.02\n",
       "64     97.42\n",
       "65     95.82\n",
       "66     94.21\n",
       "67     92.60\n",
       "68     92.60\n",
       "69     89.37\n",
       "Name: Interest_Paid, dtype: float64"
      ]
     },
     "execution_count": 102,
     "metadata": {},
     "output_type": "execute_result"
    }
   ],
   "source": [
    "df['Interest_Paid'].fillna(method='ffill').head(10) #forwardfill"
   ]
  },
  {
   "cell_type": "code",
   "execution_count": 103,
   "metadata": {},
   "outputs": [
    {
     "data": {
      "text/plain": [
       "60    103.78\n",
       "61    102.19\n",
       "62    100.61\n",
       "63     99.02\n",
       "64     97.42\n",
       "65     95.82\n",
       "66     94.21\n",
       "67     92.60\n",
       "68     89.37\n",
       "69     89.37\n",
       "Name: Interest_Paid, dtype: float64"
      ]
     },
     "execution_count": 103,
     "metadata": {},
     "output_type": "execute_result"
    }
   ],
   "source": [
    "df['Interest_Paid'].fillna(method='bfill').head(10) #backfill"
   ]
  },
  {
   "cell_type": "code",
   "execution_count": null,
   "metadata": {},
   "outputs": [],
   "source": [
    "### Linear Interpolation"
   ]
  },
  {
   "cell_type": "code",
   "execution_count": 105,
   "metadata": {},
   "outputs": [
    {
     "data": {
      "text/plain": [
       "60    103.780\n",
       "61    102.190\n",
       "62    100.610\n",
       "63     99.020\n",
       "64     97.420\n",
       "65     95.820\n",
       "66     94.210\n",
       "67     92.600\n",
       "68     90.985\n",
       "69     89.370\n",
       "Name: Interest_Paid, dtype: float64"
      ]
     },
     "execution_count": 105,
     "metadata": {},
     "output_type": "execute_result"
    }
   ],
   "source": [
    "df['Interest_Paid'].interpolate(method='linear').head(10) #Linear Interpolate"
   ]
  },
  {
   "cell_type": "code",
   "execution_count": 107,
   "metadata": {},
   "outputs": [
    {
     "name": "stdout",
     "output_type": "stream",
     "text": [
      "<class 'pandas.core.frame.DataFrame'>\n",
      "Int64Index: 60 entries, 60 to 119\n",
      "Data columns (total 7 columns):\n",
      " #   Column            Non-Null Count  Dtype  \n",
      "---  ------            --------------  -----  \n",
      " 0   Month             60 non-null     int64  \n",
      " 1   Starting_Balance  60 non-null     float64\n",
      " 2   Interest_Paid     59 non-null     float64\n",
      " 3   Principal_Paid    60 non-null     float64\n",
      " 4   New_Balance       60 non-null     float64\n",
      " 5   interest_rate     60 non-null     float64\n",
      " 6   car_type          60 non-null     object \n",
      "dtypes: float64(5), int64(1), object(1)\n",
      "memory usage: 3.8+ KB\n"
     ]
    }
   ],
   "source": [
    "df.info()"
   ]
  },
  {
   "cell_type": "code",
   "execution_count": 108,
   "metadata": {},
   "outputs": [],
   "source": [
    "df.loc[miss,'Interest_Paid']=90.985"
   ]
  },
  {
   "cell_type": "code",
   "execution_count": 110,
   "metadata": {},
   "outputs": [
    {
     "name": "stdout",
     "output_type": "stream",
     "text": [
      "<class 'pandas.core.frame.DataFrame'>\n",
      "Int64Index: 60 entries, 60 to 119\n",
      "Data columns (total 7 columns):\n",
      " #   Column            Non-Null Count  Dtype  \n",
      "---  ------            --------------  -----  \n",
      " 0   Month             60 non-null     int64  \n",
      " 1   Starting_Balance  60 non-null     float64\n",
      " 2   Interest_Paid     60 non-null     float64\n",
      " 3   Principal_Paid    60 non-null     float64\n",
      " 4   New_Balance       60 non-null     float64\n",
      " 5   interest_rate     60 non-null     float64\n",
      " 6   car_type          60 non-null     object \n",
      "dtypes: float64(5), int64(1), object(1)\n",
      "memory usage: 3.8+ KB\n"
     ]
    }
   ],
   "source": [
    "df.info()"
   ]
  },
  {
   "cell_type": "code",
   "execution_count": null,
   "metadata": {},
   "outputs": [],
   "source": [
    "###Can be None or NaN\n",
    "### isna or isnull"
   ]
  },
  {
   "cell_type": "code",
   "execution_count": 7,
   "metadata": {},
   "outputs": [
    {
     "data": {
      "text/plain": [
       "0"
      ]
     },
     "execution_count": 7,
     "metadata": {},
     "output_type": "execute_result"
    }
   ],
   "source": [
    "df['Interest Paid'].isna().sum()"
   ]
  },
  {
   "cell_type": "code",
   "execution_count": 111,
   "metadata": {},
   "outputs": [],
   "source": [
    "#Numpy Arrays"
   ]
  },
  {
   "cell_type": "code",
   "execution_count": 113,
   "metadata": {
    "collapsed": true
   },
   "outputs": [
    {
     "data": {
      "text/plain": [
       "array([[1, 34689.96, 103.78, 528.69, 34161.27, 0.0359, 'Toyota Sienna'],\n",
       "       [2, 34161.27, 102.19, 530.28, 33630.99, 0.0359, 'Toyota Sienna'],\n",
       "       [3, 33630.99, 100.61, 531.86, 33099.13, 0.0359, 'Toyota Sienna'],\n",
       "       [4, 33099.13, 99.02, 533.45, 32565.68, 0.0359, 'Toyota Sienna'],\n",
       "       [5, 32565.68, 97.42, 535.05, 32030.63, 0.0359, 'Toyota Sienna'],\n",
       "       [6, 32030.63, 95.82, 536.65, 31493.98, 0.0359, 'Toyota Sienna'],\n",
       "       [7, 31493.98, 94.21, 538.26, 30955.72, 0.0359, 'Toyota Sienna'],\n",
       "       [8, 30955.72, 92.6, 539.87, 30415.85, 0.0359, 'Toyota Sienna'],\n",
       "       [9, 30415.85, 90.985, 541.48, 29874.37, 0.0359, 'Toyota Sienna'],\n",
       "       [10, 29874.37, 89.37, 543.1, 29331.27, 0.0359, 'Toyota Sienna'],\n",
       "       [11, 29331.27, 87.74, 544.73, 28786.54, 0.0359, 'Toyota Sienna'],\n",
       "       [12, 28786.54, 86.11, 546.36, 28240.18, 0.0359, 'Toyota Sienna'],\n",
       "       [13, 28240.18, 84.48, 547.99, 27692.19, 0.0359, 'Toyota Sienna'],\n",
       "       [14, 27692.19, 82.84, 549.63, 27142.56, 0.0359, 'Toyota Sienna'],\n",
       "       [15, 27142.56, 81.2, 551.27, 26591.29, 0.0359, 'Toyota Sienna'],\n",
       "       [16, 26591.29, 79.55, 552.92, 26038.37, 0.0359, 'Toyota Sienna'],\n",
       "       [17, 26038.37, 77.89, 554.58, 25483.79, 0.0359, 'Toyota Sienna'],\n",
       "       [18, 25483.79, 76.23, 556.24, 24927.55, 0.0359, 'Toyota Sienna'],\n",
       "       [19, 24927.55, 74.57, 557.9, 24369.65, 0.0359, 'Toyota Sienna'],\n",
       "       [20, 24369.65, 72.9, 559.57, 23810.08, 0.0359, 'Toyota Sienna'],\n",
       "       [21, 23810.08, 71.23, 561.24, 23248.84, 0.0359, 'Toyota Sienna'],\n",
       "       [22, 23248.84, 69.55, 562.92, 22685.92, 0.0359, 'Toyota Sienna'],\n",
       "       [23, 22685.92, 67.86, 564.61, 22121.31, 0.0359, 'Toyota Sienna'],\n",
       "       [24, 22121.31, 66.17, 566.3, 21555.01, 0.0359, 'Toyota Sienna'],\n",
       "       [25, 21555.01, 64.48, 567.99, 20987.02, 0.0359, 'Toyota Sienna'],\n",
       "       [26, 20987.02, 62.78, 569.69, 20417.33, 0.0359, 'Toyota Sienna'],\n",
       "       [27, 20417.33, 61.08, 571.39, 19845.94, 0.0359, 'Toyota Sienna'],\n",
       "       [28, 19845.94, 59.37, 573.1, 19272.84, 0.0359, 'Toyota Sienna'],\n",
       "       [29, 19272.84, 57.65, 574.82, 18698.02, 0.0359, 'Toyota Sienna'],\n",
       "       [30, 18698.02, 55.93, 576.54, 18121.48, 0.0359, 'Toyota Sienna'],\n",
       "       [31, 18121.48, 54.21, 578.26, 17543.22, 0.0359, 'Toyota Sienna'],\n",
       "       [32, 17543.22, 52.48, 579.99, 16963.23, 0.0359, 'Toyota Sienna'],\n",
       "       [33, 16963.23, 50.74, 581.73, 16381.5, 0.0359, 'Toyota Sienna'],\n",
       "       [34, 16381.5, 49.0, 583.47, 15798.03, 0.0359, 'Toyota Sienna'],\n",
       "       [35, 15798.03, 47.26, 585.21, 15212.82, 0.0359, 'Toyota Sienna'],\n",
       "       [36, 15212.82, 45.51, 586.96, 14625.86, 0.0359, 'Toyota Sienna'],\n",
       "       [37, 14625.86, 43.75, 588.72, 14037.14, 0.0359, 'Toyota Sienna'],\n",
       "       [38, 14037.14, 41.99, 590.48, 13446.66, 0.0359, 'Toyota Sienna'],\n",
       "       [39, 13446.66, 40.22, 592.25, 12854.41, 0.0359, 'Toyota Sienna'],\n",
       "       [40, 12854.41, 38.45, 594.02, 12260.39, 0.0359, 'Toyota Sienna'],\n",
       "       [41, 12260.39, 36.67, 595.8, 11664.59, 0.0359, 'Toyota Sienna'],\n",
       "       [42, 11664.59, 34.89, 597.58, 11067.01, 0.0359, 'Toyota Sienna'],\n",
       "       [43, 11067.01, 33.1, 599.37, 10467.64, 0.0359, 'Toyota Sienna'],\n",
       "       [44, 10467.64, 31.31, 601.16, 9866.48, 0.0359, 'Toyota Sienna'],\n",
       "       [45, 9866.48, 29.51, 602.96, 9263.52, 0.0359, 'Toyota Sienna'],\n",
       "       [46, 9263.52, 27.71, 604.76, 8658.76, 0.0359, 'Toyota Sienna'],\n",
       "       [47, 8658.76, 25.9, 606.57, 8052.19, 0.0359, 'Toyota Sienna'],\n",
       "       [48, 8052.19, 24.08, 608.39, 7443.8, 0.0359, 'Toyota Sienna'],\n",
       "       [49, 7443.8, 22.26, 610.21, 6833.59, 0.0359, 'Toyota Sienna'],\n",
       "       [50, 6833.59, 20.44, 612.03, 6221.56, 0.0359, 'Toyota Sienna'],\n",
       "       [51, 6221.56, 18.61, 613.86, 5607.7, 0.0359, 'Toyota Sienna'],\n",
       "       [52, 5607.7, 16.77, 615.7, 4992.0, 0.0359, 'Toyota Sienna'],\n",
       "       [53, 4992.0, 14.93, 617.54, 4374.46, 0.0359, 'Toyota Sienna'],\n",
       "       [54, 4374.46, 13.08, 619.39, 3755.07, 0.0359, 'Toyota Sienna'],\n",
       "       [55, 3755.07, 11.23, 621.24, 3133.83, 0.0359, 'Toyota Sienna'],\n",
       "       [56, 3133.83, 9.37, 623.1, 2510.73, 0.0359, 'Toyota Sienna'],\n",
       "       [57, 2510.73, 7.51, 624.96, 1885.77, 0.0359, 'Toyota Sienna'],\n",
       "       [58, 1885.77, 5.64, 626.83, 1258.94, 0.0359, 'Toyota Sienna'],\n",
       "       [59, 1258.94, 3.76, 628.71, 630.23, 0.0359, 'Toyota Sienna'],\n",
       "       [60, 630.23, 1.88, 630.59, -0.36, 0.0359, 'Toyota Sienna']],\n",
       "      dtype=object)"
      ]
     },
     "execution_count": 113,
     "metadata": {},
     "output_type": "execute_result"
    }
   ],
   "source": [
    "df.to_numpy()"
   ]
  },
  {
   "cell_type": "code",
   "execution_count": 114,
   "metadata": {
    "collapsed": true
   },
   "outputs": [
    {
     "data": {
      "text/plain": [
       "array([[1, 34689.96, 103.78, 528.69, 34161.27, 0.0359, 'Toyota Sienna'],\n",
       "       [2, 34161.27, 102.19, 530.28, 33630.99, 0.0359, 'Toyota Sienna'],\n",
       "       [3, 33630.99, 100.61, 531.86, 33099.13, 0.0359, 'Toyota Sienna'],\n",
       "       [4, 33099.13, 99.02, 533.45, 32565.68, 0.0359, 'Toyota Sienna'],\n",
       "       [5, 32565.68, 97.42, 535.05, 32030.63, 0.0359, 'Toyota Sienna'],\n",
       "       [6, 32030.63, 95.82, 536.65, 31493.98, 0.0359, 'Toyota Sienna'],\n",
       "       [7, 31493.98, 94.21, 538.26, 30955.72, 0.0359, 'Toyota Sienna'],\n",
       "       [8, 30955.72, 92.6, 539.87, 30415.85, 0.0359, 'Toyota Sienna'],\n",
       "       [9, 30415.85, 90.985, 541.48, 29874.37, 0.0359, 'Toyota Sienna'],\n",
       "       [10, 29874.37, 89.37, 543.1, 29331.27, 0.0359, 'Toyota Sienna'],\n",
       "       [11, 29331.27, 87.74, 544.73, 28786.54, 0.0359, 'Toyota Sienna'],\n",
       "       [12, 28786.54, 86.11, 546.36, 28240.18, 0.0359, 'Toyota Sienna'],\n",
       "       [13, 28240.18, 84.48, 547.99, 27692.19, 0.0359, 'Toyota Sienna'],\n",
       "       [14, 27692.19, 82.84, 549.63, 27142.56, 0.0359, 'Toyota Sienna'],\n",
       "       [15, 27142.56, 81.2, 551.27, 26591.29, 0.0359, 'Toyota Sienna'],\n",
       "       [16, 26591.29, 79.55, 552.92, 26038.37, 0.0359, 'Toyota Sienna'],\n",
       "       [17, 26038.37, 77.89, 554.58, 25483.79, 0.0359, 'Toyota Sienna'],\n",
       "       [18, 25483.79, 76.23, 556.24, 24927.55, 0.0359, 'Toyota Sienna'],\n",
       "       [19, 24927.55, 74.57, 557.9, 24369.65, 0.0359, 'Toyota Sienna'],\n",
       "       [20, 24369.65, 72.9, 559.57, 23810.08, 0.0359, 'Toyota Sienna'],\n",
       "       [21, 23810.08, 71.23, 561.24, 23248.84, 0.0359, 'Toyota Sienna'],\n",
       "       [22, 23248.84, 69.55, 562.92, 22685.92, 0.0359, 'Toyota Sienna'],\n",
       "       [23, 22685.92, 67.86, 564.61, 22121.31, 0.0359, 'Toyota Sienna'],\n",
       "       [24, 22121.31, 66.17, 566.3, 21555.01, 0.0359, 'Toyota Sienna'],\n",
       "       [25, 21555.01, 64.48, 567.99, 20987.02, 0.0359, 'Toyota Sienna'],\n",
       "       [26, 20987.02, 62.78, 569.69, 20417.33, 0.0359, 'Toyota Sienna'],\n",
       "       [27, 20417.33, 61.08, 571.39, 19845.94, 0.0359, 'Toyota Sienna'],\n",
       "       [28, 19845.94, 59.37, 573.1, 19272.84, 0.0359, 'Toyota Sienna'],\n",
       "       [29, 19272.84, 57.65, 574.82, 18698.02, 0.0359, 'Toyota Sienna'],\n",
       "       [30, 18698.02, 55.93, 576.54, 18121.48, 0.0359, 'Toyota Sienna'],\n",
       "       [31, 18121.48, 54.21, 578.26, 17543.22, 0.0359, 'Toyota Sienna'],\n",
       "       [32, 17543.22, 52.48, 579.99, 16963.23, 0.0359, 'Toyota Sienna'],\n",
       "       [33, 16963.23, 50.74, 581.73, 16381.5, 0.0359, 'Toyota Sienna'],\n",
       "       [34, 16381.5, 49.0, 583.47, 15798.03, 0.0359, 'Toyota Sienna'],\n",
       "       [35, 15798.03, 47.26, 585.21, 15212.82, 0.0359, 'Toyota Sienna'],\n",
       "       [36, 15212.82, 45.51, 586.96, 14625.86, 0.0359, 'Toyota Sienna'],\n",
       "       [37, 14625.86, 43.75, 588.72, 14037.14, 0.0359, 'Toyota Sienna'],\n",
       "       [38, 14037.14, 41.99, 590.48, 13446.66, 0.0359, 'Toyota Sienna'],\n",
       "       [39, 13446.66, 40.22, 592.25, 12854.41, 0.0359, 'Toyota Sienna'],\n",
       "       [40, 12854.41, 38.45, 594.02, 12260.39, 0.0359, 'Toyota Sienna'],\n",
       "       [41, 12260.39, 36.67, 595.8, 11664.59, 0.0359, 'Toyota Sienna'],\n",
       "       [42, 11664.59, 34.89, 597.58, 11067.01, 0.0359, 'Toyota Sienna'],\n",
       "       [43, 11067.01, 33.1, 599.37, 10467.64, 0.0359, 'Toyota Sienna'],\n",
       "       [44, 10467.64, 31.31, 601.16, 9866.48, 0.0359, 'Toyota Sienna'],\n",
       "       [45, 9866.48, 29.51, 602.96, 9263.52, 0.0359, 'Toyota Sienna'],\n",
       "       [46, 9263.52, 27.71, 604.76, 8658.76, 0.0359, 'Toyota Sienna'],\n",
       "       [47, 8658.76, 25.9, 606.57, 8052.19, 0.0359, 'Toyota Sienna'],\n",
       "       [48, 8052.19, 24.08, 608.39, 7443.8, 0.0359, 'Toyota Sienna'],\n",
       "       [49, 7443.8, 22.26, 610.21, 6833.59, 0.0359, 'Toyota Sienna'],\n",
       "       [50, 6833.59, 20.44, 612.03, 6221.56, 0.0359, 'Toyota Sienna'],\n",
       "       [51, 6221.56, 18.61, 613.86, 5607.7, 0.0359, 'Toyota Sienna'],\n",
       "       [52, 5607.7, 16.77, 615.7, 4992.0, 0.0359, 'Toyota Sienna'],\n",
       "       [53, 4992.0, 14.93, 617.54, 4374.46, 0.0359, 'Toyota Sienna'],\n",
       "       [54, 4374.46, 13.08, 619.39, 3755.07, 0.0359, 'Toyota Sienna'],\n",
       "       [55, 3755.07, 11.23, 621.24, 3133.83, 0.0359, 'Toyota Sienna'],\n",
       "       [56, 3133.83, 9.37, 623.1, 2510.73, 0.0359, 'Toyota Sienna'],\n",
       "       [57, 2510.73, 7.51, 624.96, 1885.77, 0.0359, 'Toyota Sienna'],\n",
       "       [58, 1885.77, 5.64, 626.83, 1258.94, 0.0359, 'Toyota Sienna'],\n",
       "       [59, 1258.94, 3.76, 628.71, 630.23, 0.0359, 'Toyota Sienna'],\n",
       "       [60, 630.23, 1.88, 630.59, -0.36, 0.0359, 'Toyota Sienna']],\n",
       "      dtype=object)"
      ]
     },
     "execution_count": 114,
     "metadata": {},
     "output_type": "execute_result"
    }
   ],
   "source": [
    "df.values"
   ]
  },
  {
   "cell_type": "code",
   "execution_count": 115,
   "metadata": {},
   "outputs": [],
   "source": [
    "df.to_csv('car_int.csv',index=False)"
   ]
  }
 ],
 "metadata": {
  "kernelspec": {
   "display_name": "Python 3",
   "language": "python",
   "name": "python3"
  },
  "language_info": {
   "codemirror_mode": {
    "name": "ipython",
    "version": 3
   },
   "file_extension": ".py",
   "mimetype": "text/x-python",
   "name": "python",
   "nbconvert_exporter": "python",
   "pygments_lexer": "ipython3",
   "version": "3.9.0"
  }
 },
 "nbformat": 4,
 "nbformat_minor": 4
}
