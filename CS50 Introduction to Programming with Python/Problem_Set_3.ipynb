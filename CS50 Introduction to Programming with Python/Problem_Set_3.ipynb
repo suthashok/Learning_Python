{
 "cells": [
  {
   "cell_type": "markdown",
   "id": "07aecf41-885a-4f2e-8e9a-05ba4cc28bd2",
   "metadata": {},
   "source": [
    "<html>\n",
    "    <h1>\n",
    "        CS50’s Introduction to Programming with Python\n",
    "    </h1>\n",
    "    <p1>\n",
    "        These problem sets are available at: <a href=\"https://cs50.harvard.edu/python/psets/\">https://cs50.harvard.edu/python/psets/</a>\n",
    "    </p1>\n",
    " \n",
    "</html>"
   ]
  },
  {
   "cell_type": "markdown",
   "id": "85512480-9fb0-4439-ad35-70070a13da95",
   "metadata": {},
   "source": [
    "<h3>\n",
    "    Problem Set 3\n",
    "</h3>"
   ]
  },
  {
   "cell_type": "markdown",
   "id": "953b9384-98b5-436d-9ffa-f42087487218",
   "metadata": {},
   "source": [
    "<h4>\n",
    "    FuelGauge\n",
    "</h4>"
   ]
  },
  {
   "cell_type": "markdown",
   "id": "93f09a0f-efb6-4d49-b324-f14508838db6",
   "metadata": {},
   "source": [
    "```sql\n",
    "Fuel gauges indicate, often with fractions, just how much fuel is in a tank. For instance 1/4 indicates that a tank is 25% full, 1/2 indicates that a tank is 50% full, and 3/4 indicates that a tank is 75% full.\n",
    "\n",
    "In a file called fuel.py, implement a program that prompts the user for a fraction, formatted as X/Y, wherein each of X and Y is a positive integer, and then outputs, as a percentage rounded to the nearest integer, how much fuel is in the tank. If, though, 1% or less remains, output E instead to indicate that the tank is essentially empty. And if 99% or more remains, output F instead to indicate that the tank is essentially full.\n",
    "\n",
    "If, though, X or Y is not an integer, X is greater than Y, or Y is 0, instead prompt the user again. (It is not necessary for Y to be 4.) Be sure to catch any exceptions like ValueError or ZeroDivisionError.\n",
    "```"
   ]
  },
  {
   "cell_type": "code",
   "execution_count": 18,
   "id": "5f23e714-0367-44f3-96d7-1369fc13a78a",
   "metadata": {},
   "outputs": [],
   "source": [
    "def fuel_guage():\n",
    "    x1=0\n",
    "    y1=0\n",
    "    while True:\n",
    "        try:\n",
    "            X,Y=input('Fraction: ').split(\"/\")\n",
    "            x1=int(X)\n",
    "            y1=int(Y)\n",
    "            if x1>y1 or y1==0 or x1<0 or y1<0:\n",
    "                raise ValueError\n",
    "            if x1/float(y1)>= 0.99 and x1/float(y1)<= 1.00:\n",
    "                print('F')\n",
    "            elif x1/float(y1) >= 0.00 and x1/float(y1)<=0.01:\n",
    "                print('E')\n",
    "            elif x1/float(y1) > 0.01 and x1/float(y1)<0.99:\n",
    "                print(f'{int(x1/float(y1)*100)}%')\n",
    "            break\n",
    "        except (ValueError,ZeroDivisionError):\n",
    "            pass"
   ]
  },
  {
   "cell_type": "markdown",
   "id": "c023c82f-2777-4c04-98fb-c95eeb50e71d",
   "metadata": {},
   "source": [
    "<h6>\n",
    "    Test Cases\n",
    "</h6>"
   ]
  },
  {
   "cell_type": "code",
   "execution_count": 19,
   "id": "77adbe84-d22e-45f2-bab5-5fba3e3f8966",
   "metadata": {},
   "outputs": [
    {
     "name": "stdin",
     "output_type": "stream",
     "text": [
      "Fraction:  1.5/3\n",
      "Fraction:  -3/4\n",
      "Fraction:  5/4\n",
      "Fraction:  1/4\n"
     ]
    },
    {
     "name": "stdout",
     "output_type": "stream",
     "text": [
      "25%\n"
     ]
    }
   ],
   "source": [
    "fuel_guage()"
   ]
  },
  {
   "cell_type": "code",
   "execution_count": 9,
   "id": "41e1ca53-41af-44c4-9668-d91542421816",
   "metadata": {},
   "outputs": [
    {
     "name": "stdin",
     "output_type": "stream",
     "text": [
      "Fraction:  cat/dog\n",
      "Fraction:  1/4\n"
     ]
    },
    {
     "name": "stdout",
     "output_type": "stream",
     "text": [
      "25%\n"
     ]
    }
   ],
   "source": [
    "fuel_guage()"
   ]
  },
  {
   "cell_type": "code",
   "execution_count": 10,
   "id": "b474ba53-104b-422e-adf5-8b0758c8fd98",
   "metadata": {},
   "outputs": [
    {
     "name": "stdin",
     "output_type": "stream",
     "text": [
      "Fraction:  4/4\n"
     ]
    },
    {
     "name": "stdout",
     "output_type": "stream",
     "text": [
      "F\n"
     ]
    }
   ],
   "source": [
    "fuel_guage()"
   ]
  },
  {
   "cell_type": "code",
   "execution_count": 11,
   "id": "2fff8abd-c6c6-4ea3-9212-3759e06366f9",
   "metadata": {},
   "outputs": [
    {
     "name": "stdin",
     "output_type": "stream",
     "text": [
      "Fraction:  0/4\n"
     ]
    },
    {
     "name": "stdout",
     "output_type": "stream",
     "text": [
      "E\n"
     ]
    }
   ],
   "source": [
    "fuel_guage()"
   ]
  },
  {
   "cell_type": "code",
   "execution_count": 20,
   "id": "222d1f74-3649-4bfc-9e62-2d44eb09395c",
   "metadata": {},
   "outputs": [
    {
     "name": "stdin",
     "output_type": "stream",
     "text": [
      "Fraction:  4/0\n",
      "Fraction:  0/4\n"
     ]
    },
    {
     "name": "stdout",
     "output_type": "stream",
     "text": [
      "E\n"
     ]
    }
   ],
   "source": [
    "fuel_guage()"
   ]
  },
  {
   "cell_type": "markdown",
   "id": "e4e93d1a-2903-4750-bc4f-be24e9e10732",
   "metadata": {},
   "source": [
    "<h4>\n",
    "    Felipe’s Taqueria\n",
    "</h4>"
   ]
  },
  {
   "cell_type": "markdown",
   "id": "98fdb793-5e42-4dc4-9407-b2b4bcb1aea5",
   "metadata": {},
   "source": [
    "```sql\n",
    "One of the most popular places to eat in Harvard Square is Felipe’s Taqueria, which offers a menu of entrees, per the dict below, wherein the value of each key is a price in dollars:\n",
    "\n",
    "{\n",
    "    \"Baja Taco\": 4.25,\n",
    "    \"Burrito\": 7.50,\n",
    "    \"Bowl\": 8.50,\n",
    "    \"Nachos\": 11.00,\n",
    "    \"Quesadilla\": 8.50,\n",
    "    \"Super Burrito\": 8.50,\n",
    "    \"Super Quesadilla\": 9.50,\n",
    "    \"Taco\": 3.00,\n",
    "    \"Tortilla Salad\": 8.00\n",
    "}\n",
    "In a file called taqueria.py, implement a program that enables a user to place an order, prompting them for items, one per line, until the user inputs control-d (which is a common way of ending one’s input to a program). After each inputted item, display the total cost of all items inputted thus far, prefixed with a dollar sign ($) and formatted to two decimal places. Treat the user’s input case insensitively. Ignore any input that isn’t an item. Assume that every item on the menu will be titlecased.\n",
    "```"
   ]
  },
  {
   "cell_type": "code",
   "execution_count": 32,
   "id": "4a8793c3-af39-4953-8a6d-d357f248e886",
   "metadata": {},
   "outputs": [],
   "source": [
    "def felipe_taqueria():\n",
    "    prices={\n",
    "    \"Baja Taco\": 4.25,\n",
    "    \"Burrito\": 7.50,\n",
    "    \"Bowl\": 8.50,\n",
    "    \"Nachos\": 11.00,\n",
    "    \"Quesadilla\": 8.50,\n",
    "    \"Super Burrito\": 8.50,\n",
    "    \"Super Quesadilla\": 9.50,\n",
    "    \"Taco\": 3.00,\n",
    "    \"Tortilla Salad\": 8.00\n",
    "    }\n",
    "    total=0.00\n",
    "    while True:\n",
    "        try:\n",
    "            inp=input('Item: ').strip().title()\n",
    "            if inp  in prices:\n",
    "                total=total+prices[inp]\n",
    "                print(f'${total}')\n",
    "            else:\n",
    "                ValueError\n",
    "        except EOFError:\n",
    "            break\n",
    "        except (ValueError, KeyError):\n",
    "            pass"
   ]
  },
  {
   "cell_type": "markdown",
   "id": "48578159-2e61-4404-b3c5-4ce4ebb5f008",
   "metadata": {},
   "source": [
    "<h6>\n",
    "    Test Cases\n",
    "</h6>"
   ]
  },
  {
   "cell_type": "code",
   "execution_count": null,
   "id": "1014d561-2dfc-4103-b0cd-5014de556934",
   "metadata": {
    "scrolled": true
   },
   "outputs": [],
   "source": [
    "felipe_taqueria()"
   ]
  },
  {
   "cell_type": "markdown",
   "id": "6b47f20a-bbc3-4549-bdec-4e25311e0dcc",
   "metadata": {},
   "source": [
    "<h4>\n",
    "    Grocery ist\n",
    "</h4>"
   ]
  },
  {
   "cell_type": "markdown",
   "id": "c523b562-ee1e-44ce-a898-f9c80896c319",
   "metadata": {},
   "source": [
    "```sql\n",
    "Suppose that you’re in the habit of making a list of items you need from the grocery store.\n",
    "\n",
    "In a file called grocery.py, implement a program that prompts the user for items, one per line, until the user inputs control-d (which is a common way of ending one’s input to a program). Then output the user’s grocery list in all uppercase, sorted alphabetically by item, prefixing each line with the number of times the user inputted that item. No need to pluralize the items. Treat the user’s input case-insensitively.\n",
    "```"
   ]
  },
  {
   "cell_type": "code",
   "execution_count": null,
   "id": "d7183ea6-9a74-4ae5-8e52-9dd8a9ecfe92",
   "metadata": {},
   "outputs": [],
   "source": [
    "def grocery_list():\n",
    "    things={}\n",
    "    while True:\n",
    "        try:\n",
    "            text=input()\n",
    "        except EOFError:\n",
    "            break\n",
    "        else:\n",
    "            things[text]=things.get(text,0)+1\n",
    "    things=dict(sorted(things.items()))\n",
    "    for key, value in things.items():\n",
    "        print(value, key.upper())\n",
    "\n"
   ]
  },
  {
   "cell_type": "code",
   "execution_count": null,
   "id": "db64f077-14b1-4e13-9d74-55c35eebfeb7",
   "metadata": {},
   "outputs": [],
   "source": [
    "grocery_list()"
   ]
  },
  {
   "cell_type": "markdown",
   "id": "e956714a-2299-47c2-b3cd-6096e72311f4",
   "metadata": {},
   "source": [
    "<h4>\n",
    "    Outdated\n",
    "</h4>"
   ]
  },
  {
   "cell_type": "markdown",
   "id": "fae52a49-3230-461a-977f-f8d665f3b116",
   "metadata": {},
   "source": [
    "```sql\n",
    "In the United States, dates are typically formatted in month-day-year order (MM/DD/YYYY), otherwise known as middle-endian order, which is arguably bad design. Dates in that format can’t be easily sorted because the date’s year comes last instead of first. Try sorting, for instance, 2/2/1800, 3/3/1900, and 1/1/2000 chronologically in any program (e.g., a spreadsheet). Dates in that format are also ambiguous. Harvard was founded on September 8, 1636, but 9/8/1636 could also be interpreted as August 9, 1636!\n",
    "\n",
    "Fortunately, computers tend to use ISO 8601, an international standard that prescribes that dates should be formatted in year-month-day (YYYY-MM-DD) order, no matter the country, formatting years with four digits, months with two digits, and days with two digits, “padding” each with leading zeroes as needed.\n",
    "\n",
    "In a file called outdated.py, implement a program that prompts the user for a date, anno Domini, in month-day-year order, formatted like 9/8/1636 or September 8, 1636, wherein the month in the latter might be any of the values in the list below:\n",
    "\n",
    "[\n",
    "    \"January\",\n",
    "    \"February\",\n",
    "    \"March\",\n",
    "    \"April\",\n",
    "    \"May\",\n",
    "    \"June\",\n",
    "    \"July\",\n",
    "    \"August\",\n",
    "    \"September\",\n",
    "    \"October\",\n",
    "    \"November\",\n",
    "    \"December\"\n",
    "]\n",
    "Then output that same date in YYYY-MM-DD format. If the user’s input is not a valid date in either format, prompt the user again. Assume that every month has no more than 31 days; no need to validate whether a month has 28, 29, 30, or 31 days.\n",
    "```"
   ]
  },
  {
   "cell_type": "code",
   "execution_count": 68,
   "id": "431b20f5-c659-4893-a699-fd49b7fe35cf",
   "metadata": {},
   "outputs": [],
   "source": [
    "from datetime import datetime"
   ]
  },
  {
   "cell_type": "code",
   "execution_count": 80,
   "id": "185e73d8-f21c-4492-ac0c-89d32b02e5c0",
   "metadata": {},
   "outputs": [
    {
     "data": {
      "text/plain": [
       "int"
      ]
     },
     "execution_count": 80,
     "metadata": {},
     "output_type": "execute_result"
    }
   ],
   "source": [
    "current_year = datetime.now().year\n",
    "type(current_year)"
   ]
  },
  {
   "cell_type": "code",
   "execution_count": 83,
   "id": "7ac68432-8429-4376-be83-dc9689e541aa",
   "metadata": {},
   "outputs": [],
   "source": [
    "def outdated():\n",
    "    current_year = datetime.now().year\n",
    "    months=[\n",
    "    \"January\",\n",
    "    \"February\",\n",
    "    \"March\",\n",
    "    \"April\",\n",
    "    \"May\",\n",
    "    \"June\",\n",
    "    \"July\",\n",
    "    \"August\",\n",
    "    \"September\",\n",
    "    \"October\",\n",
    "    \"November\",\n",
    "    \"December\"]\n",
    "    while True:\n",
    "        try:\n",
    "            text=input('Date: ')\n",
    "            if '/' in text:\n",
    "                a,b,c=text.split('/')\n",
    "                m,d,y=int(a),int(b),int(c)\n",
    "            else:\n",
    "                a,b,c=text.split(' ')\n",
    "                y=int(c)\n",
    "                if a in months:\n",
    "                    x,p=b.split(',')\n",
    "                    d=int(x)\n",
    "                    m=months.index(a)+1\n",
    "                else:\n",
    "                    raise ValueError\n",
    "            if m<=0 or m>=13 or y > current_year or y<0 or d<=0 or d>=31:\n",
    "                raise ValueError\n",
    "            else:\n",
    "                print(f'{y:04d}-{m:02d}-{d:02d}')\n",
    "                break\n",
    "\n",
    "        except ValueError:\n",
    "            pass"
   ]
  },
  {
   "cell_type": "markdown",
   "id": "8717e9dc-a355-466e-908a-6ce1f52dc8fb",
   "metadata": {},
   "source": [
    "<h6>\n",
    "    Test Cases\n",
    "</h6>"
   ]
  },
  {
   "cell_type": "code",
   "execution_count": 82,
   "id": "23d57195-7023-4d9f-9ae7-8b3e821071f7",
   "metadata": {
    "scrolled": true
   },
   "outputs": [
    {
     "name": "stdin",
     "output_type": "stream",
     "text": [
      "Date:  September 8, 1636\n"
     ]
    },
    {
     "name": "stdout",
     "output_type": "stream",
     "text": [
      "1636-09-08\n"
     ]
    }
   ],
   "source": [
    "outdated()"
   ]
  },
  {
   "cell_type": "code",
   "execution_count": 84,
   "id": "9383ec5a-98b9-4d43-b73d-edc8cdc76527",
   "metadata": {},
   "outputs": [
    {
     "name": "stdin",
     "output_type": "stream",
     "text": [
      "Date:  9/8/1636\n"
     ]
    },
    {
     "name": "stdout",
     "output_type": "stream",
     "text": [
      "1636-09-08\n"
     ]
    }
   ],
   "source": [
    "outdated()"
   ]
  },
  {
   "cell_type": "code",
   "execution_count": 85,
   "id": "86e2982c-08a4-423f-b500-f15f8d83a795",
   "metadata": {},
   "outputs": [
    {
     "name": "stdin",
     "output_type": "stream",
     "text": [
      "Date:  23/6/1912\n",
      "Date:  December 80, 1980\n",
      "Date:  9/25/1919\n"
     ]
    },
    {
     "name": "stdout",
     "output_type": "stream",
     "text": [
      "1919-09-25\n"
     ]
    }
   ],
   "source": [
    "outdated()"
   ]
  },
  {
   "cell_type": "markdown",
   "id": "f54449db-5daa-4270-93fd-75c7633e9dfc",
   "metadata": {},
   "source": [
    "#### End"
   ]
  }
 ],
 "metadata": {
  "kernelspec": {
   "display_name": "Python 3 (ipykernel)",
   "language": "python",
   "name": "python3"
  },
  "language_info": {
   "codemirror_mode": {
    "name": "ipython",
    "version": 3
   },
   "file_extension": ".py",
   "mimetype": "text/x-python",
   "name": "python",
   "nbconvert_exporter": "python",
   "pygments_lexer": "ipython3",
   "version": "3.10.0"
  }
 },
 "nbformat": 4,
 "nbformat_minor": 5
}
