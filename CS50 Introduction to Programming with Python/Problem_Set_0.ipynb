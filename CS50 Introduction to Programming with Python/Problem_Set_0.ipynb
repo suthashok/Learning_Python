{
 "cells": [
  {
   "cell_type": "markdown",
   "id": "07aecf41-885a-4f2e-8e9a-05ba4cc28bd2",
   "metadata": {},
   "source": [
    "<html>\n",
    "    <h1>\n",
    "        CS50’s Introduction to Programming with Python\n",
    "    </h1>\n",
    "    <p1>\n",
    "        These problem sets are available at: <a href=\"https://cs50.harvard.edu/python/psets/\">https://cs50.harvard.edu/python/psets/</a>\n",
    "    </p1>\n",
    " \n",
    "</html>"
   ]
  },
  {
   "cell_type": "markdown",
   "id": "85512480-9fb0-4439-ad35-70070a13da95",
   "metadata": {},
   "source": [
    "<h3>\n",
    "    Problem Set 1\n",
    "</h3>"
   ]
  },
  {
   "cell_type": "markdown",
   "id": "953b9384-98b5-436d-9ffa-f42087487218",
   "metadata": {},
   "source": [
    "<h4>\n",
    "    Indoor Voice\n",
    "</h4>"
   ]
  },
  {
   "cell_type": "markdown",
   "id": "93f09a0f-efb6-4d49-b324-f14508838db6",
   "metadata": {},
   "source": [
    "<p1>\n",
    "In a file called indoor.py, implement a program in Python that prompts the user for input and then outputs that same input in lowercase. Punctuation and whitespace should be outputted unchanged. You’re welcome, but not required, to prompt the user explicitly, as by passing a str of your own as an argument to input.\n",
    "</p1>"
   ]
  },
  {
   "cell_type": "code",
   "execution_count": 1,
   "id": "5f23e714-0367-44f3-96d7-1369fc13a78a",
   "metadata": {},
   "outputs": [],
   "source": [
    "def indoor_voice():\n",
    "    text = input()\n",
    "    print(text.lower())"
   ]
  },
  {
   "cell_type": "markdown",
   "id": "c023c82f-2777-4c04-98fb-c95eeb50e71d",
   "metadata": {},
   "source": [
    "<h6>\n",
    "    Test Cases\n",
    "</h6>"
   ]
  },
  {
   "cell_type": "code",
   "execution_count": 3,
   "id": "77adbe84-d22e-45f2-bab5-5fba3e3f8966",
   "metadata": {},
   "outputs": [
    {
     "name": "stdin",
     "output_type": "stream",
     "text": [
      " HELLO\n"
     ]
    },
    {
     "name": "stdout",
     "output_type": "stream",
     "text": [
      "hello\n"
     ]
    }
   ],
   "source": [
    "indoor_voice()"
   ]
  },
  {
   "cell_type": "code",
   "execution_count": 4,
   "id": "41e1ca53-41af-44c4-9668-d91542421816",
   "metadata": {},
   "outputs": [
    {
     "name": "stdin",
     "output_type": "stream",
     "text": [
      " THIS IS CS50\n"
     ]
    },
    {
     "name": "stdout",
     "output_type": "stream",
     "text": [
      "this is cs50\n"
     ]
    }
   ],
   "source": [
    "indoor_voice()"
   ]
  },
  {
   "cell_type": "code",
   "execution_count": 5,
   "id": "b474ba53-104b-422e-adf5-8b0758c8fd98",
   "metadata": {},
   "outputs": [
    {
     "name": "stdin",
     "output_type": "stream",
     "text": [
      " 50\n"
     ]
    },
    {
     "name": "stdout",
     "output_type": "stream",
     "text": [
      "50\n"
     ]
    }
   ],
   "source": [
    "indoor_voice()"
   ]
  },
  {
   "cell_type": "markdown",
   "id": "e4e93d1a-2903-4750-bc4f-be24e9e10732",
   "metadata": {},
   "source": [
    "<h4>\n",
    "    Playback Speed\n",
    "</h4>"
   ]
  },
  {
   "cell_type": "markdown",
   "id": "98fdb793-5e42-4dc4-9407-b2b4bcb1aea5",
   "metadata": {},
   "source": [
    "<p>\n",
    "    Some people have a habit of lecturing speaking rather quickly, and it’d be nice to slow them down, a la YouTube’s 0.75 playback speed, or even by having them pause between words.\n",
    "In a file called playback.py, implement a program in Python that prompts the user for input and then outputs that same input, replacing each space with ... (i.e., three periods).\n",
    "</p>\n",
    "    "
   ]
  },
  {
   "cell_type": "code",
   "execution_count": 8,
   "id": "4a8793c3-af39-4953-8a6d-d357f248e886",
   "metadata": {},
   "outputs": [],
   "source": [
    "def playback():\n",
    "    text=input()\n",
    "    text=text.replace(' ','...')\n",
    "    print(text)"
   ]
  },
  {
   "cell_type": "markdown",
   "id": "48578159-2e61-4404-b3c5-4ce4ebb5f008",
   "metadata": {},
   "source": [
    "<h6>\n",
    "    Test Cases\n",
    "</h6>"
   ]
  },
  {
   "cell_type": "code",
   "execution_count": 9,
   "id": "1014d561-2dfc-4103-b0cd-5014de556934",
   "metadata": {},
   "outputs": [
    {
     "name": "stdin",
     "output_type": "stream",
     "text": [
      " This is CS50\n"
     ]
    },
    {
     "name": "stdout",
     "output_type": "stream",
     "text": [
      "This...is...CS50\n"
     ]
    }
   ],
   "source": [
    "playback()"
   ]
  },
  {
   "cell_type": "code",
   "execution_count": 10,
   "id": "c9ba29c4-b97c-48de-a9eb-a16af04dd48e",
   "metadata": {},
   "outputs": [
    {
     "name": "stdin",
     "output_type": "stream",
     "text": [
      " This is our week on functions\n"
     ]
    },
    {
     "name": "stdout",
     "output_type": "stream",
     "text": [
      "This...is...our...week...on...functions\n"
     ]
    }
   ],
   "source": [
    "playback()"
   ]
  },
  {
   "cell_type": "code",
   "execution_count": 11,
   "id": "4495ad97-5486-4632-bbb6-e8bc4d8681b7",
   "metadata": {},
   "outputs": [
    {
     "name": "stdin",
     "output_type": "stream",
     "text": [
      " Let's implement a function called hello\n"
     ]
    },
    {
     "name": "stdout",
     "output_type": "stream",
     "text": [
      "Let's...implement...a...function...called...hello\n"
     ]
    }
   ],
   "source": [
    "playback()"
   ]
  },
  {
   "cell_type": "markdown",
   "id": "e956714a-2299-47c2-b3cd-6096e72311f4",
   "metadata": {},
   "source": [
    "<h4>\n",
    "    Making Faces\n",
    "</h4>"
   ]
  },
  {
   "cell_type": "markdown",
   "id": "fae52a49-3230-461a-977f-f8d665f3b116",
   "metadata": {},
   "source": [
    "<p>\n",
    "    Before there were emoji, there were emoticons, whereby text like :) was a happy face and text like :( was a sad face. Nowadays, programs tend to convert emoticons to emoji automatically!\n",
    "\n",
    "In a file called faces.py, implement a function called convert that accepts a str as input and returns that same input with any :) converted to 🙂 (otherwise known as a slightly smiling face) and any :( converted to 🙁 (otherwise known as a slightly frowning face). All other text should be returned unchanged.\n",
    "\n",
    "Then, in that same file, implement a function called main that prompts the user for input, calls convert on that input, and prints the result. You’re welcome, but not required, to prompt the user explicitly, as by passing a str of your own as an argument to input. Be sure to call main at the bottom of your file.\n",
    "</p>"
   ]
  },
  {
   "cell_type": "code",
   "execution_count": 12,
   "id": "7ac68432-8429-4376-be83-dc9689e541aa",
   "metadata": {},
   "outputs": [],
   "source": [
    "def convert():\n",
    "    text=input()\n",
    "    text=text.replace(':)','🙂')\n",
    "    text=text.replace(':(','🙁')\n",
    "    print(text)"
   ]
  },
  {
   "cell_type": "markdown",
   "id": "8717e9dc-a355-466e-908a-6ce1f52dc8fb",
   "metadata": {},
   "source": [
    "<h6>\n",
    "    Test Cases\n",
    "</h6>"
   ]
  },
  {
   "cell_type": "code",
   "execution_count": 13,
   "id": "d4f1fafe-8719-4949-8266-f06ea3fc06d2",
   "metadata": {},
   "outputs": [
    {
     "name": "stdin",
     "output_type": "stream",
     "text": [
      " Hello :)\n"
     ]
    },
    {
     "name": "stdout",
     "output_type": "stream",
     "text": [
      "Hello 🙂\n"
     ]
    }
   ],
   "source": [
    "convert()"
   ]
  },
  {
   "cell_type": "code",
   "execution_count": 14,
   "id": "9383ec5a-98b9-4d43-b73d-edc8cdc76527",
   "metadata": {},
   "outputs": [
    {
     "name": "stdin",
     "output_type": "stream",
     "text": [
      " Goodbye :(\n"
     ]
    },
    {
     "name": "stdout",
     "output_type": "stream",
     "text": [
      "Goodbye 🙁\n"
     ]
    }
   ],
   "source": [
    "convert()"
   ]
  },
  {
   "cell_type": "code",
   "execution_count": 15,
   "id": "7ccba25b-78d2-45ed-8aac-40687c249334",
   "metadata": {},
   "outputs": [
    {
     "name": "stdin",
     "output_type": "stream",
     "text": [
      " Hello :) Goodbye :(\n"
     ]
    },
    {
     "name": "stdout",
     "output_type": "stream",
     "text": [
      "Hello 🙂 Goodbye 🙁\n"
     ]
    }
   ],
   "source": [
    "convert()"
   ]
  },
  {
   "cell_type": "markdown",
   "id": "320dcf03-fef8-4e20-9767-80c56e65741e",
   "metadata": {},
   "source": [
    "<h4>\n",
    "    Einstein\n",
    "</h4>"
   ]
  },
  {
   "cell_type": "markdown",
   "id": "98a38095-04ff-4131-af71-974dd626a9af",
   "metadata": {},
   "source": [
    "<p>\n",
    "Even if you haven’t studied physics (recently or ever!), you might have heard that 𝐸 =𝑚⁢𝑐2, wherein 𝐸 represents energy (measured in Joules), 𝑚 represents mass (measured in kilograms), and 𝑐 represents the speed of light (measured approximately as 300000000 meters per second), per Albert Einstein et al. Essentially, the formula means that mass and energy are equivalent.\n",
    "\n",
    "In a file called einstein.py, implement a program in Python that prompts the user for mass as an integer (in kilograms) and then outputs the equivalent number of Joules as an integer. Assume that the user will input an integer.\n",
    "\n",
    "</p>"
   ]
  },
  {
   "cell_type": "code",
   "execution_count": 18,
   "id": "41043388-bf55-4338-a07a-cb5d7eb1f072",
   "metadata": {},
   "outputs": [],
   "source": [
    "def energy():\n",
    "    mass=int(input('Mass: '))\n",
    "    return mass*(300000000 ** 2)"
   ]
  },
  {
   "cell_type": "markdown",
   "id": "90855018-71f4-4cc0-b513-16b9e267cee5",
   "metadata": {},
   "source": [
    "<h6>\n",
    "    Test Cases\n",
    "</h6>"
   ]
  },
  {
   "cell_type": "code",
   "execution_count": 19,
   "id": "a4c22eb4-eb1f-4059-b2c9-e40731657429",
   "metadata": {},
   "outputs": [
    {
     "name": "stdin",
     "output_type": "stream",
     "text": [
      "Mass:  1\n"
     ]
    },
    {
     "data": {
      "text/plain": [
       "90000000000000000"
      ]
     },
     "execution_count": 19,
     "metadata": {},
     "output_type": "execute_result"
    }
   ],
   "source": [
    "energy()"
   ]
  },
  {
   "cell_type": "code",
   "execution_count": 21,
   "id": "5b8acdb3-cf40-479d-924f-0a6ba1f56496",
   "metadata": {},
   "outputs": [
    {
     "name": "stdin",
     "output_type": "stream",
     "text": [
      "Mass:  14\n"
     ]
    },
    {
     "data": {
      "text/plain": [
       "1260000000000000000"
      ]
     },
     "execution_count": 21,
     "metadata": {},
     "output_type": "execute_result"
    }
   ],
   "source": [
    "energy()"
   ]
  },
  {
   "cell_type": "code",
   "execution_count": 22,
   "id": "dcedfae5-6fd4-4ffc-9dd4-25c9ed5e359d",
   "metadata": {},
   "outputs": [
    {
     "name": "stdin",
     "output_type": "stream",
     "text": [
      "Mass:  50\n"
     ]
    },
    {
     "data": {
      "text/plain": [
       "4500000000000000000"
      ]
     },
     "execution_count": 22,
     "metadata": {},
     "output_type": "execute_result"
    }
   ],
   "source": [
    "energy()"
   ]
  },
  {
   "cell_type": "markdown",
   "id": "deed00cf-c9a7-4b3c-8d82-ebb414b72f02",
   "metadata": {},
   "source": [
    "<h4>\n",
    "    Tip Calculator\n",
    "</h4>"
   ]
  },
  {
   "cell_type": "markdown",
   "id": "7336b96d-c7ad-423a-a6c4-792d175bbd97",
   "metadata": {},
   "source": [
    "```sql\n",
    "Implement following two functions:\n",
    "\n",
    "dollars_to_float, which should accept a str as input (formatted as $##.##, wherein each # is a decimal digit), remove the leading $, and return the amount as a float. For instance, given $50.00 as input, it should return 50.0.\n",
    "percent_to_float, which should accept a str as input (formatted as ##%, wherein each # is a decimal digit), remove the trailing %, and return the percentage as a float. For instance, given 15% as input, it should return 0.15.\n",
    "Assume that the user will input values in the expected formats."
   ]
  },
  {
   "cell_type": "code",
   "execution_count": 26,
   "id": "ea040c82-253e-4f49-9558-7abb1d18ebb7",
   "metadata": {},
   "outputs": [
    {
     "name": "stdin",
     "output_type": "stream",
     "text": [
      "How much was the meal?  $50.00\n",
      "What percentage would you like to tip?  15%\n"
     ]
    },
    {
     "name": "stdout",
     "output_type": "stream",
     "text": [
      "Leave $7.50\n"
     ]
    }
   ],
   "source": [
    "def main():\n",
    "    dollars = dollars_to_float(input(\"How much was the meal? \"))\n",
    "    percent = percent_to_float(input(\"What percentage would you like to tip? \"))\n",
    "    tip = dollars * percent\n",
    "    print(f\"Leave ${tip:.2f}\")\n",
    "\n",
    "\n",
    "def dollars_to_float(d):\n",
    "    d=d.replace('$','')\n",
    "    return float(d)\n",
    "\n",
    "\n",
    "def percent_to_float(p):\n",
    "    p=p.replace('%','')\n",
    "    return float(p)/100.0\n",
    "\n",
    "main()"
   ]
  },
  {
   "cell_type": "code",
   "execution_count": 27,
   "id": "53123df5-17bb-4fb3-aacf-914fa33ba3d9",
   "metadata": {},
   "outputs": [
    {
     "name": "stdin",
     "output_type": "stream",
     "text": [
      "How much was the meal?  $100.00\n",
      "What percentage would you like to tip?  18%\n"
     ]
    },
    {
     "name": "stdout",
     "output_type": "stream",
     "text": [
      "Leave $18.00\n"
     ]
    }
   ],
   "source": [
    "main()"
   ]
  },
  {
   "cell_type": "code",
   "execution_count": 28,
   "id": "0fa270a4-49e0-43ea-b494-ad17b929bc07",
   "metadata": {},
   "outputs": [
    {
     "name": "stdin",
     "output_type": "stream",
     "text": [
      "How much was the meal?  15.00\n",
      "What percentage would you like to tip?  25%\n"
     ]
    },
    {
     "name": "stdout",
     "output_type": "stream",
     "text": [
      "Leave $3.75\n"
     ]
    }
   ],
   "source": [
    "main()"
   ]
  },
  {
   "cell_type": "markdown",
   "id": "f54449db-5daa-4270-93fd-75c7633e9dfc",
   "metadata": {},
   "source": [
    "#### End"
   ]
  }
 ],
 "metadata": {
  "kernelspec": {
   "display_name": "Python 3 (ipykernel)",
   "language": "python",
   "name": "python3"
  },
  "language_info": {
   "codemirror_mode": {
    "name": "ipython",
    "version": 3
   },
   "file_extension": ".py",
   "mimetype": "text/x-python",
   "name": "python",
   "nbconvert_exporter": "python",
   "pygments_lexer": "ipython3",
   "version": "3.10.0"
  }
 },
 "nbformat": 4,
 "nbformat_minor": 5
}
