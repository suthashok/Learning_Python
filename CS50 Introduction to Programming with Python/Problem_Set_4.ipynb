{
 "cells": [
  {
   "cell_type": "markdown",
   "id": "07aecf41-885a-4f2e-8e9a-05ba4cc28bd2",
   "metadata": {},
   "source": [
    "<html>\n",
    "    <h1>\n",
    "        CS50’s Introduction to Programming with Python\n",
    "    </h1>\n",
    "    <p1>\n",
    "        These problem sets are available at: <a href=\"https://cs50.harvard.edu/python/psets/\">https://cs50.harvard.edu/python/psets/</a>\n",
    "    </p1>\n",
    " \n",
    "</html>"
   ]
  },
  {
   "cell_type": "markdown",
   "id": "85512480-9fb0-4439-ad35-70070a13da95",
   "metadata": {},
   "source": [
    "<h3>\n",
    "    Problem Set 4\n",
    "</h3>"
   ]
  },
  {
   "cell_type": "markdown",
   "id": "953b9384-98b5-436d-9ffa-f42087487218",
   "metadata": {},
   "source": [
    "<h4>\n",
    "    Emojize\n",
    "</h4>"
   ]
  },
  {
   "cell_type": "markdown",
   "id": "93f09a0f-efb6-4d49-b324-f14508838db6",
   "metadata": {},
   "source": [
    "```sql\n",
    "Because emoji aren’t quite as easy to type as text, at least on laptops and desktops, some programs support “codes,” whereby you can type, for instance, :thumbs_up:, which will be automatically converted to 👍. Some programs additionally support aliases, whereby you can more succinctly type, for instance, :thumbsup:, which will also be automatically converted to 👍.\n",
    "\n",
    "See carpedm20.github.io/emoji/all.html?enableList=enable_list_alias for a list of codes with aliases.\n",
    "\n",
    "In a file called emojize.py, implement a program that prompts the user for a str in English and then outputs the “emojized” version of that str, converting any codes (or aliases) therein to their corresponding emoji.\n",
    "```"
   ]
  },
  {
   "cell_type": "code",
   "execution_count": 3,
   "id": "0734479f-a015-4192-b88d-7d9f8cbd3a94",
   "metadata": {},
   "outputs": [],
   "source": [
    "import emoji"
   ]
  },
  {
   "cell_type": "code",
   "execution_count": 9,
   "id": "5f23e714-0367-44f3-96d7-1369fc13a78a",
   "metadata": {},
   "outputs": [],
   "source": [
    "def emojize():\n",
    "    text=input('Input: ')\n",
    "    converted_text = emoji.emojize(text,language='alias')\n",
    "    print(converted_text)"
   ]
  },
  {
   "cell_type": "markdown",
   "id": "c023c82f-2777-4c04-98fb-c95eeb50e71d",
   "metadata": {},
   "source": [
    "<h6>\n",
    "    Test Cases\n",
    "</h6>"
   ]
  },
  {
   "cell_type": "code",
   "execution_count": 5,
   "id": "77adbe84-d22e-45f2-bab5-5fba3e3f8966",
   "metadata": {},
   "outputs": [
    {
     "name": "stdin",
     "output_type": "stream",
     "text": [
      "Input:  :1st_place_medal:\n"
     ]
    },
    {
     "name": "stdout",
     "output_type": "stream",
     "text": [
      "🥇\n"
     ]
    }
   ],
   "source": [
    "emojize()"
   ]
  },
  {
   "cell_type": "code",
   "execution_count": 6,
   "id": "41e1ca53-41af-44c4-9668-d91542421816",
   "metadata": {},
   "outputs": [
    {
     "name": "stdin",
     "output_type": "stream",
     "text": [
      "Input:  :money_bag:\n"
     ]
    },
    {
     "name": "stdout",
     "output_type": "stream",
     "text": [
      "💰\n"
     ]
    }
   ],
   "source": [
    "emojize()"
   ]
  },
  {
   "cell_type": "code",
   "execution_count": 10,
   "id": "b474ba53-104b-422e-adf5-8b0758c8fd98",
   "metadata": {},
   "outputs": [
    {
     "name": "stdin",
     "output_type": "stream",
     "text": [
      "Input:  :smile_cat:\n"
     ]
    },
    {
     "name": "stdout",
     "output_type": "stream",
     "text": [
      "😸\n"
     ]
    }
   ],
   "source": [
    "emojize()"
   ]
  },
  {
   "cell_type": "markdown",
   "id": "e4e93d1a-2903-4750-bc4f-be24e9e10732",
   "metadata": {},
   "source": [
    "<h4>\n",
    "    Frank, Ian and Glen’s Letters\n",
    "</h4>"
   ]
  },
  {
   "cell_type": "markdown",
   "id": "98fdb793-5e42-4dc4-9407-b2b4bcb1aea5",
   "metadata": {},
   "source": [
    "```sql\n",
    "FIGlet, named after Frank, Ian, and Glen’s letters, is a program from the early 1990s for making large letters out of ordinary text, a form of ASCII art:\n",
    "\n",
    " _ _ _          _   _     _\n",
    "| (_) | _____  | |_| |__ (_)___\n",
    "| | | |/ / _ \\ | __| '_ \\| / __|\n",
    "| | |   <  __/ | |_| | | | \\__ \\\n",
    "|_|_|_|\\_\\___|  \\__|_| |_|_|___/\n",
    "Among the fonts supported by FIGlet are those at figlet.org/examples.html.\n",
    "\n",
    "FIGlet has since been ported to Python as a module called pyfiglet.\n",
    "\n",
    "In a file called figlet.py, implement a program that:\n",
    "\n",
    "Expects zero or two command-line arguments:\n",
    "Zero if the user would like to output text in a random font.\n",
    "Two if the user would like to output text in a specific font, in which case the first of the two should be -f or --font, and the second of the two should be the name of the font.\n",
    "Prompts the user for a str of text.\n",
    "Outputs that text in the desired font.\n",
    "If the user provides two command-line arguments and the first is not -f or --font or the second is not the name of a font, the program should exit via sys.exit with an error message.\n",
    "```"
   ]
  },
  {
   "cell_type": "code",
   "execution_count": 13,
   "id": "4a8793c3-af39-4953-8a6d-d357f248e886",
   "metadata": {},
   "outputs": [],
   "source": [
    "from pyfiglet import Figlet\n",
    "import sys\n",
    "from random import choice\n",
    "\n",
    "def figlet():\n",
    "    f=Figlet()\n",
    "    fonts=f.getFonts()\n",
    "\n",
    "    # Anything after python is considered as CLI Arguments\n",
    "    if len(sys.argv)==3:\n",
    "        sel=sys.argv[2]\n",
    "    elif len(sys.argv)==1:\n",
    "        sel=choice(fonts)\n",
    "    else:\n",
    "        sys.exit()\n",
    "    f.setFont(font=sel)\n",
    "    print(f.renderText(input('Input: ')))"
   ]
  },
  {
   "cell_type": "markdown",
   "id": "48578159-2e61-4404-b3c5-4ce4ebb5f008",
   "metadata": {},
   "source": [
    "<h6>\n",
    "    Test Cases\n",
    "</h6>"
   ]
  },
  {
   "cell_type": "code",
   "execution_count": null,
   "id": "1014d561-2dfc-4103-b0cd-5014de556934",
   "metadata": {
    "scrolled": true
   },
   "outputs": [],
   "source": [
    "#This code is tested in CLI\n",
    "figlet()"
   ]
  },
  {
   "cell_type": "markdown",
   "id": "6b47f20a-bbc3-4549-bdec-4e25311e0dcc",
   "metadata": {},
   "source": [
    "<h4>\n",
    "    Adieu\n",
    "</h4>"
   ]
  },
  {
   "cell_type": "markdown",
   "id": "c523b562-ee1e-44ce-a898-f9c80896c319",
   "metadata": {},
   "source": [
    "```sql\n",
    "In a file called adieu.py, implement a program that prompts the user for names, one per line, until the user inputs control-d. Assume that the user will input at least one name. Then bid adieu to those names, separating two names with one and, three names with two commas and one and, and 𝑛 names with 𝑛 −1 commas and one and, as in the below:\n",
    "\n",
    "Adieu, adieu, to Liesl\n",
    "Adieu, adieu, to Liesl and Friedrich\n",
    "Adieu, adieu, to Liesl, Friedrich, and Louisa\n",
    "Adieu, adieu, to Liesl, Friedrich, Louisa, and Kurt\n",
    "Adieu, adieu, to Liesl, Friedrich, Louisa, Kurt, and Brigitta\n",
    "Adieu, adieu, to Liesl, Friedrich, Louisa, Kurt, Brigitta, and Marta\n",
    "Adieu, adieu, to Liesl, Friedrich, Louisa, Kurt, Brigitta, Marta, and Gretl\n",
    "```"
   ]
  },
  {
   "cell_type": "code",
   "execution_count": 16,
   "id": "d7183ea6-9a74-4ae5-8e52-9dd8a9ecfe92",
   "metadata": {},
   "outputs": [],
   "source": [
    "def adieu():\n",
    "    names=[]\n",
    "    while True:\n",
    "        try:\n",
    "            text=input('Name: ')\n",
    "        except EOFError:\n",
    "            break\n",
    "        else:\n",
    "            names.append(text)\n",
    "    print('Adieu, adieu, to',end=' ')\n",
    "    \n",
    "    if len(names)==1:\n",
    "        print(names[0])\n",
    "    elif len(names)==2:\n",
    "        print(names[0],'and',names[1])\n",
    "    else:\n",
    "        for i in range(len(names)):\n",
    "            if i==len(names)-1:\n",
    "                print('and', names[i])\n",
    "            else:\n",
    "                print(names[i],',', sep='', end=' ')"
   ]
  },
  {
   "cell_type": "markdown",
   "id": "517cd18e-6940-47aa-8765-fa058e0e2ecf",
   "metadata": {},
   "source": [
    "<h6>\n",
    "    Test Cases\n",
    "</h6>"
   ]
  },
  {
   "cell_type": "code",
   "execution_count": null,
   "id": "db64f077-14b1-4e13-9d74-55c35eebfeb7",
   "metadata": {},
   "outputs": [],
   "source": [
    "#Tested in CLI\n",
    "adieu()"
   ]
  },
  {
   "cell_type": "markdown",
   "id": "e956714a-2299-47c2-b3cd-6096e72311f4",
   "metadata": {},
   "source": [
    "<h4>\n",
    "    Guessing Game\n",
    "</h4>"
   ]
  },
  {
   "cell_type": "markdown",
   "id": "fae52a49-3230-461a-977f-f8d665f3b116",
   "metadata": {},
   "source": [
    "```sql\n",
    "I’m thinking of a number between 1 and 100…\n",
    "\n",
    "What is it?\n",
    "In a file called game.py, implement a program that:\n",
    "\n",
    "Prompts the user for a level, 𝑛. If the user does not input a positive integer, the program should prompt again.\n",
    "Randomly generates an integer between 1 and 𝑛, inclusive, using the random module.\n",
    "Prompts the user to guess that integer. If the guess is not a positive integer, the program should prompt the user again.\n",
    "If the guess is smaller than that integer, the program should output Too small! and prompt the user again.\n",
    "If the guess is larger than that integer, the program should output Too large! and prompt the user again.\n",
    "If the guess is the same as that integer, the program should output Just right! and exit.\n",
    "```"
   ]
  },
  {
   "cell_type": "code",
   "execution_count": 17,
   "id": "431b20f5-c659-4893-a699-fd49b7fe35cf",
   "metadata": {},
   "outputs": [],
   "source": [
    "from random import randint"
   ]
  },
  {
   "cell_type": "code",
   "execution_count": 28,
   "id": "7ac68432-8429-4376-be83-dc9689e541aa",
   "metadata": {},
   "outputs": [],
   "source": [
    "def guess_game():\n",
    "    level=0\n",
    "    while True:\n",
    "        try:\n",
    "            level=int(input('Level: '))\n",
    "            if level<=0:\n",
    "                raise ValueError\n",
    "        except ValueError:\n",
    "            pass\n",
    "        else:\n",
    "            break\n",
    "    num=randint(1,level)\n",
    "    guess=0\n",
    "    while num!=guess:\n",
    "        try:\n",
    "            guess=int(input('Guess: '))\n",
    "            if guess<=0 or guess>level:\n",
    "                raise ValueError\n",
    "            if guess==num:\n",
    "                print('Just right!')\n",
    "            elif guess<num:\n",
    "                print('Too Small!')\n",
    "            elif guess>num:\n",
    "                print('Too Large!')\n",
    "        except ValueError:\n",
    "            pass"
   ]
  },
  {
   "cell_type": "markdown",
   "id": "8717e9dc-a355-466e-908a-6ce1f52dc8fb",
   "metadata": {},
   "source": [
    "<h6>\n",
    "    Test Cases\n",
    "</h6>"
   ]
  },
  {
   "cell_type": "code",
   "execution_count": 23,
   "id": "23d57195-7023-4d9f-9ae7-8b3e821071f7",
   "metadata": {
    "scrolled": true
   },
   "outputs": [
    {
     "name": "stdin",
     "output_type": "stream",
     "text": [
      "Level:  10\n",
      "Guess:  1\n"
     ]
    },
    {
     "name": "stdout",
     "output_type": "stream",
     "text": [
      "Too Small!\n"
     ]
    },
    {
     "name": "stdin",
     "output_type": "stream",
     "text": [
      "Guess:  4\n"
     ]
    },
    {
     "name": "stdout",
     "output_type": "stream",
     "text": [
      "Too Large!\n"
     ]
    },
    {
     "name": "stdin",
     "output_type": "stream",
     "text": [
      "Guess:  5\n"
     ]
    },
    {
     "name": "stdout",
     "output_type": "stream",
     "text": [
      "Too Large!\n"
     ]
    },
    {
     "name": "stdin",
     "output_type": "stream",
     "text": [
      "Guess:  2\n"
     ]
    },
    {
     "name": "stdout",
     "output_type": "stream",
     "text": [
      "Just right!\n"
     ]
    }
   ],
   "source": [
    "guess_game()"
   ]
  },
  {
   "cell_type": "code",
   "execution_count": 29,
   "id": "9383ec5a-98b9-4d43-b73d-edc8cdc76527",
   "metadata": {},
   "outputs": [
    {
     "name": "stdin",
     "output_type": "stream",
     "text": [
      "Level:  cat\n",
      "Level:  -1\n",
      "Level:  10\n",
      "Guess:  20\n",
      "Guess:  4\n"
     ]
    },
    {
     "name": "stdout",
     "output_type": "stream",
     "text": [
      "Too Small!\n"
     ]
    },
    {
     "name": "stdin",
     "output_type": "stream",
     "text": [
      "Guess:  8\n"
     ]
    },
    {
     "name": "stdout",
     "output_type": "stream",
     "text": [
      "Just right!\n"
     ]
    }
   ],
   "source": [
    "guess_game()"
   ]
  },
  {
   "cell_type": "markdown",
   "id": "ecf4ac47-ef80-4158-b28a-10bb76a424ff",
   "metadata": {},
   "source": [
    "<h4>\n",
    "    Little Professor\n",
    "</h4>"
   ]
  },
  {
   "cell_type": "markdown",
   "id": "cc4105a0-06d8-4205-b089-15925e71d8b3",
   "metadata": {},
   "source": [
    "```sql\n",
    "In a file called professor.py, implement a program that:\n",
    "\n",
    "Prompts the user for a level, 𝑛. If the user does not input 1, 2, or 3, the program should prompt again.\n",
    "Randomly generates ten (10) math problems formatted as X + Y = , wherein each of X and Y is a non-negative integer with 𝑛 digits. No need to support operations other than addition (+).\n",
    "Note: The order in which you generate x and y matters. Your program should generate random numbers in x, y pairs to simulate generating one math question at a time (e.g., x0 with y0, x1 with y1, and so on).\n",
    "\n",
    "Prompts the user to solve each of those problems. If an answer is not correct (or not even a number), the program should output EEE and prompt the user again, allowing the user up to three tries in total for that problem. If the user has still not answered correctly after three tries, the program should output the correct answer.\n",
    "The program should ultimately output the user’s score: the number of correct answers out of 10.\n",
    "Structure your program as follows, wherein get_level prompts (and, if need be, re-prompts) the user for a level and returns 1, 2, or 3, and generate_integer returns a single randomly generated non-negative integer with level digits or raises a ValueError if level is not 1, 2, or 3:\n",
    "\n",
    "```"
   ]
  },
  {
   "cell_type": "code",
   "execution_count": 34,
   "id": "febe2cc9-3916-4ca5-b208-b07ed7de3735",
   "metadata": {},
   "outputs": [
    {
     "name": "stdin",
     "output_type": "stream",
     "text": [
      "Level:  1\n"
     ]
    },
    {
     "name": "stdout",
     "output_type": "stream",
     "text": [
      "2 + 0 = "
     ]
    },
    {
     "name": "stdin",
     "output_type": "stream",
     "text": [
      " 2\n"
     ]
    },
    {
     "name": "stdout",
     "output_type": "stream",
     "text": [
      "4 + 3 = "
     ]
    },
    {
     "name": "stdin",
     "output_type": "stream",
     "text": [
      " 7\n"
     ]
    },
    {
     "name": "stdout",
     "output_type": "stream",
     "text": [
      "0 + 9 = "
     ]
    },
    {
     "name": "stdin",
     "output_type": "stream",
     "text": [
      " 9\n"
     ]
    },
    {
     "name": "stdout",
     "output_type": "stream",
     "text": [
      "1 + 6 = "
     ]
    },
    {
     "name": "stdin",
     "output_type": "stream",
     "text": [
      " 7\n"
     ]
    },
    {
     "name": "stdout",
     "output_type": "stream",
     "text": [
      "7 + 1 = "
     ]
    },
    {
     "name": "stdin",
     "output_type": "stream",
     "text": [
      " 8\n"
     ]
    },
    {
     "name": "stdout",
     "output_type": "stream",
     "text": [
      "0 + 6 = "
     ]
    },
    {
     "name": "stdin",
     "output_type": "stream",
     "text": [
      " 6\n"
     ]
    },
    {
     "name": "stdout",
     "output_type": "stream",
     "text": [
      "5 + 2 = "
     ]
    },
    {
     "name": "stdin",
     "output_type": "stream",
     "text": [
      " 7\n"
     ]
    },
    {
     "name": "stdout",
     "output_type": "stream",
     "text": [
      "3 + 9 = "
     ]
    },
    {
     "name": "stdin",
     "output_type": "stream",
     "text": [
      " 12\n"
     ]
    },
    {
     "name": "stdout",
     "output_type": "stream",
     "text": [
      "1 + 6 = "
     ]
    },
    {
     "name": "stdin",
     "output_type": "stream",
     "text": [
      " 7\n"
     ]
    },
    {
     "name": "stdout",
     "output_type": "stream",
     "text": [
      "1 + 7 = "
     ]
    },
    {
     "name": "stdin",
     "output_type": "stream",
     "text": [
      " 8\n"
     ]
    },
    {
     "name": "stdout",
     "output_type": "stream",
     "text": [
      "Score : 10\n"
     ]
    }
   ],
   "source": [
    "from random import randint\n",
    "\n",
    "def main():\n",
    "    score=0\n",
    "    level=get_level()\n",
    "    for i in range(10):\n",
    "        x=generate_integer(level)\n",
    "        y=generate_integer(level)\n",
    "        print(x,'+',y,'=',end=' ')\n",
    "        incorrect=0\n",
    "        usr_inp=-10\n",
    "        while usr_inp!=(x+y):\n",
    "            try:\n",
    "                usr_inp=int(input())\n",
    "                if usr_inp<=0:\n",
    "                    raise ValueError\n",
    "                if usr_inp!=(x+y) and incorrect<3:\n",
    "                    print('EEE')\n",
    "                    print(x,'+',y,'=',end=' ')\n",
    "                    incorrect+=1\n",
    "                    raise NameError  \n",
    "            except ValueError:\n",
    "                pass\n",
    "            except NameError:\n",
    "                pass\n",
    "            if incorrect==3 and usr_inp!=(x+y):\n",
    "                print(x+y)\n",
    "                break\n",
    "            elif usr_inp==(x+y):\n",
    "                score=score+1\n",
    "                break\n",
    "    print('Score :',score)\n",
    "\n",
    "\n",
    "def get_level():\n",
    "    while True:\n",
    "        try:\n",
    "            level=int(input('Level: '))\n",
    "            if level not in [1,2,3]:\n",
    "                raise ValueError\n",
    "            break\n",
    "        except ValueError:\n",
    "            pass\n",
    "    return level\n",
    "                  \n",
    "\n",
    "\n",
    "def generate_integer(level):\n",
    "    if level==1:\n",
    "        return randint(0,9)\n",
    "    if level==2:\n",
    "        return randint(10,99)\n",
    "    if level==3:\n",
    "        return randint(100,999)\n",
    "\n",
    "\n",
    "if __name__ == \"__main__\":\n",
    "    main()"
   ]
  },
  {
   "cell_type": "markdown",
   "id": "68cce3c3-bbf2-4a42-aab0-dac5a2616960",
   "metadata": {},
   "source": [
    "<h3>\n",
    "Bitcoin Price Index\n",
    "</h3>"
   ]
  },
  {
   "cell_type": "markdown",
   "id": "279a23ff-b2e5-4b21-8750-b4f8661fc7dd",
   "metadata": {},
   "source": [
    "```sql\n",
    "Bitcoin is a form of digital currency, otherwise known as cryptocurrency. Rather than rely on a central authority like a bank, Bitcoin instead relies on a distributed network, otherwise known as a blockchain, to record transactions.\n",
    "\n",
    "Because there’s demand for Bitcoin (i.e., users want it), users are willing to buy it, as by exchanging one currency (e.g., USD) for Bitcoin.\n",
    "\n",
    "In a file called bitcoin.py, implement a program that:\n",
    "\n",
    "Expects the user to specify as a command-line argument the number of Bitcoins, 𝑛, that they would like to buy. If that argument cannot be converted to a float, the program should exit via sys.exit with an error message.\n",
    "Queries the API for the CoinCap Bitcoin Price Index at rest.coincap.io/v3/assets/bitcoin?apiKey=YourApiKey. You should replace YourApiKey with the actual API key you obtained from your CoinCap account dashboard, which returns a JSON object, among whose nested keys is the current price of Bitcoin as a float. Be sure to catch any exceptions, as with code like:\n",
    "import requests\n",
    "\n",
    "try:\n",
    "    ...\n",
    "except requests.RequestException:\n",
    "    ...\n",
    "Outputs the current cost of 𝑛 Bitcoins in USD to four decimal places, using , as a thousands separator.\n",
    "```"
   ]
  },
  {
   "cell_type": "code",
   "execution_count": 44,
   "id": "8b76ed7f-8f0e-4f72-b6cf-2b612e08a6ba",
   "metadata": {},
   "outputs": [],
   "source": [
    "import requests\n",
    "import sys\n",
    "\n",
    "def bitcoin_price():\n",
    "    if len(sys.argv)<2:\n",
    "        sys.exit('Missing command line argument')\n",
    "    elif len(sys.argv)>3:\n",
    "        sys.exit('Too many command line arguments')\n",
    "    elif not sys.argv[1].isnumeric():\n",
    "        sys.exit('Command-line argument is not a number')\n",
    "    else:\n",
    "        try:\n",
    "            url = \"https://api.coingecko.com/api/v3/simple/price\"\n",
    "            params = {\"ids\": \"bitcoin\",\"vs_currencies\": \"usd\"}\n",
    "            response = requests.get(url, params=params)\n",
    "            data = response.json()\n",
    "            price=data['bitcoin']['usd'] * float(sys.argv[1])\n",
    "        except requests.RequestException:\n",
    "            sys.exit('API Call Error')\n",
    "        print(f'${price:,}')"
   ]
  },
  {
   "cell_type": "code",
   "execution_count": null,
   "id": "84da35cf-c8b3-4c75-94a1-8b3c4294cdbd",
   "metadata": {},
   "outputs": [],
   "source": [
    "#Tested in CLI\n",
    "bitcoin_price()"
   ]
  },
  {
   "cell_type": "markdown",
   "id": "f54449db-5daa-4270-93fd-75c7633e9dfc",
   "metadata": {},
   "source": [
    "#### End"
   ]
  }
 ],
 "metadata": {
  "kernelspec": {
   "display_name": "Python 3 (ipykernel)",
   "language": "python",
   "name": "python3"
  },
  "language_info": {
   "codemirror_mode": {
    "name": "ipython",
    "version": 3
   },
   "file_extension": ".py",
   "mimetype": "text/x-python",
   "name": "python",
   "nbconvert_exporter": "python",
   "pygments_lexer": "ipython3",
   "version": "3.10.0"
  }
 },
 "nbformat": 4,
 "nbformat_minor": 5
}
