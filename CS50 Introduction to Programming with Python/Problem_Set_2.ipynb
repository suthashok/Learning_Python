{
 "cells": [
  {
   "cell_type": "markdown",
   "id": "07aecf41-885a-4f2e-8e9a-05ba4cc28bd2",
   "metadata": {},
   "source": [
    "<html>\n",
    "    <h1>\n",
    "        CS50’s Introduction to Programming with Python\n",
    "    </h1>\n",
    "    <p1>\n",
    "        These problem sets are available at: <a href=\"https://cs50.harvard.edu/python/psets/\">https://cs50.harvard.edu/python/psets/</a>\n",
    "    </p1>\n",
    " \n",
    "</html>"
   ]
  },
  {
   "cell_type": "markdown",
   "id": "85512480-9fb0-4439-ad35-70070a13da95",
   "metadata": {},
   "source": [
    "<h3>\n",
    "    Problem Set 2\n",
    "</h3>"
   ]
  },
  {
   "cell_type": "markdown",
   "id": "953b9384-98b5-436d-9ffa-f42087487218",
   "metadata": {},
   "source": [
    "<h4>\n",
    "    camelCase\n",
    "</h4>"
   ]
  },
  {
   "cell_type": "markdown",
   "id": "93f09a0f-efb6-4d49-b324-f14508838db6",
   "metadata": {},
   "source": [
    "```sql\n",
    "In some languages, it’s common to use camel case (otherwise known as “mixed case”) for variables’ names when those names comprise multiple words, whereby the first letter of the first word is lowercase but the first letter of each subsequent word is uppercase. For instance, whereas a variable for a user’s name might be called name, a variable for a user’s first name might be called firstName, and a variable for a user’s preferred first name (e.g., nickname) might be called preferredFirstName.\n",
    "\n",
    "Python, by contrast, recommends snake case, whereby words are instead separated by underscores (_), with all letters in lowercase. For instance, those same variables would be called name, first_name, and preferred_first_name, respectively, in Python.\n",
    "\n",
    "In a file called camel.py, implement a program that prompts the user for the name of a variable in camel case and outputs the corresponding name in snake case. Assume that the user’s input will indeed be in camel case.\n",
    "```"
   ]
  },
  {
   "cell_type": "code",
   "execution_count": 2,
   "id": "5f23e714-0367-44f3-96d7-1369fc13a78a",
   "metadata": {},
   "outputs": [],
   "source": [
    "def camel_to_snake(text):\n",
    "    inp=list(text)\n",
    "    upper_case_positions=[]\n",
    "    for i in range(len(inp)):\n",
    "        if inp[i].isupper():\n",
    "            inp[i]='_'+inp[i].lower()\n",
    "    return ''.join(inp)"
   ]
  },
  {
   "cell_type": "markdown",
   "id": "c023c82f-2777-4c04-98fb-c95eeb50e71d",
   "metadata": {},
   "source": [
    "<h6>\n",
    "    Test Cases\n",
    "</h6>"
   ]
  },
  {
   "cell_type": "code",
   "execution_count": 3,
   "id": "77adbe84-d22e-45f2-bab5-5fba3e3f8966",
   "metadata": {},
   "outputs": [
    {
     "data": {
      "text/plain": [
       "'name'"
      ]
     },
     "execution_count": 3,
     "metadata": {},
     "output_type": "execute_result"
    }
   ],
   "source": [
    "camel_to_snake('name')"
   ]
  },
  {
   "cell_type": "code",
   "execution_count": 4,
   "id": "41e1ca53-41af-44c4-9668-d91542421816",
   "metadata": {},
   "outputs": [
    {
     "data": {
      "text/plain": [
       "'first_name'"
      ]
     },
     "execution_count": 4,
     "metadata": {},
     "output_type": "execute_result"
    }
   ],
   "source": [
    "camel_to_snake('firstName')"
   ]
  },
  {
   "cell_type": "code",
   "execution_count": 5,
   "id": "b474ba53-104b-422e-adf5-8b0758c8fd98",
   "metadata": {},
   "outputs": [
    {
     "data": {
      "text/plain": [
       "'preferred_first_name'"
      ]
     },
     "execution_count": 5,
     "metadata": {},
     "output_type": "execute_result"
    }
   ],
   "source": [
    "camel_to_snake('preferredFirstName')"
   ]
  },
  {
   "cell_type": "markdown",
   "id": "e4e93d1a-2903-4750-bc4f-be24e9e10732",
   "metadata": {},
   "source": [
    "<h4>\n",
    "    Coke Machine\n",
    "</h4>"
   ]
  },
  {
   "cell_type": "markdown",
   "id": "98fdb793-5e42-4dc4-9407-b2b4bcb1aea5",
   "metadata": {},
   "source": [
    "```sql\n",
    "Suppose that a machine sells bottles of Coca-Cola (Coke) for 50 cents and only accepts coins in these denominations: 25 cents, 10 cents, and 5 cents.\n",
    "\n",
    "In a file called coke.py, implement a program that prompts the user to insert a coin, one at a time, each time informing the user of the amount due. Once the user has inputted at least 50 cents, output how many cents in change the user is owed. Assume that the user will only input integers, and ignore any integer that isn’t an accepted denomination.\n",
    "```"
   ]
  },
  {
   "cell_type": "code",
   "execution_count": 9,
   "id": "4a8793c3-af39-4953-8a6d-d357f248e886",
   "metadata": {},
   "outputs": [],
   "source": [
    "def coke_machine():\n",
    "    user_holding=0\n",
    "    while user_holding<50:\n",
    "        print('Amount due:',50-user_holding)\n",
    "        inp=int(input('Insert Coin:'))\n",
    "        if inp in [5,10,25]:\n",
    "            user_holding=user_holding+inp\n",
    "    if user_holding>=50:\n",
    "        print('Change Owned:',user_holding-50)"
   ]
  },
  {
   "cell_type": "markdown",
   "id": "48578159-2e61-4404-b3c5-4ce4ebb5f008",
   "metadata": {},
   "source": [
    "<h6>\n",
    "    Test Cases\n",
    "</h6>"
   ]
  },
  {
   "cell_type": "code",
   "execution_count": 10,
   "id": "1014d561-2dfc-4103-b0cd-5014de556934",
   "metadata": {},
   "outputs": [
    {
     "name": "stdout",
     "output_type": "stream",
     "text": [
      "Amount due: 50\n"
     ]
    },
    {
     "name": "stdin",
     "output_type": "stream",
     "text": [
      "Insert Coin: 25\n"
     ]
    },
    {
     "name": "stdout",
     "output_type": "stream",
     "text": [
      "Amount due: 25\n"
     ]
    },
    {
     "name": "stdin",
     "output_type": "stream",
     "text": [
      "Insert Coin: 25\n"
     ]
    },
    {
     "name": "stdout",
     "output_type": "stream",
     "text": [
      "Change Owned: 0\n"
     ]
    }
   ],
   "source": [
    "coke_machine()"
   ]
  },
  {
   "cell_type": "code",
   "execution_count": 11,
   "id": "c9ba29c4-b97c-48de-a9eb-a16af04dd48e",
   "metadata": {},
   "outputs": [
    {
     "name": "stdout",
     "output_type": "stream",
     "text": [
      "Amount due: 50\n"
     ]
    },
    {
     "name": "stdin",
     "output_type": "stream",
     "text": [
      "Insert Coin: 25\n"
     ]
    },
    {
     "name": "stdout",
     "output_type": "stream",
     "text": [
      "Amount due: 25\n"
     ]
    },
    {
     "name": "stdin",
     "output_type": "stream",
     "text": [
      "Insert Coin: 10\n"
     ]
    },
    {
     "name": "stdout",
     "output_type": "stream",
     "text": [
      "Amount due: 15\n"
     ]
    },
    {
     "name": "stdin",
     "output_type": "stream",
     "text": [
      "Insert Coin: 25\n"
     ]
    },
    {
     "name": "stdout",
     "output_type": "stream",
     "text": [
      "Change Owned: 10\n"
     ]
    }
   ],
   "source": [
    "coke_machine()"
   ]
  },
  {
   "cell_type": "markdown",
   "id": "e956714a-2299-47c2-b3cd-6096e72311f4",
   "metadata": {},
   "source": [
    "<h4>\n",
    "    Twitter\n",
    "</h4>"
   ]
  },
  {
   "cell_type": "markdown",
   "id": "fae52a49-3230-461a-977f-f8d665f3b116",
   "metadata": {},
   "source": [
    "```sql\n",
    "When texting or tweeting, it’s not uncommon to shorten words to save time or space, as by omitting vowels, much like Twitter was originally called twttr. In a file called twttr.py, implement a program that prompts the user for a str of text and then outputs that same text but with all vowels (A, E, I, O, and U) omitted, whether inputted in uppercase or lowercase.\n",
    "```"
   ]
  },
  {
   "cell_type": "code",
   "execution_count": 27,
   "id": "7ac68432-8429-4376-be83-dc9689e541aa",
   "metadata": {},
   "outputs": [],
   "source": [
    "def twttr():\n",
    "    text=list(input(\"Input:\"))\n",
    "    result=[]\n",
    "    ommit=['A','E','I','O','U','a','e','i','o','u']\n",
    "    for i in text:\n",
    "        if i not in ommit:\n",
    "            result.append(i)\n",
    "    print('Output:', ''.join(result))"
   ]
  },
  {
   "cell_type": "markdown",
   "id": "8717e9dc-a355-466e-908a-6ce1f52dc8fb",
   "metadata": {},
   "source": [
    "<h6>\n",
    "    Test Cases\n",
    "</h6>"
   ]
  },
  {
   "cell_type": "code",
   "execution_count": 28,
   "id": "9383ec5a-98b9-4d43-b73d-edc8cdc76527",
   "metadata": {},
   "outputs": [
    {
     "name": "stdin",
     "output_type": "stream",
     "text": [
      "Input: Twitter\n"
     ]
    },
    {
     "name": "stdout",
     "output_type": "stream",
     "text": [
      "Output: Twttr\n"
     ]
    }
   ],
   "source": [
    "twttr()"
   ]
  },
  {
   "cell_type": "code",
   "execution_count": 29,
   "id": "7ccba25b-78d2-45ed-8aac-40687c249334",
   "metadata": {},
   "outputs": [
    {
     "name": "stdin",
     "output_type": "stream",
     "text": [
      "Input: What's your name?\n"
     ]
    },
    {
     "name": "stdout",
     "output_type": "stream",
     "text": [
      "Output: Wht's yr nm?\n"
     ]
    }
   ],
   "source": [
    "twttr()"
   ]
  },
  {
   "cell_type": "code",
   "execution_count": 30,
   "id": "95e62715-c41f-42ab-991d-a3080437d054",
   "metadata": {},
   "outputs": [
    {
     "name": "stdin",
     "output_type": "stream",
     "text": [
      "Input: CS50\n"
     ]
    },
    {
     "name": "stdout",
     "output_type": "stream",
     "text": [
      "Output: CS50\n"
     ]
    }
   ],
   "source": [
    "twttr()"
   ]
  },
  {
   "cell_type": "markdown",
   "id": "320dcf03-fef8-4e20-9767-80c56e65741e",
   "metadata": {},
   "source": [
    "<h4>\n",
    "    Vanity Plates\n",
    "</h4>"
   ]
  },
  {
   "cell_type": "markdown",
   "id": "98a38095-04ff-4131-af71-974dd626a9af",
   "metadata": {},
   "source": [
    "```sql\n",
    "In Massachusetts, home to Harvard University, it’s possible to request a vanity license plate for your car, with your choice of letters and numbers instead of random ones. Among the requirements, though, are:\n",
    "\n",
    "“All vanity plates must start with at least two letters.”\n",
    "“… vanity plates may contain a maximum of 6 characters (letters or numbers) and a minimum of 2 characters.”\n",
    "“Numbers cannot be used in the middle of a plate; they must come at the end. For example, AAA222 would be an acceptable … vanity plate; AAA22A would not be acceptable. The first number used cannot be a ‘0’.”\n",
    "“No periods, spaces, or punctuation marks are allowed.”\n",
    "In plates.py, implement a program that prompts the user for a vanity plate and then output Valid if meets all of the requirements or Invalid if it does not. Assume that any letters in the user’s input will be uppercase. Structure your program per the below, wherein is_valid returns True if s meets all requirements and False if it does not. Assume that s will be a str. You’re welcome to implement additional functions for is_valid to call (e.g., one function per requirement).\n",
    "```"
   ]
  },
  {
   "cell_type": "code",
   "execution_count": 46,
   "id": "3e17f26b-50f8-4d53-89a6-3077d6a95e58",
   "metadata": {},
   "outputs": [],
   "source": [
    "import re\n",
    "import string"
   ]
  },
  {
   "cell_type": "code",
   "execution_count": 39,
   "id": "ce7aea09-8ab8-45f7-8d4b-06c7468b2559",
   "metadata": {},
   "outputs": [
    {
     "data": {
      "text/plain": [
       "'2'"
      ]
     },
     "execution_count": 39,
     "metadata": {},
     "output_type": "execute_result"
    }
   ],
   "source": [
    "re.search(r'\\d{1}','AAA22A').group()"
   ]
  },
  {
   "cell_type": "code",
   "execution_count": 52,
   "id": "41043388-bf55-4338-a07a-cb5d7eb1f072",
   "metadata": {},
   "outputs": [
    {
     "name": "stdin",
     "output_type": "stream",
     "text": [
      "Plate:  CS50\n"
     ]
    },
    {
     "name": "stdout",
     "output_type": "stream",
     "text": [
      "Valid\n"
     ]
    }
   ],
   "source": [
    "def main():\n",
    "    plate = input(\"Plate: \")\n",
    "    if is_valid(plate):\n",
    "        print(\"Valid\")\n",
    "    else:\n",
    "        print(\"Invalid\")\n",
    "\n",
    "\n",
    "def is_valid(s):\n",
    "    if len(s)<=6 and len(s)>=2:\n",
    "        c2=(s[0].isalpha()) and s[1].isalpha()\n",
    "        c3=((not s[-1].isalpha()) and int(re.search(r'\\d{1}',s).group())!=0) if re.search(r'\\d{1}',s) else False\n",
    "        c4=False if re.search(rf'[{re.escape(string.punctuation)} .]', s) else True\n",
    "        return c2 and c3 and c4\n",
    "    return False\n",
    "\n",
    "\n",
    "main()"
   ]
  },
  {
   "cell_type": "markdown",
   "id": "90855018-71f4-4cc0-b513-16b9e267cee5",
   "metadata": {},
   "source": [
    "<h6>\n",
    "    Test Cases\n",
    "</h6>"
   ]
  },
  {
   "cell_type": "code",
   "execution_count": 48,
   "id": "a4c22eb4-eb1f-4059-b2c9-e40731657429",
   "metadata": {},
   "outputs": [
    {
     "name": "stdin",
     "output_type": "stream",
     "text": [
      "Plate:  CS05\n"
     ]
    },
    {
     "name": "stdout",
     "output_type": "stream",
     "text": [
      "Invalid\n"
     ]
    }
   ],
   "source": [
    "main()"
   ]
  },
  {
   "cell_type": "code",
   "execution_count": 49,
   "id": "5b8acdb3-cf40-479d-924f-0a6ba1f56496",
   "metadata": {},
   "outputs": [
    {
     "name": "stdin",
     "output_type": "stream",
     "text": [
      "Plate:  CS50P\n"
     ]
    },
    {
     "name": "stdout",
     "output_type": "stream",
     "text": [
      "Invalid\n"
     ]
    }
   ],
   "source": [
    "main()"
   ]
  },
  {
   "cell_type": "code",
   "execution_count": 50,
   "id": "2a3244b0-ee05-44f3-9d61-610b46a27448",
   "metadata": {},
   "outputs": [
    {
     "name": "stdin",
     "output_type": "stream",
     "text": [
      "Plate:  PI3.14\n"
     ]
    },
    {
     "name": "stdout",
     "output_type": "stream",
     "text": [
      "Invalid\n"
     ]
    }
   ],
   "source": [
    "main()"
   ]
  },
  {
   "cell_type": "code",
   "execution_count": 53,
   "id": "dcedfae5-6fd4-4ffc-9dd4-25c9ed5e359d",
   "metadata": {},
   "outputs": [
    {
     "name": "stdin",
     "output_type": "stream",
     "text": [
      "Plate:  H\n"
     ]
    },
    {
     "name": "stdout",
     "output_type": "stream",
     "text": [
      "Invalid\n"
     ]
    }
   ],
   "source": [
    "main()"
   ]
  },
  {
   "cell_type": "code",
   "execution_count": 54,
   "id": "16fdd8f4-159e-47f7-ae59-f41189b2694b",
   "metadata": {},
   "outputs": [
    {
     "name": "stdin",
     "output_type": "stream",
     "text": [
      "Plate:  OUTATIME\n"
     ]
    },
    {
     "name": "stdout",
     "output_type": "stream",
     "text": [
      "Invalid\n"
     ]
    }
   ],
   "source": [
    "main()"
   ]
  },
  {
   "cell_type": "markdown",
   "id": "deed00cf-c9a7-4b3c-8d82-ebb414b72f02",
   "metadata": {},
   "source": [
    "<h4>\n",
    "    Nutrition Facts\n",
    "</h4>"
   ]
  },
  {
   "cell_type": "markdown",
   "id": "7336b96d-c7ad-423a-a6c4-792d175bbd97",
   "metadata": {},
   "source": [
    "```sql\n",
    "The U.S. Food & Drug Adminstration (FDA) offers downloadable/printable posters that “show nutrition information for the 20 most frequently consumed raw fruits … in the United States. Retail stores are welcome to download the posters, print, display and/or distribute them to consumers in close proximity to the relevant foods in the stores.”\n",
    "\n",
    "In a file called nutrition.py, implement a program that prompts consumers users to input a fruit (case-insensitively) and then outputs the number of calories in one portion of that fruit, per the FDA’s poster for fruits, which is also available as text. Capitalization aside, assume that users will input fruits exactly as written in the poster (e.g., strawberries, not strawberry). Ignore any input that isn’t a fruit.\n",
    "```"
   ]
  },
  {
   "cell_type": "code",
   "execution_count": 58,
   "id": "ea040c82-253e-4f49-9558-7abb1d18ebb7",
   "metadata": {},
   "outputs": [
    {
     "name": "stdin",
     "output_type": "stream",
     "text": [
      "Fruit Name:  Apple\n"
     ]
    },
    {
     "name": "stdout",
     "output_type": "stream",
     "text": [
      "Calories: 130\n"
     ]
    }
   ],
   "source": [
    "fruits={'apple':130,'avocado':50,'banana':110,'cantaloupe':50,'grapefruit':60,'grapes':90,'sweet cherries':50}\n",
    "\n",
    "def main():\n",
    "    inp = input(\"Fruit Name: \")\n",
    "    if inp.lower() in fruits:\n",
    "        print('Calories:',fruits[inp.lower()])\n",
    "main()"
   ]
  },
  {
   "cell_type": "code",
   "execution_count": 60,
   "id": "53123df5-17bb-4fb3-aacf-914fa33ba3d9",
   "metadata": {},
   "outputs": [
    {
     "name": "stdin",
     "output_type": "stream",
     "text": [
      "Fruit Name:  Avocado\n"
     ]
    },
    {
     "name": "stdout",
     "output_type": "stream",
     "text": [
      "Calories: 50\n"
     ]
    }
   ],
   "source": [
    "main()"
   ]
  },
  {
   "cell_type": "code",
   "execution_count": 61,
   "id": "0fa270a4-49e0-43ea-b494-ad17b929bc07",
   "metadata": {},
   "outputs": [
    {
     "name": "stdin",
     "output_type": "stream",
     "text": [
      "Fruit Name:  Banana\n"
     ]
    },
    {
     "name": "stdout",
     "output_type": "stream",
     "text": [
      "Calories: 110\n"
     ]
    }
   ],
   "source": [
    "main()"
   ]
  },
  {
   "cell_type": "code",
   "execution_count": 62,
   "id": "3bfad901-dc1a-4949-906a-c804f7c6bd38",
   "metadata": {},
   "outputs": [
    {
     "name": "stdin",
     "output_type": "stream",
     "text": [
      "Fruit Name:  Tomato\n"
     ]
    }
   ],
   "source": [
    "main()"
   ]
  },
  {
   "cell_type": "code",
   "execution_count": 63,
   "id": "a9f18391-5f87-4616-9870-6469d8fe2b4b",
   "metadata": {},
   "outputs": [
    {
     "name": "stdin",
     "output_type": "stream",
     "text": [
      "Fruit Name:  Sweet Cherries\n"
     ]
    },
    {
     "name": "stdout",
     "output_type": "stream",
     "text": [
      "Calories: 50\n"
     ]
    }
   ],
   "source": [
    "main()"
   ]
  },
  {
   "cell_type": "markdown",
   "id": "f54449db-5daa-4270-93fd-75c7633e9dfc",
   "metadata": {},
   "source": [
    "#### End"
   ]
  }
 ],
 "metadata": {
  "kernelspec": {
   "display_name": "Python 3 (ipykernel)",
   "language": "python",
   "name": "python3"
  },
  "language_info": {
   "codemirror_mode": {
    "name": "ipython",
    "version": 3
   },
   "file_extension": ".py",
   "mimetype": "text/x-python",
   "name": "python",
   "nbconvert_exporter": "python",
   "pygments_lexer": "ipython3",
   "version": "3.10.0"
  }
 },
 "nbformat": 4,
 "nbformat_minor": 5
}
