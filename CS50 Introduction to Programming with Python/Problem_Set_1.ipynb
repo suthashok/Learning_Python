{
 "cells": [
  {
   "cell_type": "markdown",
   "id": "07aecf41-885a-4f2e-8e9a-05ba4cc28bd2",
   "metadata": {},
   "source": [
    "<html>\n",
    "    <h1>\n",
    "        CS50’s Introduction to Programming with Python\n",
    "    </h1>\n",
    "    <p1>\n",
    "        These problem sets are available at: <a href=\"https://cs50.harvard.edu/python/psets/\">https://cs50.harvard.edu/python/psets/</a>\n",
    "    </p1>\n",
    " \n",
    "</html>"
   ]
  },
  {
   "cell_type": "markdown",
   "id": "85512480-9fb0-4439-ad35-70070a13da95",
   "metadata": {},
   "source": [
    "<h3>\n",
    "    Problem Set 1\n",
    "</h3>"
   ]
  },
  {
   "cell_type": "markdown",
   "id": "953b9384-98b5-436d-9ffa-f42087487218",
   "metadata": {},
   "source": [
    "<h4>\n",
    "    Deep Thought\n",
    "</h4>"
   ]
  },
  {
   "cell_type": "markdown",
   "id": "93f09a0f-efb6-4d49-b324-f14508838db6",
   "metadata": {},
   "source": [
    "```sql\n",
    "“All right,” said the computer, and settled into silence again. The two men fidgeted. The tension was unbearable.\n",
    "“You’re really not going to like it,” observed Deep Thought.\n",
    "“Tell us!”\n",
    "“All right,” said Deep Thought. “The Answer to the Great Question…”\n",
    "“Yes…!”\n",
    "“Of Life, the Universe and Everything…” said Deep Thought.\n",
    "“Yes…!”\n",
    "“Is…” said Deep Thought, and paused.\n",
    "“Yes…!”\n",
    "“Is…”\n",
    "“Yes…!!!…?”\n",
    "“Forty-two,” said Deep Thought, with infinite majesty and calm.”\n",
    "\n",
    "— The Hitchhiker’s Guide to the Galaxy, Douglas Adams\n",
    "\n",
    "In deep.py, implement a program that prompts the user for the answer to the Great Question of Life, the Universe and Everything, outputting Yes if the user inputs 42 or (case-insensitively) forty-two or forty two. Otherwise output No.\n",
    "```"
   ]
  },
  {
   "cell_type": "code",
   "execution_count": 1,
   "id": "5f23e714-0367-44f3-96d7-1369fc13a78a",
   "metadata": {},
   "outputs": [],
   "source": [
    "def deep_thought():\n",
    "    text = input('What is the Answer to the Great Question of Life, the Universe and Everything?')\n",
    "    if text.lower() in ['forty two','forty-two'] or int(text)==42:\n",
    "        print('Yes')\n",
    "    else:\n",
    "        print('No')"
   ]
  },
  {
   "cell_type": "markdown",
   "id": "c023c82f-2777-4c04-98fb-c95eeb50e71d",
   "metadata": {},
   "source": [
    "<h6>\n",
    "    Test Cases\n",
    "</h6>"
   ]
  },
  {
   "cell_type": "code",
   "execution_count": 2,
   "id": "77adbe84-d22e-45f2-bab5-5fba3e3f8966",
   "metadata": {},
   "outputs": [
    {
     "name": "stdin",
     "output_type": "stream",
     "text": [
      "What is the Answer to the Great Question of Life, the Universe and Everything? 42\n"
     ]
    },
    {
     "name": "stdout",
     "output_type": "stream",
     "text": [
      "Yes\n"
     ]
    }
   ],
   "source": [
    "deep_thought()"
   ]
  },
  {
   "cell_type": "code",
   "execution_count": 3,
   "id": "41e1ca53-41af-44c4-9668-d91542421816",
   "metadata": {},
   "outputs": [
    {
     "name": "stdin",
     "output_type": "stream",
     "text": [
      "What is the Answer to the Great Question of Life, the Universe and Everything? Forty Two\n"
     ]
    },
    {
     "name": "stdout",
     "output_type": "stream",
     "text": [
      "Yes\n"
     ]
    }
   ],
   "source": [
    "deep_thought()"
   ]
  },
  {
   "cell_type": "code",
   "execution_count": 4,
   "id": "b474ba53-104b-422e-adf5-8b0758c8fd98",
   "metadata": {},
   "outputs": [
    {
     "name": "stdin",
     "output_type": "stream",
     "text": [
      "What is the Answer to the Great Question of Life, the Universe and Everything? forty-two\n"
     ]
    },
    {
     "name": "stdout",
     "output_type": "stream",
     "text": [
      "Yes\n"
     ]
    }
   ],
   "source": [
    "deep_thought()"
   ]
  },
  {
   "cell_type": "code",
   "execution_count": 5,
   "id": "2d46db58-9536-4241-ac51-0f3d556c36b7",
   "metadata": {},
   "outputs": [
    {
     "name": "stdin",
     "output_type": "stream",
     "text": [
      "What is the Answer to the Great Question of Life, the Universe and Everything? 50\n"
     ]
    },
    {
     "name": "stdout",
     "output_type": "stream",
     "text": [
      "No\n"
     ]
    }
   ],
   "source": [
    "deep_thought()"
   ]
  },
  {
   "cell_type": "markdown",
   "id": "e4e93d1a-2903-4750-bc4f-be24e9e10732",
   "metadata": {},
   "source": [
    "<h4>\n",
    "    Home Federal Savings Bank\n",
    "</h4>"
   ]
  },
  {
   "cell_type": "markdown",
   "id": "98fdb793-5e42-4dc4-9407-b2b4bcb1aea5",
   "metadata": {},
   "source": [
    "```sql\n",
    "In season 7, episode 24 of Seinfeld, Kramer visits a bank that promises to give $100 to anyone who isn’t greeted with a “hello.” Kramer is instead greeted with a “hey,” which he insists isn’t a “hello,” and so he asks for $100. The bank’s manager proposes a compromise: “You got a greeting that starts with an ‘h,’ how does $20 sound?” Kramer accepts.\n",
    "\n",
    "In a file called bank.py, implement a program that prompts the user for a greeting. If the greeting starts with “hello”, output $0. If the greeting starts with an “h” (but not “hello”), output $20. Otherwise, output $100. Ignore any leading whitespace in the user’s greeting, and treat the user’s greeting case-insensitively.\n",
    "```"
   ]
  },
  {
   "cell_type": "code",
   "execution_count": 9,
   "id": "4a8793c3-af39-4953-8a6d-d357f248e886",
   "metadata": {},
   "outputs": [],
   "source": [
    "def bank():\n",
    "    text=input('Greeting:')\n",
    "    if text.lower().strip()[0:5]=='hello':\n",
    "        print('$0')\n",
    "    elif text.lower().strip()[0]=='h':\n",
    "        print('$20')\n",
    "    else:\n",
    "        print('$100')"
   ]
  },
  {
   "cell_type": "markdown",
   "id": "48578159-2e61-4404-b3c5-4ce4ebb5f008",
   "metadata": {},
   "source": [
    "<h6>\n",
    "    Test Cases\n",
    "</h6>"
   ]
  },
  {
   "cell_type": "code",
   "execution_count": 10,
   "id": "1014d561-2dfc-4103-b0cd-5014de556934",
   "metadata": {},
   "outputs": [
    {
     "name": "stdin",
     "output_type": "stream",
     "text": [
      "Greeting: Hello\n"
     ]
    },
    {
     "name": "stdout",
     "output_type": "stream",
     "text": [
      "$0\n"
     ]
    }
   ],
   "source": [
    "bank()"
   ]
  },
  {
   "cell_type": "code",
   "execution_count": 11,
   "id": "c9ba29c4-b97c-48de-a9eb-a16af04dd48e",
   "metadata": {},
   "outputs": [
    {
     "name": "stdin",
     "output_type": "stream",
     "text": [
      "Greeting: Hello, Newman\n"
     ]
    },
    {
     "name": "stdout",
     "output_type": "stream",
     "text": [
      "$0\n"
     ]
    }
   ],
   "source": [
    "bank()"
   ]
  },
  {
   "cell_type": "code",
   "execution_count": 12,
   "id": "4495ad97-5486-4632-bbb6-e8bc4d8681b7",
   "metadata": {},
   "outputs": [
    {
     "name": "stdin",
     "output_type": "stream",
     "text": [
      "Greeting: How you doing?\n"
     ]
    },
    {
     "name": "stdout",
     "output_type": "stream",
     "text": [
      "$20\n"
     ]
    }
   ],
   "source": [
    "bank()"
   ]
  },
  {
   "cell_type": "code",
   "execution_count": 13,
   "id": "6199b00a-0111-434a-a429-0545e54c6cdb",
   "metadata": {},
   "outputs": [
    {
     "name": "stdin",
     "output_type": "stream",
     "text": [
      "Greeting: What's happening?\n"
     ]
    },
    {
     "name": "stdout",
     "output_type": "stream",
     "text": [
      "$100\n"
     ]
    }
   ],
   "source": [
    "bank()"
   ]
  },
  {
   "cell_type": "markdown",
   "id": "e956714a-2299-47c2-b3cd-6096e72311f4",
   "metadata": {},
   "source": [
    "<h4>\n",
    "    File Extensions\n",
    "</h4>"
   ]
  },
  {
   "cell_type": "markdown",
   "id": "fae52a49-3230-461a-977f-f8d665f3b116",
   "metadata": {},
   "source": [
    "```sql\n",
    "Even though Windows and macOS sometimes hide them, most files have file extensions, a suffix that starts with a period (.) at the end of their name. For instance, file names for GIFs end with .gif, and file names for JPEGs end with .jpg or .jpeg. When you double-click on a file to open it, your computer uses its file extension to determine which program to launch.\n",
    "\n",
    "Web browsers, by contrast, rely on media types, formerly known as MIME types, to determine how to display files that live on the web. When you download a file from a web server, that server sends an HTTP header, along with the file itself, indicating the file’s media type. For instance, the media type for a GIF is image/gif, and the media type for a JPEG is image/jpeg. To determine the media type for a file, a web server typically looks at the file’s extension, mapping one to the other.\n",
    "\n",
    "See developer.mozilla.org/en-US/docs/Web/HTTP/Basics_of_HTTP/MIME_types/Common_types for common types.\n",
    "\n",
    "In a file called extensions.py, implement a program that prompts the user for the name of a file and then outputs that file’s media type if the file’s name ends, case-insensitively, in any of these suffixes:\n",
    "\n",
    ".gif\n",
    ".jpg\n",
    ".jpeg\n",
    ".png\n",
    ".pdf\n",
    ".txt\n",
    ".zip\n",
    "If the file’s name ends with some other suffix or has no suffix at all, output application/octet-stream instead, which is a common default.\n",
    "```"
   ]
  },
  {
   "cell_type": "code",
   "execution_count": 21,
   "id": "7ac68432-8429-4376-be83-dc9689e541aa",
   "metadata": {},
   "outputs": [],
   "source": [
    "def file_extension():\n",
    "    text=input('File name:')\n",
    "    text,end=text.lower().split('.')\n",
    "    if end in ['gif','jpg','jpeg','png']:\n",
    "        print('image/',end,sep='')\n",
    "    elif end in ['pdf']:\n",
    "        print('application/',end,sep='')\n",
    "    elif end in ['txt']:\n",
    "        print('text/plain')\n",
    "    elif end in ['zip']:\n",
    "        print('application/',end,sep='')\n",
    "    else:\n",
    "        print('application/octet-stream')"
   ]
  },
  {
   "cell_type": "markdown",
   "id": "8717e9dc-a355-466e-908a-6ce1f52dc8fb",
   "metadata": {},
   "source": [
    "<h6>\n",
    "    Test Cases\n",
    "</h6>"
   ]
  },
  {
   "cell_type": "code",
   "execution_count": 22,
   "id": "9383ec5a-98b9-4d43-b73d-edc8cdc76527",
   "metadata": {},
   "outputs": [
    {
     "name": "stdin",
     "output_type": "stream",
     "text": [
      "File name: happy.jpeg\n"
     ]
    },
    {
     "name": "stdout",
     "output_type": "stream",
     "text": [
      "image/jpeg\n"
     ]
    }
   ],
   "source": [
    "file_extension()"
   ]
  },
  {
   "cell_type": "code",
   "execution_count": 23,
   "id": "7ccba25b-78d2-45ed-8aac-40687c249334",
   "metadata": {},
   "outputs": [
    {
     "name": "stdin",
     "output_type": "stream",
     "text": [
      "File name: document.pdf\n"
     ]
    },
    {
     "name": "stdout",
     "output_type": "stream",
     "text": [
      "application/pdf\n"
     ]
    }
   ],
   "source": [
    "file_extension()"
   ]
  },
  {
   "cell_type": "markdown",
   "id": "320dcf03-fef8-4e20-9767-80c56e65741e",
   "metadata": {},
   "source": [
    "<h4>\n",
    "    Math Interpreter\n",
    "</h4>"
   ]
  },
  {
   "cell_type": "markdown",
   "id": "98a38095-04ff-4131-af71-974dd626a9af",
   "metadata": {},
   "source": [
    "```sql\n",
    "Python already supports math, whereby you can write code to add, subtract, multiply, or divide values and even variables. But let’s write a program that enables users to do math, even without knowing Python.\n",
    "\n",
    "In a file called interpreter.py, implement a program that prompts the user for an arithmetic expression and then calculates and outputs the result as a floating-point value formatted to one decimal place. Assume that the user’s input will be formatted as x y z, with one space between x and y and one space between y and z, wherein:\n",
    "\n",
    "x is an integer\n",
    "y is +, -, *, or /\n",
    "z is an integer\n",
    "For instance, if the user inputs 1 + 1, your program should output 2.0. Assume that, if y is /, then z will not be 0.\n",
    "\n",
    "Note that, just as python itself is an interpreter for Python, so will your interpreter.py be an interpreter for math!\n",
    "```"
   ]
  },
  {
   "cell_type": "code",
   "execution_count": 36,
   "id": "41043388-bf55-4338-a07a-cb5d7eb1f072",
   "metadata": {},
   "outputs": [],
   "source": [
    "def interpreter():\n",
    "    exp=input('Expression: ')\n",
    "    x,y,z=exp.split(' ')\n",
    "    x=int(x)\n",
    "    z=int(z)\n",
    "\n",
    "    if y=='+':\n",
    "        return round((x+z)*1.0,1)\n",
    "    elif y=='-':\n",
    "        return round((x-z)*1.0,1)\n",
    "    elif y=='*':\n",
    "        return round((x*z)*1.0,1)\n",
    "    elif y=='/':\n",
    "        return round(x/(z*1.0),1)"
   ]
  },
  {
   "cell_type": "markdown",
   "id": "90855018-71f4-4cc0-b513-16b9e267cee5",
   "metadata": {},
   "source": [
    "<h6>\n",
    "    Test Cases\n",
    "</h6>"
   ]
  },
  {
   "cell_type": "code",
   "execution_count": 37,
   "id": "a4c22eb4-eb1f-4059-b2c9-e40731657429",
   "metadata": {},
   "outputs": [
    {
     "name": "stdin",
     "output_type": "stream",
     "text": [
      "Expression:  1 + 1\n"
     ]
    },
    {
     "data": {
      "text/plain": [
       "2.0"
      ]
     },
     "execution_count": 37,
     "metadata": {},
     "output_type": "execute_result"
    }
   ],
   "source": [
    "interpreter()"
   ]
  },
  {
   "cell_type": "code",
   "execution_count": 39,
   "id": "5b8acdb3-cf40-479d-924f-0a6ba1f56496",
   "metadata": {},
   "outputs": [
    {
     "name": "stdin",
     "output_type": "stream",
     "text": [
      "Expression:  2 - 3\n"
     ]
    },
    {
     "data": {
      "text/plain": [
       "-1.0"
      ]
     },
     "execution_count": 39,
     "metadata": {},
     "output_type": "execute_result"
    }
   ],
   "source": [
    "interpreter()"
   ]
  },
  {
   "cell_type": "code",
   "execution_count": 40,
   "id": "2a3244b0-ee05-44f3-9d61-610b46a27448",
   "metadata": {},
   "outputs": [
    {
     "name": "stdin",
     "output_type": "stream",
     "text": [
      "Expression:  2 * 2\n"
     ]
    },
    {
     "data": {
      "text/plain": [
       "4.0"
      ]
     },
     "execution_count": 40,
     "metadata": {},
     "output_type": "execute_result"
    }
   ],
   "source": [
    "interpreter()"
   ]
  },
  {
   "cell_type": "code",
   "execution_count": 41,
   "id": "dcedfae5-6fd4-4ffc-9dd4-25c9ed5e359d",
   "metadata": {},
   "outputs": [
    {
     "name": "stdin",
     "output_type": "stream",
     "text": [
      "Expression:  50 / 5\n"
     ]
    },
    {
     "data": {
      "text/plain": [
       "10.0"
      ]
     },
     "execution_count": 41,
     "metadata": {},
     "output_type": "execute_result"
    }
   ],
   "source": [
    "interpreter()"
   ]
  },
  {
   "cell_type": "markdown",
   "id": "deed00cf-c9a7-4b3c-8d82-ebb414b72f02",
   "metadata": {},
   "source": [
    "<h4>\n",
    "    Meal Time\n",
    "</h4>"
   ]
  },
  {
   "cell_type": "markdown",
   "id": "7336b96d-c7ad-423a-a6c4-792d175bbd97",
   "metadata": {},
   "source": [
    "```sql\n",
    "Suppose that you’re in a country where it’s customary to eat breakfast between 7:00 and 8:00, lunch between 12:00 and 13:00, and dinner between 18:00 and 19:00. Wouldn’t it be nice if you had a program that could tell you what to eat when?\n",
    "\n",
    "In meal.py, implement a program that prompts the user for a time and outputs whether it’s breakfast time, lunch time, or dinner time. If it’s not time for a meal, don’t output anything at all. Assume that the user’s input will be formatted in 24-hour time as #:## or ##:##. And assume that each meal’s time range is inclusive. For instance, whether it’s 7:00, 7:01, 7:59, or 8:00, or anytime in between, it’s time for breakfast.\n",
    "\n",
    "Structure your program per the below, wherein convert is a function (that can be called by main) that converts time, a str in 24-hour format, to the corresponding number of hours as a float. For instance, given a time like \"7:30\" (i.e., 7 hours and 30 minutes), convert should return 7.5 (i.e., 7.5 hours).\n",
    "```"
   ]
  },
  {
   "cell_type": "code",
   "execution_count": 43,
   "id": "ea040c82-253e-4f49-9558-7abb1d18ebb7",
   "metadata": {},
   "outputs": [
    {
     "name": "stdin",
     "output_type": "stream",
     "text": [
      "What time is it?  7:00\n"
     ]
    },
    {
     "name": "stdout",
     "output_type": "stream",
     "text": [
      "breakfast time\n"
     ]
    }
   ],
   "source": [
    "def main():\n",
    "    time = convert(input(\"What time is it? \"))\n",
    "    if time >=7.0 and time <=8.0:\n",
    "        print('breakfast time')\n",
    "    elif time >=12.0 and time <=13.0:\n",
    "        print('lunch time')\n",
    "    elif time >= 18.0 and time <= 19.0:\n",
    "        print('dinner time')\n",
    "\n",
    "\n",
    "def convert(t):\n",
    "    h,m=t.split(':')\n",
    "    return round(int(h) + int(m)/60.0,2)\n",
    "\n",
    "main()"
   ]
  },
  {
   "cell_type": "code",
   "execution_count": 44,
   "id": "53123df5-17bb-4fb3-aacf-914fa33ba3d9",
   "metadata": {},
   "outputs": [
    {
     "name": "stdin",
     "output_type": "stream",
     "text": [
      "What time is it?  7:30\n"
     ]
    },
    {
     "name": "stdout",
     "output_type": "stream",
     "text": [
      "breakfast time\n"
     ]
    }
   ],
   "source": [
    "main()"
   ]
  },
  {
   "cell_type": "code",
   "execution_count": 45,
   "id": "0fa270a4-49e0-43ea-b494-ad17b929bc07",
   "metadata": {},
   "outputs": [
    {
     "name": "stdin",
     "output_type": "stream",
     "text": [
      "What time is it?  12:42\n"
     ]
    },
    {
     "name": "stdout",
     "output_type": "stream",
     "text": [
      "lunch time\n"
     ]
    }
   ],
   "source": [
    "main()"
   ]
  },
  {
   "cell_type": "code",
   "execution_count": 46,
   "id": "3bfad901-dc1a-4949-906a-c804f7c6bd38",
   "metadata": {},
   "outputs": [
    {
     "name": "stdin",
     "output_type": "stream",
     "text": [
      "What time is it?  18:32\n"
     ]
    },
    {
     "name": "stdout",
     "output_type": "stream",
     "text": [
      "dinner time\n"
     ]
    }
   ],
   "source": [
    "main()"
   ]
  },
  {
   "cell_type": "code",
   "execution_count": 47,
   "id": "a9f18391-5f87-4616-9870-6469d8fe2b4b",
   "metadata": {},
   "outputs": [
    {
     "name": "stdin",
     "output_type": "stream",
     "text": [
      "What time is it?  11:11\n"
     ]
    }
   ],
   "source": [
    "main()"
   ]
  },
  {
   "cell_type": "markdown",
   "id": "02a7eca2-b6c4-4c07-b1e9-5a16f855542e",
   "metadata": {},
   "source": [
    "#### Challenge"
   ]
  },
  {
   "cell_type": "markdown",
   "id": "9d5a9855-402f-4a76-a9d9-ae04bb5d77a2",
   "metadata": {},
   "source": [
    "```sql\n",
    "If up for a challenge, optionally add support for 12-hour times, allowing the user to input times in these formats too:\n",
    "\n",
    "#:## a.m. and ##:## a.m.\n",
    "#:## p.m. and ##:## p.m.\n",
    "```"
   ]
  },
  {
   "cell_type": "code",
   "execution_count": 48,
   "id": "4fb74d32-c947-4f9f-939b-0647f2f0ecc1",
   "metadata": {},
   "outputs": [
    {
     "name": "stdin",
     "output_type": "stream",
     "text": [
      "What time is it?  11:45 a.m.\n"
     ]
    }
   ],
   "source": [
    "def main():\n",
    "    time = convert(input(\"What time is it? \"))\n",
    "    if time >=7.0 and time <=8.0:\n",
    "        print('breakfast time')\n",
    "    elif time >=12.0 and time <=13.0:\n",
    "        print('lunch time')\n",
    "    elif time >= 18.0 and time <= 19.0:\n",
    "        print('dinner time')\n",
    "\n",
    "\n",
    "def convert(t):\n",
    "    a,b=t.split(' ')\n",
    "    h,m=a.split(':')\n",
    "    \n",
    "    if b.lower()=='a.m.':\n",
    "        return round(int(h) + int(m)/60.0,2)\n",
    "    else:\n",
    "        return round(12+int(h) + int(m)/60.0,2)\n",
    "\n",
    "main()"
   ]
  },
  {
   "cell_type": "code",
   "execution_count": 49,
   "id": "98d6b82f-26d0-4919-8381-4e219fa86d4c",
   "metadata": {},
   "outputs": [
    {
     "name": "stdin",
     "output_type": "stream",
     "text": [
      "What time is it?  7:00 p.m.\n"
     ]
    },
    {
     "name": "stdout",
     "output_type": "stream",
     "text": [
      "dinner time\n"
     ]
    }
   ],
   "source": [
    "main()"
   ]
  },
  {
   "cell_type": "markdown",
   "id": "f54449db-5daa-4270-93fd-75c7633e9dfc",
   "metadata": {},
   "source": [
    "#### End"
   ]
  }
 ],
 "metadata": {
  "kernelspec": {
   "display_name": "Python 3 (ipykernel)",
   "language": "python",
   "name": "python3"
  },
  "language_info": {
   "codemirror_mode": {
    "name": "ipython",
    "version": 3
   },
   "file_extension": ".py",
   "mimetype": "text/x-python",
   "name": "python",
   "nbconvert_exporter": "python",
   "pygments_lexer": "ipython3",
   "version": "3.10.0"
  }
 },
 "nbformat": 4,
 "nbformat_minor": 5
}
