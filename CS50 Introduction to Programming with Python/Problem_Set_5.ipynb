{
 "cells": [
  {
   "cell_type": "markdown",
   "id": "07aecf41-885a-4f2e-8e9a-05ba4cc28bd2",
   "metadata": {},
   "source": [
    "<html>\n",
    "    <h1>\n",
    "        CS50’s Introduction to Programming with Python\n",
    "    </h1>\n",
    "    <p1>\n",
    "        These problem sets are available at: <a href=\"https://cs50.harvard.edu/python/psets/\">https://cs50.harvard.edu/python/psets/</a>\n",
    "    </p1>\n",
    " \n",
    "</html>"
   ]
  },
  {
   "cell_type": "markdown",
   "id": "85512480-9fb0-4439-ad35-70070a13da95",
   "metadata": {},
   "source": [
    "<h3>\n",
    "    Problem Set 5\n",
    "</h3>"
   ]
  },
  {
   "cell_type": "markdown",
   "id": "953b9384-98b5-436d-9ffa-f42087487218",
   "metadata": {},
   "source": [
    "<h4>\n",
    "    Testing my twttr\n",
    "</h4>"
   ]
  },
  {
   "cell_type": "markdown",
   "id": "93f09a0f-efb6-4d49-b324-f14508838db6",
   "metadata": {},
   "source": [
    "```sql\n",
    "In a file called twttr.py, reimplement Setting up my twttr from Problem Set 2, restructuring your code per the below, wherein shorten expects a str as input and returns that same str but with all vowels (A, E, I, O, and U) omitted, whether inputted in uppercase or lowercase.\n",
    "\n",
    "def main():\n",
    "    ...\n",
    "\n",
    "\n",
    "def shorten(word):\n",
    "    ...\n",
    "\n",
    "\n",
    "if __name__ == \"__main__\":\n",
    "    main()\n",
    "Then, in a file called test_twttr.py, implement one or more functions that collectively test your implementation of shorten thoroughly, each of whose names should begin with test_ so that you can execute your tests with:\n",
    "\n",
    "pytest test_twttr.py\n",
    "```"
   ]
  },
  {
   "cell_type": "code",
   "execution_count": null,
   "id": "5f23e714-0367-44f3-96d7-1369fc13a78a",
   "metadata": {},
   "outputs": [],
   "source": [
    "#Main Function\n",
    "def main():\n",
    "    text=input(\"Input:\")\n",
    "    print('Output:', shorten(text))\n",
    "    \n",
    "\n",
    "def shorten(text):\n",
    "    inp=list(text)\n",
    "    result=[]\n",
    "    ommit=['A','E','I','O','U','a','e','i','o','u']\n",
    "    for i in inp:\n",
    "        if i not in ommit:\n",
    "            result.append(i)\n",
    "    return ''.join(result)\n",
    "\n",
    "if __name__ == \"__main__\":\n",
    "    main()"
   ]
  },
  {
   "cell_type": "code",
   "execution_count": null,
   "id": "a6512f58-f2c8-41d7-ac72-482a27f186da",
   "metadata": {},
   "outputs": [],
   "source": [
    "#Test Function\n",
    "from ps5_twttr import shorten\n",
    "\n",
    "def main():\n",
    "    test_shorten()\n",
    "\n",
    "def test_shorten():\n",
    "    assert shorten('Twitter') == 'Twttr'\n",
    "    assert shorten('Ram') == 'Rm'\n",
    "    assert shorten('Eyebrow') == 'ybrw'"
   ]
  },
  {
   "cell_type": "code",
   "execution_count": null,
   "id": "333044d9-e3e8-49cb-b33c-a7686c2e8440",
   "metadata": {},
   "outputs": [],
   "source": [
    "pytest test_ps5_twttr.py"
   ]
  },
  {
   "cell_type": "markdown",
   "id": "e4e93d1a-2903-4750-bc4f-be24e9e10732",
   "metadata": {},
   "source": [
    "<h4>\n",
    "    Home Federal Savings Bank\n",
    "</h4>"
   ]
  },
  {
   "cell_type": "markdown",
   "id": "98fdb793-5e42-4dc4-9407-b2b4bcb1aea5",
   "metadata": {},
   "source": [
    "```sql\n",
    "In a file called bank.py, reimplement Home Federal Savings Bank from Problem Set 1, restructuring your code per the below, wherein value expects a str as input and returns an int, namely 0 if that str starts with “hello”, 20 if that str starts with an “h” (but not “hello”), or 100 otherwise, treating the str case-insensitively. You can assume that the string passed to the value function will not contain any leading spaces. Only main should call print.\n",
    "\n",
    "def main():\n",
    "    ...\n",
    "\n",
    "\n",
    "def value(greeting):\n",
    "    ...\n",
    "\n",
    "\n",
    "if __name__ == \"__main__\":\n",
    "    main()\n",
    "Then, in a file called test_bank.py, implement three or more functions that collectively test your implementation of value thoroughly, each of whose names should begin with test_ so that you can execute your tests with:\n",
    "\n",
    "pytest test_bank.py\n",
    "```"
   ]
  },
  {
   "cell_type": "code",
   "execution_count": null,
   "id": "4a8793c3-af39-4953-8a6d-d357f248e886",
   "metadata": {},
   "outputs": [],
   "source": [
    "def main():\n",
    "    text=input('Greeting:')\n",
    "    print(f'${value(text)}')\n",
    "\n",
    "\n",
    "def value(greeting):\n",
    "    if text.lower().strip()[0:5]=='hello':\n",
    "        return 0\n",
    "    elif text.lower().strip()[0]=='h':\n",
    "        return 20\n",
    "    else:\n",
    "        return 100\n",
    "\n",
    "\n",
    "if __name__ == \"__main__\":\n",
    "    main()"
   ]
  },
  {
   "cell_type": "code",
   "execution_count": null,
   "id": "8b33296e-0ee0-41f5-9141-e0ff358ac90c",
   "metadata": {},
   "outputs": [],
   "source": [
    "#Test Function\n",
    "from ps5_greetings import value\n",
    "\n",
    "def main():\n",
    "    test_value_hello()\n",
    "    test_value_h()\n",
    "    test_value_rest()\n",
    "\n",
    "def test_value_hello():\n",
    "    assert value('Hello David') == 0\n",
    "    assert value('heLLo, Ramji') == 0\n",
    "    assert value('hELLO!') == 0\n",
    "\n",
    "def test_value_h():\n",
    "    assert value('Hi David') == 20\n",
    "    assert value('Hurray') == 20\n",
    "    assert value('him') == 20\n",
    "\n",
    "def test_value_rest():\n",
    "    assert value('David') == 100\n",
    "    assert value('Good bye') == 100\n",
    "    assert value('Namaskaram!') == 100"
   ]
  },
  {
   "cell_type": "markdown",
   "id": "f54449db-5daa-4270-93fd-75c7633e9dfc",
   "metadata": {},
   "source": [
    "#### End"
   ]
  }
 ],
 "metadata": {
  "kernelspec": {
   "display_name": "Python 3 (ipykernel)",
   "language": "python",
   "name": "python3"
  },
  "language_info": {
   "codemirror_mode": {
    "name": "ipython",
    "version": 3
   },
   "file_extension": ".py",
   "mimetype": "text/x-python",
   "name": "python",
   "nbconvert_exporter": "python",
   "pygments_lexer": "ipython3",
   "version": "3.10.0"
  }
 },
 "nbformat": 4,
 "nbformat_minor": 5
}
