{
 "cells": [
  {
   "cell_type": "markdown",
   "id": "07aecf41-885a-4f2e-8e9a-05ba4cc28bd2",
   "metadata": {},
   "source": [
    "<html>\n",
    "    <h1>\n",
    "        CS50’s Introduction to Programming with Python\n",
    "    </h1>\n",
    "    <p1>\n",
    "        These problem sets are available at: <a href=\"https://cs50.harvard.edu/python/psets/\">https://cs50.harvard.edu/python/psets/</a>\n",
    "    </p1>\n",
    " \n",
    "</html>"
   ]
  },
  {
   "cell_type": "markdown",
   "id": "85512480-9fb0-4439-ad35-70070a13da95",
   "metadata": {},
   "source": [
    "<h3>\n",
    "    Problem Set 5\n",
    "</h3>"
   ]
  },
  {
   "cell_type": "markdown",
   "id": "953b9384-98b5-436d-9ffa-f42087487218",
   "metadata": {},
   "source": [
    "<h4>\n",
    "    Testing my twttr\n",
    "</h4>"
   ]
  },
  {
   "cell_type": "markdown",
   "id": "93f09a0f-efb6-4d49-b324-f14508838db6",
   "metadata": {},
   "source": [
    "```sql\n",
    "In a file called twttr.py, reimplement Setting up my twttr from Problem Set 2, restructuring your code per the below, wherein shorten expects a str as input and returns that same str but with all vowels (A, E, I, O, and U) omitted, whether inputted in uppercase or lowercase.\n",
    "\n",
    "def main():\n",
    "    ...\n",
    "\n",
    "\n",
    "def shorten(word):\n",
    "    ...\n",
    "\n",
    "\n",
    "if __name__ == \"__main__\":\n",
    "    main()\n",
    "Then, in a file called test_twttr.py, implement one or more functions that collectively test your implementation of shorten thoroughly, each of whose names should begin with test_ so that you can execute your tests with:\n",
    "\n",
    "pytest test_twttr.py\n",
    "```"
   ]
  },
  {
   "cell_type": "code",
   "execution_count": null,
   "id": "5f23e714-0367-44f3-96d7-1369fc13a78a",
   "metadata": {},
   "outputs": [],
   "source": [
    "#Main Function\n",
    "def main():\n",
    "    text=input(\"Input:\")\n",
    "    print('Output:', shorten(text))\n",
    "    \n",
    "\n",
    "def shorten(text):\n",
    "    inp=list(text)\n",
    "    result=[]\n",
    "    ommit=['A','E','I','O','U','a','e','i','o','u']\n",
    "    for i in inp:\n",
    "        if i not in ommit:\n",
    "            result.append(i)\n",
    "    return ''.join(result)\n",
    "\n",
    "if __name__ == \"__main__\":\n",
    "    main()"
   ]
  },
  {
   "cell_type": "code",
   "execution_count": null,
   "id": "a6512f58-f2c8-41d7-ac72-482a27f186da",
   "metadata": {},
   "outputs": [],
   "source": [
    "#Test Function\n",
    "from ps5_twttr import shorten\n",
    "\n",
    "def main():\n",
    "    test_shorten()\n",
    "\n",
    "def test_shorten():\n",
    "    assert shorten('Twitter') == 'Twttr'\n",
    "    assert shorten('Ram') == 'Rm'\n",
    "    assert shorten('Eyebrow') == 'ybrw'"
   ]
  },
  {
   "cell_type": "code",
   "execution_count": null,
   "id": "333044d9-e3e8-49cb-b33c-a7686c2e8440",
   "metadata": {},
   "outputs": [],
   "source": [
    "pytest test_ps5_twttr.py"
   ]
  },
  {
   "cell_type": "markdown",
   "id": "e4e93d1a-2903-4750-bc4f-be24e9e10732",
   "metadata": {},
   "source": [
    "<h4>\n",
    "    Home Federal Savings Bank\n",
    "</h4>"
   ]
  },
  {
   "cell_type": "markdown",
   "id": "98fdb793-5e42-4dc4-9407-b2b4bcb1aea5",
   "metadata": {},
   "source": [
    "```sql\n",
    "In a file called bank.py, reimplement Home Federal Savings Bank from Problem Set 1, restructuring your code per the below, wherein value expects a str as input and returns an int, namely 0 if that str starts with “hello”, 20 if that str starts with an “h” (but not “hello”), or 100 otherwise, treating the str case-insensitively. You can assume that the string passed to the value function will not contain any leading spaces. Only main should call print.\n",
    "\n",
    "def main():\n",
    "    ...\n",
    "\n",
    "\n",
    "def value(greeting):\n",
    "    ...\n",
    "\n",
    "\n",
    "if __name__ == \"__main__\":\n",
    "    main()\n",
    "Then, in a file called test_bank.py, implement three or more functions that collectively test your implementation of value thoroughly, each of whose names should begin with test_ so that you can execute your tests with:\n",
    "\n",
    "pytest test_bank.py\n",
    "```"
   ]
  },
  {
   "cell_type": "code",
   "execution_count": null,
   "id": "4a8793c3-af39-4953-8a6d-d357f248e886",
   "metadata": {},
   "outputs": [],
   "source": [
    "def main():\n",
    "    text=input('Greeting:')\n",
    "    print(f'${value(text)}')\n",
    "\n",
    "\n",
    "def value(greeting):\n",
    "    if text.lower().strip()[0:5]=='hello':\n",
    "        return 0\n",
    "    elif text.lower().strip()[0]=='h':\n",
    "        return 20\n",
    "    else:\n",
    "        return 100\n",
    "\n",
    "\n",
    "if __name__ == \"__main__\":\n",
    "    main()"
   ]
  },
  {
   "cell_type": "code",
   "execution_count": null,
   "id": "8b33296e-0ee0-41f5-9141-e0ff358ac90c",
   "metadata": {},
   "outputs": [],
   "source": [
    "#Test Function\n",
    "from ps5_greetings import value\n",
    "\n",
    "def main():\n",
    "    test_value_hello()\n",
    "    test_value_h()\n",
    "    test_value_rest()\n",
    "\n",
    "def test_value_hello():\n",
    "    assert value('Hello David') == 0\n",
    "    assert value('heLLo, Ramji') == 0\n",
    "    assert value('hELLO!') == 0\n",
    "\n",
    "def test_value_h():\n",
    "    assert value('Hi David') == 20\n",
    "    assert value('Hurray') == 20\n",
    "    assert value('him') == 20\n",
    "\n",
    "def test_value_rest():\n",
    "    assert value('David') == 100\n",
    "    assert value('Good bye') == 100\n",
    "    assert value('Namaskaram!') == 100"
   ]
  },
  {
   "cell_type": "markdown",
   "id": "a3b9790d-ca54-430a-895f-7f1d64ad6441",
   "metadata": {},
   "source": [
    "<h3>\n",
    "    Vanity Plate\n",
    "</h3>"
   ]
  },
  {
   "cell_type": "markdown",
   "id": "0c6527cd-5cab-419b-b1f5-9a42656bdd13",
   "metadata": {},
   "source": [
    "```sql\n",
    "In a file called plates.py, reimplement Vanity Plates from Problem Set 2, restructuring your code per the below, wherein is_valid still expects a str as input and returns True if that str meets all requirements and False if it does not, but main is only called if the value of __name__ is \"__main__\":\n",
    "\n",
    "def main():\n",
    "    ...\n",
    "\n",
    "\n",
    "def is_valid(s):\n",
    "    ...\n",
    "\n",
    "\n",
    "if __name__ == \"__main__\":\n",
    "    main()\n",
    "Then, in a file called test_plates.py, implement four or more functions that collectively test your implementation of is_valid thoroughly, each of whose names should begin with test_ so that you can execute your tests with:\n",
    "\n",
    "pytest test_plates.py\n",
    "```"
   ]
  },
  {
   "cell_type": "code",
   "execution_count": null,
   "id": "fa23730a-eb61-473d-b389-721bd7e07bf3",
   "metadata": {},
   "outputs": [],
   "source": [
    "import re\n",
    "import string\n",
    "\n",
    "def main():\n",
    "    plate = input(\"Plate: \")\n",
    "    if is_valid(plate):\n",
    "        print(\"Valid\")\n",
    "    else:\n",
    "        print(\"Invalid\")\n",
    "\n",
    "\n",
    "def is_valid(s):\n",
    "    if len(s)<=6 and len(s)>=2:\n",
    "        c2=(s[0].isalpha()) and s[1].isalpha()\n",
    "        c3=((not s[-1].isalpha()) and int(re.search(r'\\d{1}',s).group())!=0) if re.search(r'\\d{1}',s) else False\n",
    "        c4=False if re.search(rf'[{re.escape(string.punctuation)} .]', s) else True\n",
    "        return c2 and c3 and c4\n",
    "    return False\n",
    "\n",
    "\n",
    "if __name__ == \"__main__\":\n",
    "    main()"
   ]
  },
  {
   "cell_type": "code",
   "execution_count": null,
   "id": "26d736aa-0d51-4e81-b65e-3fe838d52df6",
   "metadata": {},
   "outputs": [],
   "source": [
    "#Test Function\n",
    "from ps5_vanity import is_valid\n",
    "\n",
    "def main():\n",
    "    test_value_length()\n",
    "    test_value_firsttwoalpha()\n",
    "    test_value_rest()\n",
    "\n",
    "def test_value_length():\n",
    "    assert is_valid('ABCDEFGH') == False\n",
    "    assert is_valid('A') == False\n",
    "    assert is_valid('AAA222') == True\n",
    "\n",
    "def test_value_firsttwoalpha():\n",
    "    assert is_valid('12CDEF') == False\n",
    "    assert is_valid('AB2DEF') == False\n",
    "    assert is_valid('AA2222') == True\n",
    "\n",
    "def test_value_num():\n",
    "    assert is_valid('ABCDEF') == False\n",
    "    assert is_valid('A01234') == False\n",
    "    assert is_valid('AB234B') == False\n",
    "    assert is_valid('AB1995') == True\n",
    "\n",
    "def test_value_sps():\n",
    "    assert is_valid('AB 995') == False\n",
    "    assert is_valid('AB23.B') == False\n",
    "    assert is_valid('ABCD95') == True"
   ]
  },
  {
   "cell_type": "markdown",
   "id": "6e9e85ca-066d-4003-9f20-d34e5fa99a6c",
   "metadata": {},
   "source": [
    "<h3>\n",
    "    Fuel Guage    \n",
    "</h3>"
   ]
  },
  {
   "cell_type": "markdown",
   "id": "2eebf366-4932-4326-9812-1ab68a393c42",
   "metadata": {},
   "source": [
    "```sql\n",
    "In a file called fuel.py, reimplement Fuel Gauge from Problem Set 3, restructuring your code per the below, wherein:\n",
    "\n",
    "convert expects a str in X/Y format as input, wherein each of X and Y is a positive integer, and returns that fraction as a percentage rounded to the nearest int between 0 and 100, inclusive. If X and/or Y is not an integer, or if X is greater than Y, then convert should raise a ValueError. If Y is 0, then convert should raise a ZeroDivisionError.\n",
    "gauge expects an int and returns a str that is:\n",
    "\"E\" if that int is less than or equal to 1,\n",
    "\"F\" if that int is greater than or equal to 99,\n",
    "and \"Z%\" otherwise, wherein Z is that same int.\n",
    "def main():\n",
    "    ...\n",
    "\n",
    "\n",
    "def convert(fraction):\n",
    "    ...\n",
    "\n",
    "\n",
    "def gauge(percentage):\n",
    "    ...\n",
    "\n",
    "\n",
    "if __name__ == \"__main__\":\n",
    "    main()\n",
    "Then, in a file called test_fuel.py, implement two or more functions that collectively test your implementations of convert and gauge thoroughly, each of whose names should begin with test_ so that you can execute your tests with:\n",
    "\n",
    "pytest test_fuel.py\n",
    "```"
   ]
  },
  {
   "cell_type": "code",
   "execution_count": null,
   "id": "4429a752-1a86-4e12-9d2b-9fd3bf8cebcd",
   "metadata": {},
   "outputs": [],
   "source": [
    "def main():\n",
    "    fraction=input('Fraction: ')\n",
    "    print(gauge(convert(fraction)))\n",
    "\n",
    "\n",
    "def convert(fraction):\n",
    "    x1=0\n",
    "    y1=0\n",
    "    while True:\n",
    "        try:\n",
    "            X,Y=fraction.split(\"/\")\n",
    "            x1=int(X)\n",
    "            y1=int(Y)\n",
    "            if x1>y1 or y1==0 or x1<0 or y1<0:\n",
    "                raise ValueError\n",
    "            else:\n",
    "                return int(x1/float(y1)*100)\n",
    "                break\n",
    "        except (ValueError,ZeroDivisionError):\n",
    "            pass\n",
    "\n",
    "\n",
    "def gauge(percentage):\n",
    "    if percentage>= 99 and percentage<= 100:\n",
    "        return 'F'\n",
    "    elif percentage>= 0 and percentage<=1:\n",
    "        return 'E'\n",
    "    elif percentage>1 and percentage<99:\n",
    "        return f'{percentage}%'\n",
    "\n",
    "\n",
    "if __name__ == \"__main__\":\n",
    "    main()"
   ]
  },
  {
   "cell_type": "code",
   "execution_count": null,
   "id": "0ca9eea4-6ea2-418f-aff7-389b02ed61e5",
   "metadata": {},
   "outputs": [],
   "source": [
    "#Test Function\n",
    "from ps5_fuel import convert, gauge\n",
    "\n",
    "def main():\n",
    "    test_convert()\n",
    "    test_gauge()\n",
    "\n",
    "def test_convert():\n",
    "    assert convert('4/5') == 80\n",
    "    assert convert('0/5') == 0\n",
    "    assert convert('5/5') == 100\n",
    "\n",
    "def test_gauge():\n",
    "    assert gauge(1) == 'E'\n",
    "    assert gauge(99) == 'F'\n",
    "    assert gauge(82) == '82%'"
   ]
  },
  {
   "cell_type": "markdown",
   "id": "f54449db-5daa-4270-93fd-75c7633e9dfc",
   "metadata": {},
   "source": [
    "#### End"
   ]
  }
 ],
 "metadata": {
  "kernelspec": {
   "display_name": "Python 3 (ipykernel)",
   "language": "python",
   "name": "python3"
  },
  "language_info": {
   "codemirror_mode": {
    "name": "ipython",
    "version": 3
   },
   "file_extension": ".py",
   "mimetype": "text/x-python",
   "name": "python",
   "nbconvert_exporter": "python",
   "pygments_lexer": "ipython3",
   "version": "3.10.0"
  }
 },
 "nbformat": 4,
 "nbformat_minor": 5
}
